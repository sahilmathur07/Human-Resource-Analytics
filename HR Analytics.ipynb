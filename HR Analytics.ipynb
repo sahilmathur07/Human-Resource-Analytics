{
 "cells": [
  {
   "cell_type": "markdown",
   "metadata": {},
   "source": [
    "Table of Content\n",
    "\n",
    "1. Import Required Libraries\n",
    "2. Load Data\n",
    "3. Drop Employee id column\n",
    "4. Data information\n",
    "5. Data Cleaning\n",
    "6. Check Outliers\n",
    "7. EDA\n",
    "    1. Univariant Analysis\n",
    "    2. Check Distribution of target variable\n",
    "    3. Bivariant Analysis\n",
    "    4. Multivariant Analysis\n",
    "    5. Coreelation map\n",
    "8. Encode categorical variables\n",
    "9. splitting data into train and test\n",
    "10. Base line models\n",
    "    1. Logistic Rgression\n",
    "    2. Ada Boost Classifier\n",
    "    3. Random Forest Classifier\n",
    "    4. Stacking Classifier\n",
    "    5. XGBoost Classifier\n",
    "    6. KNeighbors Classifier\n",
    "11. Balancing the data and Building model again\n",
    "    Balance data using smotetomek\n",
    "    1. Logistic Rgression\n",
    "    2. Ada Boost Classifier\n",
    "    3. Random Forest Classifier\n",
    "    4. Stacking Classifier\n",
    "    5. XGBoost Classifier\n",
    "    6. KNeighbors Classifier\n",
    "12. Cross validation(On best two models)\n",
    "13. Feature Selection\n",
    "14. Hyper parameter tuning\n",
    "15. Creating submission file\n",
    "16. Best Model"
   ]
  },
  {
   "cell_type": "markdown",
   "metadata": {},
   "source": [
    "# Import Required Libraries"
   ]
  },
  {
   "cell_type": "code",
   "execution_count": 37,
   "metadata": {},
   "outputs": [],
   "source": [
    "import pandas as pd\n",
    "import numpy as np\n",
    "import seaborn as sns\n",
    "from matplotlib import pyplot as plt\n",
    "from sklearn.linear_model import LogisticRegression\n",
    "from sklearn.ensemble import RandomForestClassifier, StackingClassifier, GradientBoostingClassifier, VotingClassifier\n",
    "from sklearn.neighbors import KNeighborsClassifier\n",
    "from sklearn.preprocessing import OneHotEncoder, LabelEncoder\n",
    "from sklearn.model_selection import train_test_split, RandomizedSearchCV\n",
    "from sklearn.metrics import classification_report, f1_score\n",
    "from sklearn.feature_selection import SelectFromModel\n",
    "from xgboost import XGBClassifier\n",
    "from imblearn.combine import SMOTETomek\n",
    "from sklearn.model_selection import cross_val_score\n",
    "from statsmodels.stats.outliers_influence import variance_inflation_factor\n",
    "from statsmodels import api as sm"
   ]
  },
  {
   "cell_type": "markdown",
   "metadata": {},
   "source": [
    "# Load Data"
   ]
  },
  {
   "cell_type": "code",
   "execution_count": 38,
   "metadata": {
    "scrolled": true
   },
   "outputs": [
    {
     "data": {
      "text/html": [
       "<div>\n",
       "<style scoped>\n",
       "    .dataframe tbody tr th:only-of-type {\n",
       "        vertical-align: middle;\n",
       "    }\n",
       "\n",
       "    .dataframe tbody tr th {\n",
       "        vertical-align: top;\n",
       "    }\n",
       "\n",
       "    .dataframe thead th {\n",
       "        text-align: right;\n",
       "    }\n",
       "</style>\n",
       "<table border=\"1\" class=\"dataframe\">\n",
       "  <thead>\n",
       "    <tr style=\"text-align: right;\">\n",
       "      <th></th>\n",
       "      <th>employee_id</th>\n",
       "      <th>department</th>\n",
       "      <th>region</th>\n",
       "      <th>education</th>\n",
       "      <th>gender</th>\n",
       "      <th>recruitment_channel</th>\n",
       "      <th>no_of_trainings</th>\n",
       "      <th>age</th>\n",
       "      <th>previous_year_rating</th>\n",
       "      <th>length_of_service</th>\n",
       "      <th>KPIs_met &gt;80%</th>\n",
       "      <th>awards_won?</th>\n",
       "      <th>avg_training_score</th>\n",
       "      <th>is_promoted</th>\n",
       "    </tr>\n",
       "  </thead>\n",
       "  <tbody>\n",
       "    <tr>\n",
       "      <th>0</th>\n",
       "      <td>65438</td>\n",
       "      <td>Sales &amp; Marketing</td>\n",
       "      <td>region_7</td>\n",
       "      <td>Master's &amp; above</td>\n",
       "      <td>f</td>\n",
       "      <td>sourcing</td>\n",
       "      <td>1</td>\n",
       "      <td>35</td>\n",
       "      <td>5.0</td>\n",
       "      <td>8</td>\n",
       "      <td>1</td>\n",
       "      <td>0</td>\n",
       "      <td>49</td>\n",
       "      <td>0</td>\n",
       "    </tr>\n",
       "    <tr>\n",
       "      <th>1</th>\n",
       "      <td>65141</td>\n",
       "      <td>Operations</td>\n",
       "      <td>region_22</td>\n",
       "      <td>Bachelor's</td>\n",
       "      <td>m</td>\n",
       "      <td>other</td>\n",
       "      <td>1</td>\n",
       "      <td>30</td>\n",
       "      <td>5.0</td>\n",
       "      <td>4</td>\n",
       "      <td>0</td>\n",
       "      <td>0</td>\n",
       "      <td>60</td>\n",
       "      <td>0</td>\n",
       "    </tr>\n",
       "    <tr>\n",
       "      <th>2</th>\n",
       "      <td>7513</td>\n",
       "      <td>Sales &amp; Marketing</td>\n",
       "      <td>region_19</td>\n",
       "      <td>Bachelor's</td>\n",
       "      <td>m</td>\n",
       "      <td>sourcing</td>\n",
       "      <td>1</td>\n",
       "      <td>34</td>\n",
       "      <td>3.0</td>\n",
       "      <td>7</td>\n",
       "      <td>0</td>\n",
       "      <td>0</td>\n",
       "      <td>50</td>\n",
       "      <td>0</td>\n",
       "    </tr>\n",
       "    <tr>\n",
       "      <th>3</th>\n",
       "      <td>2542</td>\n",
       "      <td>Sales &amp; Marketing</td>\n",
       "      <td>region_23</td>\n",
       "      <td>Bachelor's</td>\n",
       "      <td>m</td>\n",
       "      <td>other</td>\n",
       "      <td>2</td>\n",
       "      <td>39</td>\n",
       "      <td>1.0</td>\n",
       "      <td>10</td>\n",
       "      <td>0</td>\n",
       "      <td>0</td>\n",
       "      <td>50</td>\n",
       "      <td>0</td>\n",
       "    </tr>\n",
       "    <tr>\n",
       "      <th>4</th>\n",
       "      <td>48945</td>\n",
       "      <td>Technology</td>\n",
       "      <td>region_26</td>\n",
       "      <td>Bachelor's</td>\n",
       "      <td>m</td>\n",
       "      <td>other</td>\n",
       "      <td>1</td>\n",
       "      <td>45</td>\n",
       "      <td>3.0</td>\n",
       "      <td>2</td>\n",
       "      <td>0</td>\n",
       "      <td>0</td>\n",
       "      <td>73</td>\n",
       "      <td>0</td>\n",
       "    </tr>\n",
       "  </tbody>\n",
       "</table>\n",
       "</div>"
      ],
      "text/plain": [
       "   employee_id         department     region         education gender  \\\n",
       "0        65438  Sales & Marketing   region_7  Master's & above      f   \n",
       "1        65141         Operations  region_22        Bachelor's      m   \n",
       "2         7513  Sales & Marketing  region_19        Bachelor's      m   \n",
       "3         2542  Sales & Marketing  region_23        Bachelor's      m   \n",
       "4        48945         Technology  region_26        Bachelor's      m   \n",
       "\n",
       "  recruitment_channel  no_of_trainings  age  previous_year_rating  \\\n",
       "0            sourcing                1   35                   5.0   \n",
       "1               other                1   30                   5.0   \n",
       "2            sourcing                1   34                   3.0   \n",
       "3               other                2   39                   1.0   \n",
       "4               other                1   45                   3.0   \n",
       "\n",
       "   length_of_service  KPIs_met >80%  awards_won?  avg_training_score  \\\n",
       "0                  8              1            0                  49   \n",
       "1                  4              0            0                  60   \n",
       "2                  7              0            0                  50   \n",
       "3                 10              0            0                  50   \n",
       "4                  2              0            0                  73   \n",
       "\n",
       "   is_promoted  \n",
       "0            0  \n",
       "1            0  \n",
       "2            0  \n",
       "3            0  \n",
       "4            0  "
      ]
     },
     "execution_count": 38,
     "metadata": {},
     "output_type": "execute_result"
    }
   ],
   "source": [
    "train = pd.read_csv('train_LZdllcl.csv')\n",
    "train.head()"
   ]
  },
  {
   "cell_type": "code",
   "execution_count": 39,
   "metadata": {},
   "outputs": [
    {
     "data": {
      "text/html": [
       "<div>\n",
       "<style scoped>\n",
       "    .dataframe tbody tr th:only-of-type {\n",
       "        vertical-align: middle;\n",
       "    }\n",
       "\n",
       "    .dataframe tbody tr th {\n",
       "        vertical-align: top;\n",
       "    }\n",
       "\n",
       "    .dataframe thead th {\n",
       "        text-align: right;\n",
       "    }\n",
       "</style>\n",
       "<table border=\"1\" class=\"dataframe\">\n",
       "  <thead>\n",
       "    <tr style=\"text-align: right;\">\n",
       "      <th></th>\n",
       "      <th>employee_id</th>\n",
       "      <th>department</th>\n",
       "      <th>region</th>\n",
       "      <th>education</th>\n",
       "      <th>gender</th>\n",
       "      <th>recruitment_channel</th>\n",
       "      <th>no_of_trainings</th>\n",
       "      <th>age</th>\n",
       "      <th>previous_year_rating</th>\n",
       "      <th>length_of_service</th>\n",
       "      <th>KPIs_met &gt;80%</th>\n",
       "      <th>awards_won?</th>\n",
       "      <th>avg_training_score</th>\n",
       "    </tr>\n",
       "  </thead>\n",
       "  <tbody>\n",
       "    <tr>\n",
       "      <th>0</th>\n",
       "      <td>8724</td>\n",
       "      <td>Technology</td>\n",
       "      <td>region_26</td>\n",
       "      <td>Bachelor's</td>\n",
       "      <td>m</td>\n",
       "      <td>sourcing</td>\n",
       "      <td>1</td>\n",
       "      <td>24</td>\n",
       "      <td>NaN</td>\n",
       "      <td>1</td>\n",
       "      <td>1</td>\n",
       "      <td>0</td>\n",
       "      <td>77</td>\n",
       "    </tr>\n",
       "    <tr>\n",
       "      <th>1</th>\n",
       "      <td>74430</td>\n",
       "      <td>HR</td>\n",
       "      <td>region_4</td>\n",
       "      <td>Bachelor's</td>\n",
       "      <td>f</td>\n",
       "      <td>other</td>\n",
       "      <td>1</td>\n",
       "      <td>31</td>\n",
       "      <td>3.0</td>\n",
       "      <td>5</td>\n",
       "      <td>0</td>\n",
       "      <td>0</td>\n",
       "      <td>51</td>\n",
       "    </tr>\n",
       "    <tr>\n",
       "      <th>2</th>\n",
       "      <td>72255</td>\n",
       "      <td>Sales &amp; Marketing</td>\n",
       "      <td>region_13</td>\n",
       "      <td>Bachelor's</td>\n",
       "      <td>m</td>\n",
       "      <td>other</td>\n",
       "      <td>1</td>\n",
       "      <td>31</td>\n",
       "      <td>1.0</td>\n",
       "      <td>4</td>\n",
       "      <td>0</td>\n",
       "      <td>0</td>\n",
       "      <td>47</td>\n",
       "    </tr>\n",
       "    <tr>\n",
       "      <th>3</th>\n",
       "      <td>38562</td>\n",
       "      <td>Procurement</td>\n",
       "      <td>region_2</td>\n",
       "      <td>Bachelor's</td>\n",
       "      <td>f</td>\n",
       "      <td>other</td>\n",
       "      <td>3</td>\n",
       "      <td>31</td>\n",
       "      <td>2.0</td>\n",
       "      <td>9</td>\n",
       "      <td>0</td>\n",
       "      <td>0</td>\n",
       "      <td>65</td>\n",
       "    </tr>\n",
       "    <tr>\n",
       "      <th>4</th>\n",
       "      <td>64486</td>\n",
       "      <td>Finance</td>\n",
       "      <td>region_29</td>\n",
       "      <td>Bachelor's</td>\n",
       "      <td>m</td>\n",
       "      <td>sourcing</td>\n",
       "      <td>1</td>\n",
       "      <td>30</td>\n",
       "      <td>4.0</td>\n",
       "      <td>7</td>\n",
       "      <td>0</td>\n",
       "      <td>0</td>\n",
       "      <td>61</td>\n",
       "    </tr>\n",
       "  </tbody>\n",
       "</table>\n",
       "</div>"
      ],
      "text/plain": [
       "   employee_id         department     region   education gender  \\\n",
       "0         8724         Technology  region_26  Bachelor's      m   \n",
       "1        74430                 HR   region_4  Bachelor's      f   \n",
       "2        72255  Sales & Marketing  region_13  Bachelor's      m   \n",
       "3        38562        Procurement   region_2  Bachelor's      f   \n",
       "4        64486            Finance  region_29  Bachelor's      m   \n",
       "\n",
       "  recruitment_channel  no_of_trainings  age  previous_year_rating  \\\n",
       "0            sourcing                1   24                   NaN   \n",
       "1               other                1   31                   3.0   \n",
       "2               other                1   31                   1.0   \n",
       "3               other                3   31                   2.0   \n",
       "4            sourcing                1   30                   4.0   \n",
       "\n",
       "   length_of_service  KPIs_met >80%  awards_won?  avg_training_score  \n",
       "0                  1              1            0                  77  \n",
       "1                  5              0            0                  51  \n",
       "2                  4              0            0                  47  \n",
       "3                  9              0            0                  65  \n",
       "4                  7              0            0                  61  "
      ]
     },
     "execution_count": 39,
     "metadata": {},
     "output_type": "execute_result"
    }
   ],
   "source": [
    "test = pd.read_csv('test_2umaH9m.csv')\n",
    "test.head()"
   ]
  },
  {
   "cell_type": "code",
   "execution_count": 40,
   "metadata": {},
   "outputs": [
    {
     "data": {
      "text/html": [
       "<div>\n",
       "<style scoped>\n",
       "    .dataframe tbody tr th:only-of-type {\n",
       "        vertical-align: middle;\n",
       "    }\n",
       "\n",
       "    .dataframe tbody tr th {\n",
       "        vertical-align: top;\n",
       "    }\n",
       "\n",
       "    .dataframe thead th {\n",
       "        text-align: right;\n",
       "    }\n",
       "</style>\n",
       "<table border=\"1\" class=\"dataframe\">\n",
       "  <thead>\n",
       "    <tr style=\"text-align: right;\">\n",
       "      <th></th>\n",
       "      <th>employee_id</th>\n",
       "      <th>is_promoted</th>\n",
       "    </tr>\n",
       "  </thead>\n",
       "  <tbody>\n",
       "    <tr>\n",
       "      <th>0</th>\n",
       "      <td>8724</td>\n",
       "      <td>0</td>\n",
       "    </tr>\n",
       "    <tr>\n",
       "      <th>1</th>\n",
       "      <td>74430</td>\n",
       "      <td>0</td>\n",
       "    </tr>\n",
       "    <tr>\n",
       "      <th>2</th>\n",
       "      <td>72255</td>\n",
       "      <td>0</td>\n",
       "    </tr>\n",
       "    <tr>\n",
       "      <th>3</th>\n",
       "      <td>38562</td>\n",
       "      <td>0</td>\n",
       "    </tr>\n",
       "    <tr>\n",
       "      <th>4</th>\n",
       "      <td>64486</td>\n",
       "      <td>0</td>\n",
       "    </tr>\n",
       "  </tbody>\n",
       "</table>\n",
       "</div>"
      ],
      "text/plain": [
       "   employee_id  is_promoted\n",
       "0         8724            0\n",
       "1        74430            0\n",
       "2        72255            0\n",
       "3        38562            0\n",
       "4        64486            0"
      ]
     },
     "execution_count": 40,
     "metadata": {},
     "output_type": "execute_result"
    }
   ],
   "source": [
    "sample_sub = pd.read_csv('sample_submission_M0L0uXE.csv')\n",
    "sample_sub.head()"
   ]
  },
  {
   "cell_type": "markdown",
   "metadata": {},
   "source": [
    "# Drop Employee id column"
   ]
  },
  {
   "cell_type": "code",
   "execution_count": 41,
   "metadata": {},
   "outputs": [],
   "source": [
    "train = train.drop('employee_id', axis=1)\n",
    "test = test.drop('employee_id', axis=1)"
   ]
  },
  {
   "cell_type": "code",
   "execution_count": 42,
   "metadata": {},
   "outputs": [],
   "source": [
    "train = train.drop('region', axis=1)\n",
    "test = test.drop('region', axis=1)"
   ]
  },
  {
   "cell_type": "markdown",
   "metadata": {},
   "source": [
    "# Getting Information about data"
   ]
  },
  {
   "cell_type": "markdown",
   "metadata": {},
   "source": [
    "Shape of data"
   ]
  },
  {
   "cell_type": "code",
   "execution_count": 6,
   "metadata": {},
   "outputs": [
    {
     "name": "stdout",
     "output_type": "stream",
     "text": [
      "Train data contains 54808 rows and 13 columns\n",
      "Train data contains 23490 rows and 12 columns\n"
     ]
    }
   ],
   "source": [
    "print('Train data contains', train.shape[0], 'rows and', train.shape[1], 'columns')\n",
    "print('Train data contains', test.shape[0], 'rows and', test.shape[1], 'columns')"
   ]
  },
  {
   "cell_type": "markdown",
   "metadata": {},
   "source": [
    "Data Description"
   ]
  },
  {
   "cell_type": "code",
   "execution_count": 8,
   "metadata": {},
   "outputs": [
    {
     "data": {
      "text/html": [
       "<div>\n",
       "<style scoped>\n",
       "    .dataframe tbody tr th:only-of-type {\n",
       "        vertical-align: middle;\n",
       "    }\n",
       "\n",
       "    .dataframe tbody tr th {\n",
       "        vertical-align: top;\n",
       "    }\n",
       "\n",
       "    .dataframe thead th {\n",
       "        text-align: right;\n",
       "    }\n",
       "</style>\n",
       "<table border=\"1\" class=\"dataframe\">\n",
       "  <thead>\n",
       "    <tr style=\"text-align: right;\">\n",
       "      <th></th>\n",
       "      <th>count</th>\n",
       "      <th>mean</th>\n",
       "      <th>std</th>\n",
       "      <th>min</th>\n",
       "      <th>25%</th>\n",
       "      <th>50%</th>\n",
       "      <th>75%</th>\n",
       "      <th>max</th>\n",
       "    </tr>\n",
       "  </thead>\n",
       "  <tbody>\n",
       "    <tr>\n",
       "      <th>no_of_trainings</th>\n",
       "      <td>54808.0</td>\n",
       "      <td>1.253011</td>\n",
       "      <td>0.609264</td>\n",
       "      <td>1.0</td>\n",
       "      <td>1.0</td>\n",
       "      <td>1.0</td>\n",
       "      <td>1.0</td>\n",
       "      <td>10.0</td>\n",
       "    </tr>\n",
       "    <tr>\n",
       "      <th>age</th>\n",
       "      <td>54808.0</td>\n",
       "      <td>34.803915</td>\n",
       "      <td>7.660169</td>\n",
       "      <td>20.0</td>\n",
       "      <td>29.0</td>\n",
       "      <td>33.0</td>\n",
       "      <td>39.0</td>\n",
       "      <td>60.0</td>\n",
       "    </tr>\n",
       "    <tr>\n",
       "      <th>previous_year_rating</th>\n",
       "      <td>50684.0</td>\n",
       "      <td>3.329256</td>\n",
       "      <td>1.259993</td>\n",
       "      <td>1.0</td>\n",
       "      <td>3.0</td>\n",
       "      <td>3.0</td>\n",
       "      <td>4.0</td>\n",
       "      <td>5.0</td>\n",
       "    </tr>\n",
       "    <tr>\n",
       "      <th>length_of_service</th>\n",
       "      <td>54808.0</td>\n",
       "      <td>5.865512</td>\n",
       "      <td>4.265094</td>\n",
       "      <td>1.0</td>\n",
       "      <td>3.0</td>\n",
       "      <td>5.0</td>\n",
       "      <td>7.0</td>\n",
       "      <td>37.0</td>\n",
       "    </tr>\n",
       "    <tr>\n",
       "      <th>KPIs_met &gt;80%</th>\n",
       "      <td>54808.0</td>\n",
       "      <td>0.351974</td>\n",
       "      <td>0.477590</td>\n",
       "      <td>0.0</td>\n",
       "      <td>0.0</td>\n",
       "      <td>0.0</td>\n",
       "      <td>1.0</td>\n",
       "      <td>1.0</td>\n",
       "    </tr>\n",
       "    <tr>\n",
       "      <th>awards_won?</th>\n",
       "      <td>54808.0</td>\n",
       "      <td>0.023172</td>\n",
       "      <td>0.150450</td>\n",
       "      <td>0.0</td>\n",
       "      <td>0.0</td>\n",
       "      <td>0.0</td>\n",
       "      <td>0.0</td>\n",
       "      <td>1.0</td>\n",
       "    </tr>\n",
       "    <tr>\n",
       "      <th>avg_training_score</th>\n",
       "      <td>54808.0</td>\n",
       "      <td>63.386750</td>\n",
       "      <td>13.371559</td>\n",
       "      <td>39.0</td>\n",
       "      <td>51.0</td>\n",
       "      <td>60.0</td>\n",
       "      <td>76.0</td>\n",
       "      <td>99.0</td>\n",
       "    </tr>\n",
       "    <tr>\n",
       "      <th>is_promoted</th>\n",
       "      <td>54808.0</td>\n",
       "      <td>0.085170</td>\n",
       "      <td>0.279137</td>\n",
       "      <td>0.0</td>\n",
       "      <td>0.0</td>\n",
       "      <td>0.0</td>\n",
       "      <td>0.0</td>\n",
       "      <td>1.0</td>\n",
       "    </tr>\n",
       "  </tbody>\n",
       "</table>\n",
       "</div>"
      ],
      "text/plain": [
       "                        count       mean        std   min   25%   50%   75%  \\\n",
       "no_of_trainings       54808.0   1.253011   0.609264   1.0   1.0   1.0   1.0   \n",
       "age                   54808.0  34.803915   7.660169  20.0  29.0  33.0  39.0   \n",
       "previous_year_rating  50684.0   3.329256   1.259993   1.0   3.0   3.0   4.0   \n",
       "length_of_service     54808.0   5.865512   4.265094   1.0   3.0   5.0   7.0   \n",
       "KPIs_met >80%         54808.0   0.351974   0.477590   0.0   0.0   0.0   1.0   \n",
       "awards_won?           54808.0   0.023172   0.150450   0.0   0.0   0.0   0.0   \n",
       "avg_training_score    54808.0  63.386750  13.371559  39.0  51.0  60.0  76.0   \n",
       "is_promoted           54808.0   0.085170   0.279137   0.0   0.0   0.0   0.0   \n",
       "\n",
       "                       max  \n",
       "no_of_trainings       10.0  \n",
       "age                   60.0  \n",
       "previous_year_rating   5.0  \n",
       "length_of_service     37.0  \n",
       "KPIs_met >80%          1.0  \n",
       "awards_won?            1.0  \n",
       "avg_training_score    99.0  \n",
       "is_promoted            1.0  "
      ]
     },
     "execution_count": 8,
     "metadata": {},
     "output_type": "execute_result"
    }
   ],
   "source": [
    "train.describe().T"
   ]
  },
  {
   "cell_type": "code",
   "execution_count": 9,
   "metadata": {},
   "outputs": [
    {
     "data": {
      "text/html": [
       "<div>\n",
       "<style scoped>\n",
       "    .dataframe tbody tr th:only-of-type {\n",
       "        vertical-align: middle;\n",
       "    }\n",
       "\n",
       "    .dataframe tbody tr th {\n",
       "        vertical-align: top;\n",
       "    }\n",
       "\n",
       "    .dataframe thead th {\n",
       "        text-align: right;\n",
       "    }\n",
       "</style>\n",
       "<table border=\"1\" class=\"dataframe\">\n",
       "  <thead>\n",
       "    <tr style=\"text-align: right;\">\n",
       "      <th></th>\n",
       "      <th>count</th>\n",
       "      <th>unique</th>\n",
       "      <th>top</th>\n",
       "      <th>freq</th>\n",
       "    </tr>\n",
       "  </thead>\n",
       "  <tbody>\n",
       "    <tr>\n",
       "      <th>department</th>\n",
       "      <td>54808</td>\n",
       "      <td>9</td>\n",
       "      <td>Sales &amp; Marketing</td>\n",
       "      <td>16840</td>\n",
       "    </tr>\n",
       "    <tr>\n",
       "      <th>region</th>\n",
       "      <td>54808</td>\n",
       "      <td>34</td>\n",
       "      <td>region_2</td>\n",
       "      <td>12343</td>\n",
       "    </tr>\n",
       "    <tr>\n",
       "      <th>education</th>\n",
       "      <td>52399</td>\n",
       "      <td>3</td>\n",
       "      <td>Bachelor's</td>\n",
       "      <td>36669</td>\n",
       "    </tr>\n",
       "    <tr>\n",
       "      <th>gender</th>\n",
       "      <td>54808</td>\n",
       "      <td>2</td>\n",
       "      <td>m</td>\n",
       "      <td>38496</td>\n",
       "    </tr>\n",
       "    <tr>\n",
       "      <th>recruitment_channel</th>\n",
       "      <td>54808</td>\n",
       "      <td>3</td>\n",
       "      <td>other</td>\n",
       "      <td>30446</td>\n",
       "    </tr>\n",
       "  </tbody>\n",
       "</table>\n",
       "</div>"
      ],
      "text/plain": [
       "                     count unique                top   freq\n",
       "department           54808      9  Sales & Marketing  16840\n",
       "region               54808     34           region_2  12343\n",
       "education            52399      3         Bachelor's  36669\n",
       "gender               54808      2                  m  38496\n",
       "recruitment_channel  54808      3              other  30446"
      ]
     },
     "execution_count": 9,
     "metadata": {},
     "output_type": "execute_result"
    }
   ],
   "source": [
    "train.describe(include='O').T"
   ]
  },
  {
   "cell_type": "code",
   "execution_count": 47,
   "metadata": {},
   "outputs": [
    {
     "name": "stdout",
     "output_type": "stream",
     "text": [
      "<class 'pandas.core.frame.DataFrame'>\n",
      "RangeIndex: 54808 entries, 0 to 54807\n",
      "Data columns (total 12 columns):\n",
      " #   Column                Non-Null Count  Dtype \n",
      "---  ------                --------------  ----- \n",
      " 0   department            54808 non-null  object\n",
      " 1   education             54808 non-null  object\n",
      " 2   gender                54808 non-null  object\n",
      " 3   recruitment_channel   54808 non-null  object\n",
      " 4   no_of_trainings       54808 non-null  int64 \n",
      " 5   age                   54808 non-null  int64 \n",
      " 6   previous_year_rating  54808 non-null  object\n",
      " 7   length_of_service     54808 non-null  int64 \n",
      " 8   KPIs_met >80%         54808 non-null  int64 \n",
      " 9   awards_won?           54808 non-null  int64 \n",
      " 10  avg_training_score    54808 non-null  int64 \n",
      " 11  is_promoted           54808 non-null  int64 \n",
      "dtypes: int64(7), object(5)\n",
      "memory usage: 5.0+ MB\n"
     ]
    }
   ],
   "source": [
    "train.info()"
   ]
  },
  {
   "cell_type": "markdown",
   "metadata": {},
   "source": [
    "# Data cleaning"
   ]
  },
  {
   "cell_type": "code",
   "execution_count": 10,
   "metadata": {
    "scrolled": false
   },
   "outputs": [
    {
     "data": {
      "text/plain": [
       "department              0.000000\n",
       "education               4.395344\n",
       "gender                  0.000000\n",
       "recruitment_channel     0.000000\n",
       "no_of_trainings         0.000000\n",
       "age                     0.000000\n",
       "previous_year_rating    7.524449\n",
       "length_of_service       0.000000\n",
       "KPIs_met >80%           0.000000\n",
       "awards_won?             0.000000\n",
       "avg_training_score      0.000000\n",
       "is_promoted             0.000000\n",
       "dtype: float64"
      ]
     },
     "execution_count": 10,
     "metadata": {},
     "output_type": "execute_result"
    }
   ],
   "source": [
    "(train.isnull().sum() / len(train)) * 100"
   ]
  },
  {
   "cell_type": "code",
   "execution_count": 11,
   "metadata": {},
   "outputs": [
    {
     "data": {
      "text/plain": [
       "department              0.000000\n",
       "education               1.886586\n",
       "gender                  0.000000\n",
       "recruitment_channel     0.000000\n",
       "no_of_trainings         0.000000\n",
       "age                     0.000000\n",
       "previous_year_rating    3.306087\n",
       "length_of_service       0.000000\n",
       "KPIs_met >80%           0.000000\n",
       "awards_won?             0.000000\n",
       "avg_training_score      0.000000\n",
       "dtype: float64"
      ]
     },
     "execution_count": 11,
     "metadata": {},
     "output_type": "execute_result"
    }
   ],
   "source": [
    "(test.isnull().sum() / len(train)) * 100"
   ]
  },
  {
   "cell_type": "code",
   "execution_count": 43,
   "metadata": {},
   "outputs": [],
   "source": [
    "train['previous_year_rating'] = train['previous_year_rating'].fillna('Fresher')\n",
    "test['previous_year_rating'] = test['previous_year_rating'].fillna('Fresher')\n",
    "train['education'] = train['education'].fillna('unknown')\n",
    "test['education'] = test['education'].fillna('unknown')"
   ]
  },
  {
   "cell_type": "markdown",
   "metadata": {},
   "source": [
    "# Check Outliers"
   ]
  },
  {
   "cell_type": "code",
   "execution_count": 60,
   "metadata": {},
   "outputs": [
    {
     "name": "stdout",
     "output_type": "stream",
     "text": [
      "no_of_trainings\n",
      "[ 1.  1.  1.  1.  1.  1.  1.  1.  1.  1.  1.  1.  1.  1.  1.  1.  1.  1.\n",
      "  1.  1.  1.  1.  1.  1.  1.  1.  1.  1.  1.  1.  1.  1.  1.  1.  1.  1.\n",
      "  1.  1.  1.  1.  1.  1.  1.  1.  1.  1.  1.  1.  1.  1.  1.  1.  1.  1.\n",
      "  1.  1.  1.  1.  1.  1.  1.  1.  1.  1.  1.  1.  1.  1.  1.  1.  1.  1.\n",
      "  1.  1.  1.  1.  1.  1.  1.  1.  1.  2.  2.  2.  2.  2.  2.  2.  2.  2.\n",
      "  2.  2.  2.  2.  2.  2.  3.  3.  3.  4. 10.]\n"
     ]
    },
    {
     "data": {
      "image/png": "[encoded data removed]",
      "text/plain": [
       "<Figure size 1224x432 with 1 Axes>"
      ]
     },
     "metadata": {
      "needs_background": "light"
     },
     "output_type": "display_data"
    },
    {
     "name": "stdout",
     "output_type": "stream",
     "text": [
      "age\n",
      "[20. 23. 24. 24. 25. 25. 26. 26. 26. 26. 27. 27. 27. 27. 27. 28. 28. 28.\n",
      " 28. 28. 28. 29. 29. 29. 29. 29. 29. 30. 30. 30. 30. 30. 30. 30. 31. 31.\n",
      " 31. 31. 31. 31. 32. 32. 32. 32. 32. 32. 33. 33. 33. 33. 33. 33. 34. 34.\n",
      " 34. 34. 34. 34. 35. 35. 35. 35. 35. 36. 36. 36. 36. 37. 37. 37. 37. 38.\n",
      " 38. 38. 38. 39. 39. 39. 40. 40. 40. 41. 41. 42. 42. 43. 43. 44. 44. 45.\n",
      " 46. 46. 47. 48. 50. 51. 52. 54. 56. 58. 60.]\n"
     ]
    },
    {
     "data": {
      "image/png": "[encoded data removed]",
      "text/plain": [
       "<Figure size 1224x432 with 1 Axes>"
      ]
     },
     "metadata": {
      "needs_background": "light"
     },
     "output_type": "display_data"
    },
    {
     "name": "stdout",
     "output_type": "stream",
     "text": [
      "length_of_service\n",
      "[ 1.  1.  1.  1.  1.  1.  1.  1.  1.  2.  2.  2.  2.  2.  2.  2.  2.  2.\n",
      "  2.  2.  2.  3.  3.  3.  3.  3.  3.  3.  3.  3.  3.  3.  3.  3.  4.  4.\n",
      "  4.  4.  4.  4.  4.  4.  4.  4.  4.  4.  5.  5.  5.  5.  5.  5.  5.  5.\n",
      "  5.  5.  5.  6.  6.  6.  6.  6.  6.  6.  6.  6.  7.  7.  7.  7.  7.  7.\n",
      "  7.  7.  7.  7.  8.  8.  8.  8.  8.  9.  9.  9.  9.  9. 10. 10. 10. 10.\n",
      " 11. 12. 12. 13. 14. 15. 16. 17. 18. 20. 37.]\n"
     ]
    },
    {
     "data": {
      "image/png": "[encoded data removed]",
      "text/plain": [
       "<Figure size 1224x432 with 1 Axes>"
      ]
     },
     "metadata": {
      "needs_background": "light"
     },
     "output_type": "display_data"
    },
    {
     "name": "stdout",
     "output_type": "stream",
     "text": [
      "KPIs_met >80%\n",
      "[0. 0. 0. 0. 0. 0. 0. 0. 0. 0. 0. 0. 0. 0. 0. 0. 0. 0. 0. 0. 0. 0. 0. 0.\n",
      " 0. 0. 0. 0. 0. 0. 0. 0. 0. 0. 0. 0. 0. 0. 0. 0. 0. 0. 0. 0. 0. 0. 0. 0.\n",
      " 0. 0. 0. 0. 0. 0. 0. 0. 0. 0. 0. 0. 0. 0. 0. 0. 0. 1. 1. 1. 1. 1. 1. 1.\n",
      " 1. 1. 1. 1. 1. 1. 1. 1. 1. 1. 1. 1. 1. 1. 1. 1. 1. 1. 1. 1. 1. 1. 1. 1.\n",
      " 1. 1. 1. 1. 1.]\n"
     ]
    },
    {
     "data": {
      "image/png": "[encoded data removed]",
      "text/plain": [
       "<Figure size 1224x432 with 1 Axes>"
      ]
     },
     "metadata": {
      "needs_background": "light"
     },
     "output_type": "display_data"
    },
    {
     "name": "stdout",
     "output_type": "stream",
     "text": [
      "awards_won?\n",
      "[0. 0. 0. 0. 0. 0. 0. 0. 0. 0. 0. 0. 0. 0. 0. 0. 0. 0. 0. 0. 0. 0. 0. 0.\n",
      " 0. 0. 0. 0. 0. 0. 0. 0. 0. 0. 0. 0. 0. 0. 0. 0. 0. 0. 0. 0. 0. 0. 0. 0.\n",
      " 0. 0. 0. 0. 0. 0. 0. 0. 0. 0. 0. 0. 0. 0. 0. 0. 0. 0. 0. 0. 0. 0. 0. 0.\n",
      " 0. 0. 0. 0. 0. 0. 0. 0. 0. 0. 0. 0. 0. 0. 0. 0. 0. 0. 0. 0. 0. 0. 0. 0.\n",
      " 0. 0. 1. 1. 1.]\n"
     ]
    },
    {
     "data": {
      "image/png": "[encoded data removed]",
      "text/plain": [
       "<Figure size 1224x432 with 1 Axes>"
      ]
     },
     "metadata": {
      "needs_background": "light"
     },
     "output_type": "display_data"
    },
    {
     "name": "stdout",
     "output_type": "stream",
     "text": [
      "avg_training_score\n",
      "[39.   44.   45.   46.   46.   47.   47.   47.   48.   48.   48.   48.\n",
      " 48.   49.   49.   49.   49.   50.   50.   50.   50.   50.   51.   51.\n",
      " 51.   51.   51.   52.   52.   52.   53.   53.   54.   54.   55.   55.\n",
      " 56.   56.   57.   57.   58.   58.   58.   58.   59.   59.   59.   59.\n",
      " 60.   60.   60.   60.   61.   61.   61.   62.   62.   62.   63.   63.\n",
      " 64.   65.   66.   67.   68.   68.   69.   69.   70.   70.   71.   72.\n",
      " 72.   73.   74.   76.   77.   78.   78.   79.   79.   80.   80.   80.81\n",
      " 81.   81.   82.   82.   82.   83.   83.   84.   84.   85.   85.   86.\n",
      " 86.   87.   88.   91.   99.  ]\n"
     ]
    },
    {
     "data": {
      "image/png": "[encoded data removed]",
      "text/plain": [
       "<Figure size 1224x432 with 1 Axes>"
      ]
     },
     "metadata": {
      "needs_background": "light"
     },
     "output_type": "display_data"
    },
    {
     "name": "stdout",
     "output_type": "stream",
     "text": [
      "is_promoted\n",
      "[0. 0. 0. 0. 0. 0. 0. 0. 0. 0. 0. 0. 0. 0. 0. 0. 0. 0. 0. 0. 0. 0. 0. 0.\n",
      " 0. 0. 0. 0. 0. 0. 0. 0. 0. 0. 0. 0. 0. 0. 0. 0. 0. 0. 0. 0. 0. 0. 0. 0.\n",
      " 0. 0. 0. 0. 0. 0. 0. 0. 0. 0. 0. 0. 0. 0. 0. 0. 0. 0. 0. 0. 0. 0. 0. 0.\n",
      " 0. 0. 0. 0. 0. 0. 0. 0. 0. 0. 0. 0. 0. 0. 0. 0. 0. 0. 0. 0. 1. 1. 1. 1.\n",
      " 1. 1. 1. 1. 1.]\n"
     ]
    },
    {
     "data": {
      "image/png": "[encoded data removed]",
      "text/plain": [
       "<Figure size 1224x432 with 1 Axes>"
      ]
     },
     "metadata": {
      "needs_background": "light"
     },
     "output_type": "display_data"
    }
   ],
   "source": [
    "def detect_outlier(frame):\n",
    "    for i in frame.columns:\n",
    "        if(frame[i].dtype == 'int64'):\n",
    "            print(i)\n",
    "            plt.figure(figsize=(17,6))\n",
    "            plt.scatter(y=np.quantile(frame[i], q=np.arange(0, 1.01, 0.01)),x = np.arange(0,101,1))\n",
    "            print(np.quantile(frame[i], q=np.arange(0, 1.01, 0.01)))\n",
    "            plt.show()\n",
    "            \n",
    "        elif(frame[i].dtype == 'float64'):\n",
    "            print(i)\n",
    "            plt.figure(figsize=(17,6))\n",
    "            plt.scatter(y=np.quantile(frame[i], q=np.arange(0, 1.01, 0.01)),x = np.arange(0,101,1))\n",
    "            print(np.quantile(frame[i], q=np.arange(0, 1.01, 0.01)))\n",
    "            plt.show()\n",
    "            \n",
    "detect_outlier(train)"
   ]
  },
  {
   "cell_type": "code",
   "execution_count": 44,
   "metadata": {},
   "outputs": [
    {
     "data": {
      "text/plain": [
       "0        49\n",
       "1        60\n",
       "2        50\n",
       "3        50\n",
       "4        73\n",
       "         ..\n",
       "54803    78\n",
       "54804    56\n",
       "54805    79\n",
       "54806    45\n",
       "54807    49\n",
       "Name: avg_training_score, Length: 54808, dtype: int64"
      ]
     },
     "execution_count": 44,
     "metadata": {},
     "output_type": "execute_result"
    }
   ],
   "source": [
    "train['no_of_trainings'].where(~(train.no_of_trainings == 10), 4)\n",
    "train['length_of_service'].where(~(train.length_of_service == 37), 21)\n",
    "train['avg_training_score'].where(~(train.avg_training_score == 99), 92)"
   ]
  },
  {
   "cell_type": "markdown",
   "metadata": {},
   "source": [
    "# Univariant Analysis"
   ]
  },
  {
   "cell_type": "code",
   "execution_count": 9,
   "metadata": {
    "scrolled": true
   },
   "outputs": [
    {
     "name": "stdout",
     "output_type": "stream",
     "text": [
      "department\n"
     ]
    },
    {
     "data": {
      "image/png": "[encoded data removed]",
      "text/plain": [
       "<Figure size 432x288 with 1 Axes>"
      ]
     },
     "metadata": {
      "needs_background": "light"
     },
     "output_type": "display_data"
    },
    {
     "name": "stdout",
     "output_type": "stream",
     "text": [
      "region\n"
     ]
    },
    {
     "data": {
      "image/png": "[encoded data removed]",
      "text/plain": [
       "<Figure size 432x288 with 1 Axes>"
      ]
     },
     "metadata": {
      "needs_background": "light"
     },
     "output_type": "display_data"
    },
    {
     "name": "stdout",
     "output_type": "stream",
     "text": [
      "education\n"
     ]
    },
    {
     "data": {
      "image/png": "[encoded data removed]",
      "text/plain": [
       "<Figure size 432x288 with 1 Axes>"
      ]
     },
     "metadata": {
      "needs_background": "light"
     },
     "output_type": "display_data"
    },
    {
     "name": "stdout",
     "output_type": "stream",
     "text": [
      "gender\n"
     ]
    },
    {
     "data": {
      "image/png": "[encoded data removed]",
      "text/plain": [
       "<Figure size 432x288 with 1 Axes>"
      ]
     },
     "metadata": {
      "needs_background": "light"
     },
     "output_type": "display_data"
    },
    {
     "name": "stdout",
     "output_type": "stream",
     "text": [
      "recruitment_channel\n"
     ]
    },
    {
     "data": {
      "image/png": "[encoded data removed]",
      "text/plain": [
       "<Figure size 432x288 with 1 Axes>"
      ]
     },
     "metadata": {
      "needs_background": "light"
     },
     "output_type": "display_data"
    },
    {
     "name": "stdout",
     "output_type": "stream",
     "text": [
      "no_of_trainings\n"
     ]
    },
    {
     "data": {
      "image/png": "[encoded data removed]",
      "text/plain": [
       "<Figure size 360x360 with 1 Axes>"
      ]
     },
     "metadata": {
      "needs_background": "light"
     },
     "output_type": "display_data"
    },
    {
     "name": "stdout",
     "output_type": "stream",
     "text": [
      "age\n"
     ]
    },
    {
     "data": {
      "image/png": "[encoded data removed]",
      "text/plain": [
       "<Figure size 360x360 with 1 Axes>"
      ]
     },
     "metadata": {
      "needs_background": "light"
     },
     "output_type": "display_data"
    },
    {
     "name": "stdout",
     "output_type": "stream",
     "text": [
      "previous_year_rating\n"
     ]
    },
    {
     "data": {
      "image/png": "[encoded data removed]",
      "text/plain": [
       "<Figure size 360x360 with 1 Axes>"
      ]
     },
     "metadata": {
      "needs_background": "light"
     },
     "output_type": "display_data"
    },
    {
     "name": "stdout",
     "output_type": "stream",
     "text": [
      "length_of_service\n"
     ]
    },
    {
     "data": {
      "image/png": "[encoded data removed]",
      "text/plain": [
       "<Figure size 360x360 with 1 Axes>"
      ]
     },
     "metadata": {
      "needs_background": "light"
     },
     "output_type": "display_data"
    },
    {
     "name": "stdout",
     "output_type": "stream",
     "text": [
      "KPIs_met >80%\n"
     ]
    },
    {
     "data": {
      "image/png": "[encoded data removed]",
      "text/plain": [
       "<Figure size 360x360 with 1 Axes>"
      ]
     },
     "metadata": {
      "needs_background": "light"
     },
     "output_type": "display_data"
    },
    {
     "name": "stdout",
     "output_type": "stream",
     "text": [
      "awards_won?\n"
     ]
    },
    {
     "data": {
      "image/png": "[encoded data removed]",
      "text/plain": [
       "<Figure size 360x360 with 1 Axes>"
      ]
     },
     "metadata": {
      "needs_background": "light"
     },
     "output_type": "display_data"
    },
    {
     "name": "stdout",
     "output_type": "stream",
     "text": [
      "avg_training_score\n"
     ]
    },
    {
     "data": {
      "image/png": "[encoded data removed]",
      "text/plain": [
       "<Figure size 360x360 with 1 Axes>"
      ]
     },
     "metadata": {
      "needs_background": "light"
     },
     "output_type": "display_data"
    },
    {
     "name": "stdout",
     "output_type": "stream",
     "text": [
      "is_promoted\n"
     ]
    },
    {
     "data": {
      "image/png": "[encoded data removed]",
      "text/plain": [
       "<Figure size 360x360 with 1 Axes>"
      ]
     },
     "metadata": {
      "needs_background": "light"
     },
     "output_type": "display_data"
    }
   ],
   "source": [
    "def univariant(frame):\n",
    "    for i in frame.columns:\n",
    "        if(frame[i].dtype == 'int64'):\n",
    "            print(i)\n",
    "            sns.displot(x=frame[i])\n",
    "            plt.show()\n",
    "                \n",
    "        elif(frame[i].dtype == 'float64'):\n",
    "            print(i)\n",
    "            sns.displot(x=frame[i])\n",
    "            plt.show()\n",
    "            \n",
    "        elif(frame[i].dtype == 'O'):\n",
    "            print(i)\n",
    "            sns.countplot(y=frame[i])\n",
    "            plt.show()\n",
    "            \n",
    "univariant(train)"
   ]
  },
  {
   "cell_type": "markdown",
   "metadata": {},
   "source": [
    "# Distribution of target variable"
   ]
  },
  {
   "cell_type": "code",
   "execution_count": 20,
   "metadata": {
    "scrolled": false
   },
   "outputs": [
    {
     "name": "stderr",
     "output_type": "stream",
     "text": [
      "C:\\Users\\sahil mathur\\anaconda\\lib\\site-packages\\seaborn\\_decorators.py:36: FutureWarning: Pass the following variable as a keyword arg: x. From version 0.12, the only valid positional argument will be `data`, and passing other arguments without an explicit keyword will result in an error or misinterpretation.\n",
      "  warnings.warn(\n"
     ]
    },
    {
     "data": {
      "text/plain": [
       "<AxesSubplot:xlabel='is_promoted', ylabel='count'>"
      ]
     },
     "execution_count": 20,
     "metadata": {},
     "output_type": "execute_result"
    },
    {
     "data": {
      "image/png": "[encoded data removed]",
      "text/plain": [
       "<Figure size 432x288 with 1 Axes>"
      ]
     },
     "metadata": {
      "needs_background": "light"
     },
     "output_type": "display_data"
    }
   ],
   "source": [
    "sns.countplot(train['is_promoted'])"
   ]
  },
  {
   "cell_type": "markdown",
   "metadata": {},
   "source": [
    "# BiVariant Analysis"
   ]
  },
  {
   "cell_type": "code",
   "execution_count": 112,
   "metadata": {},
   "outputs": [
    {
     "data": {
      "image/png": "[encoded data removed]",
      "text/plain": [
       "<Figure size 432x288 with 1 Axes>"
      ]
     },
     "metadata": {
      "needs_background": "light"
     },
     "output_type": "display_data"
    },
    {
     "name": "stderr",
     "output_type": "stream",
     "text": [
      "C:\\Users\\sahil mathur\\anaconda\\lib\\site-packages\\seaborn\\_decorators.py:36: FutureWarning: Pass the following variables as keyword args: x, y. From version 0.12, the only valid positional argument will be `data`, and passing other arguments without an explicit keyword will result in an error or misinterpretation.\n",
      "  warnings.warn(\n"
     ]
    },
    {
     "data": {
      "image/png": "[encoded data removed]",
      "text/plain": [
       "<Figure size 432x288 with 1 Axes>"
      ]
     },
     "metadata": {
      "needs_background": "light"
     },
     "output_type": "display_data"
    },
    {
     "name": "stderr",
     "output_type": "stream",
     "text": [
      "C:\\Users\\sahil mathur\\anaconda\\lib\\site-packages\\seaborn\\_decorators.py:36: FutureWarning: Pass the following variables as keyword args: x, y. From version 0.12, the only valid positional argument will be `data`, and passing other arguments without an explicit keyword will result in an error or misinterpretation.\n",
      "  warnings.warn(\n"
     ]
    },
    {
     "data": {
      "image/png": "[encoded data removed]",
      "text/plain": [
       "<Figure size 432x288 with 1 Axes>"
      ]
     },
     "metadata": {
      "needs_background": "light"
     },
     "output_type": "display_data"
    },
    {
     "name": "stderr",
     "output_type": "stream",
     "text": [
      "C:\\Users\\sahil mathur\\anaconda\\lib\\site-packages\\seaborn\\_decorators.py:36: FutureWarning: Pass the following variables as keyword args: x, y. From version 0.12, the only valid positional argument will be `data`, and passing other arguments without an explicit keyword will result in an error or misinterpretation.\n",
      "  warnings.warn(\n"
     ]
    },
    {
     "data": {
      "image/png": "[encoded data removed]",
      "text/plain": [
       "<Figure size 432x288 with 1 Axes>"
      ]
     },
     "metadata": {
      "needs_background": "light"
     },
     "output_type": "display_data"
    },
    {
     "name": "stderr",
     "output_type": "stream",
     "text": [
      "C:\\Users\\sahil mathur\\anaconda\\lib\\site-packages\\seaborn\\_decorators.py:36: FutureWarning: Pass the following variables as keyword args: x, y. From version 0.12, the only valid positional argument will be `data`, and passing other arguments without an explicit keyword will result in an error or misinterpretation.\n",
      "  warnings.warn(\n"
     ]
    },
    {
     "data": {
      "image/png": "[encoded data removed]",
      "text/plain": [
       "<Figure size 432x288 with 1 Axes>"
      ]
     },
     "metadata": {
      "needs_background": "light"
     },
     "output_type": "display_data"
    },
    {
     "name": "stderr",
     "output_type": "stream",
     "text": [
      "C:\\Users\\sahil mathur\\anaconda\\lib\\site-packages\\seaborn\\_decorators.py:36: FutureWarning: Pass the following variables as keyword args: x, y. From version 0.12, the only valid positional argument will be `data`, and passing other arguments without an explicit keyword will result in an error or misinterpretation.\n",
      "  warnings.warn(\n"
     ]
    },
    {
     "data": {
      "image/png": "[encoded data removed]",
      "text/plain": [
       "<Figure size 432x288 with 1 Axes>"
      ]
     },
     "metadata": {
      "needs_background": "light"
     },
     "output_type": "display_data"
    },
    {
     "name": "stderr",
     "output_type": "stream",
     "text": [
      "C:\\Users\\sahil mathur\\anaconda\\lib\\site-packages\\seaborn\\_decorators.py:36: FutureWarning: Pass the following variables as keyword args: x, y. From version 0.12, the only valid positional argument will be `data`, and passing other arguments without an explicit keyword will result in an error or misinterpretation.\n",
      "  warnings.warn(\n"
     ]
    },
    {
     "data": {
      "image/png": "[encoded data removed]",
      "text/plain": [
       "<Figure size 432x288 with 1 Axes>"
      ]
     },
     "metadata": {
      "needs_background": "light"
     },
     "output_type": "display_data"
    },
    {
     "name": "stderr",
     "output_type": "stream",
     "text": [
      "C:\\Users\\sahil mathur\\anaconda\\lib\\site-packages\\seaborn\\_decorators.py:36: FutureWarning: Pass the following variables as keyword args: x, y. From version 0.12, the only valid positional argument will be `data`, and passing other arguments without an explicit keyword will result in an error or misinterpretation.\n",
      "  warnings.warn(\n"
     ]
    },
    {
     "data": {
      "image/png": "[encoded data removed]",
      "text/plain": [
       "<Figure size 432x288 with 1 Axes>"
      ]
     },
     "metadata": {
      "needs_background": "light"
     },
     "output_type": "display_data"
    }
   ],
   "source": [
    "def target(frame):\n",
    "    for i in frame.columns:\n",
    "        if()\n",
    "        elif(frame[i].dtype == 'int64'):\n",
    "            sns.barplot(train['is_promoted'], frame[i])\n",
    "            plt.show()\n",
    "            \n",
    "        elif(frame[i].dtype == 'float64'):\n",
    "            sns.barplot(train['is_promoted'], frame[i])\n",
    "            plt.show()\n",
    "            \n",
    "target(train)"
   ]
  },
  {
   "cell_type": "markdown",
   "metadata": {},
   "source": [
    "# Correlation Map"
   ]
  },
  {
   "cell_type": "markdown",
   "metadata": {},
   "source": [
    "# Encode Categorical Columns"
   ]
  },
  {
   "cell_type": "code",
   "execution_count": 45,
   "metadata": {},
   "outputs": [],
   "source": [
    "train = pd.get_dummies(train, drop_first=True)\n",
    "test = pd.get_dummies(test, drop_first=True)"
   ]
  },
  {
   "cell_type": "markdown",
   "metadata": {},
   "source": [
    "# Splitting Data into train and test"
   ]
  },
  {
   "cell_type": "code",
   "execution_count": 46,
   "metadata": {},
   "outputs": [],
   "source": [
    "x = train.drop('is_promoted', axis=1)\n",
    "y = train['is_promoted']\n",
    "\n",
    "X_train, X_test, Y_train, Y_test = train_test_split(x, y, test_size=0.3, random_state=1)"
   ]
  },
  {
   "cell_type": "code",
   "execution_count": 47,
   "metadata": {},
   "outputs": [
    {
     "data": {
      "text/plain": [
       "array([0, 1], dtype=int64)"
      ]
     },
     "execution_count": 47,
     "metadata": {},
     "output_type": "execute_result"
    }
   ],
   "source": [
    "train['is_promoted'].unique()"
   ]
  },
  {
   "cell_type": "markdown",
   "metadata": {},
   "source": [
    "# Create Baseline Models"
   ]
  },
  {
   "cell_type": "markdown",
   "metadata": {},
   "source": [
    "# 1. Logistic Regression"
   ]
  },
  {
   "cell_type": "code",
   "execution_count": 48,
   "metadata": {
    "scrolled": false
   },
   "outputs": [
    {
     "data": {
      "text/plain": [
       "LogisticRegression(max_iter=1000)"
      ]
     },
     "execution_count": 48,
     "metadata": {},
     "output_type": "execute_result"
    }
   ],
   "source": [
    "logistic = LogisticRegression(max_iter=1000)\n",
    "logistic.fit(X_train, Y_train)"
   ]
  },
  {
   "cell_type": "code",
   "execution_count": 49,
   "metadata": {},
   "outputs": [
    {
     "name": "stdout",
     "output_type": "stream",
     "text": [
      "              precision    recall  f1-score   support\n",
      "\n",
      "           0       0.93      1.00      0.96     15058\n",
      "           1       0.85      0.24      0.38      1385\n",
      "\n",
      "    accuracy                           0.93     16443\n",
      "   macro avg       0.89      0.62      0.67     16443\n",
      "weighted avg       0.93      0.93      0.92     16443\n",
      "\n"
     ]
    }
   ],
   "source": [
    "logistic_pred = logistic.predict(X_test)\n",
    "print(classification_report(Y_test, logistic_pred))"
   ]
  },
  {
   "cell_type": "code",
   "execution_count": 50,
   "metadata": {},
   "outputs": [
    {
     "data": {
      "text/plain": [
       "0.3782267115600449"
      ]
     },
     "execution_count": 50,
     "metadata": {},
     "output_type": "execute_result"
    }
   ],
   "source": [
    "f1_score(Y_test, logistic_pred)"
   ]
  },
  {
   "cell_type": "markdown",
   "metadata": {},
   "source": [
    "# 2. XGBoost Classifier"
   ]
  },
  {
   "cell_type": "code",
   "execution_count": 51,
   "metadata": {
    "scrolled": true
   },
   "outputs": [
    {
     "name": "stderr",
     "output_type": "stream",
     "text": [
      "C:\\Users\\sahil mathur\\anaconda\\lib\\site-packages\\xgboost\\sklearn.py:888: UserWarning: The use of label encoder in XGBClassifier is deprecated and will be removed in a future release. To remove this warning, do the following: 1) Pass option use_label_encoder=False when constructing XGBClassifier object; and 2) Encode your labels (y) as integers starting with 0, i.e. 0, 1, 2, ..., [num_class - 1].\n",
      "  warnings.warn(label_encoder_deprecation_msg, UserWarning)\n"
     ]
    },
    {
     "name": "stdout",
     "output_type": "stream",
     "text": [
      "[18:36:25] WARNING: ..\\src\\learner.cc:1061: Starting in XGBoost 1.3.0, the default evaluation metric used with the objective 'binary:logistic' was changed from 'error' to 'logloss'. Explicitly set eval_metric if you'd like to restore the old behavior.\n"
     ]
    },
    {
     "data": {
      "text/plain": [
       "XGBClassifier(base_score=0.5, booster='gbtree', colsample_bylevel=1,\n",
       "              colsample_bynode=1, colsample_bytree=1, gamma=0, gpu_id=-1,\n",
       "              importance_type='gain', interaction_constraints='',\n",
       "              learning_rate=0.300000012, max_delta_step=0, max_depth=6,\n",
       "              min_child_weight=1, missing=nan, monotone_constraints='()',\n",
       "              n_estimators=100, n_jobs=4, num_parallel_tree=1, random_state=0,\n",
       "              reg_alpha=0, reg_lambda=1, scale_pos_weight=1, subsample=1,\n",
       "              tree_method='exact', validate_parameters=1, verbosity=None)"
      ]
     },
     "execution_count": 51,
     "metadata": {},
     "output_type": "execute_result"
    }
   ],
   "source": [
    "xgb = XGBClassifier()\n",
    "xgb.fit(X_train, Y_train)"
   ]
  },
  {
   "cell_type": "code",
   "execution_count": 52,
   "metadata": {},
   "outputs": [
    {
     "name": "stdout",
     "output_type": "stream",
     "text": [
      "              precision    recall  f1-score   support\n",
      "\n",
      "           0       0.95      1.00      0.97     15058\n",
      "           1       0.90      0.38      0.53      1385\n",
      "\n",
      "    accuracy                           0.94     16443\n",
      "   macro avg       0.92      0.69      0.75     16443\n",
      "weighted avg       0.94      0.94      0.93     16443\n",
      "\n"
     ]
    }
   ],
   "source": [
    "xgb_pred = xgb.predict(X_test)\n",
    "print(classification_report(Y_test, xgb_pred))"
   ]
  },
  {
   "cell_type": "code",
   "execution_count": 53,
   "metadata": {},
   "outputs": [
    {
     "data": {
      "text/plain": [
       "0.5292620865139949"
      ]
     },
     "execution_count": 53,
     "metadata": {},
     "output_type": "execute_result"
    }
   ],
   "source": [
    "f1_score(Y_test, xgb_pred)"
   ]
  },
  {
   "cell_type": "code",
   "execution_count": 54,
   "metadata": {},
   "outputs": [
    {
     "name": "stdout",
     "output_type": "stream",
     "text": [
      "              precision    recall  f1-score   support\n",
      "\n",
      "           0       0.95      0.98      0.97     15058\n",
      "           1       0.70      0.43      0.53      1385\n",
      "\n",
      "    accuracy                           0.94     16443\n",
      "   macro avg       0.82      0.71      0.75     16443\n",
      "weighted avg       0.93      0.94      0.93     16443\n",
      "\n"
     ]
    }
   ],
   "source": [
    "xgb_pred = xgb.predict_proba(X_test)\n",
    "proba = []\n",
    "for prob in xgb_pred:\n",
    "    if(prob[0] > 0.68):\n",
    "        proba.append(0)\n",
    "    else:\n",
    "        proba.append(1)\n",
    "print(classification_report(Y_test, proba))"
   ]
  },
  {
   "cell_type": "code",
   "execution_count": 55,
   "metadata": {},
   "outputs": [
    {
     "data": {
      "text/plain": [
       "0.5310129406514947"
      ]
     },
     "execution_count": 55,
     "metadata": {},
     "output_type": "execute_result"
    }
   ],
   "source": [
    "f1_score(Y_test, proba)"
   ]
  },
  {
   "cell_type": "markdown",
   "metadata": {},
   "source": [
    "# 3. Random Forest Classifier"
   ]
  },
  {
   "cell_type": "code",
   "execution_count": 56,
   "metadata": {},
   "outputs": [
    {
     "data": {
      "text/plain": [
       "RandomForestClassifier()"
      ]
     },
     "execution_count": 56,
     "metadata": {},
     "output_type": "execute_result"
    }
   ],
   "source": [
    "rf = RandomForestClassifier()\n",
    "rf.fit(X_train, Y_train)"
   ]
  },
  {
   "cell_type": "code",
   "execution_count": 57,
   "metadata": {},
   "outputs": [
    {
     "name": "stdout",
     "output_type": "stream",
     "text": [
      "              precision    recall  f1-score   support\n",
      "\n",
      "           0       0.95      0.97      0.96     15058\n",
      "           1       0.55      0.45      0.49      1385\n",
      "\n",
      "    accuracy                           0.92     16443\n",
      "   macro avg       0.75      0.71      0.73     16443\n",
      "weighted avg       0.92      0.92      0.92     16443\n",
      "\n"
     ]
    }
   ],
   "source": [
    "rf_pred = rf.predict_proba(X_test)\n",
    "proba = []\n",
    "for prob in rf_pred:\n",
    "    if(prob[0] > 0.65):\n",
    "        proba.append(0)\n",
    "    else:\n",
    "        proba.append(1)\n",
    "print(classification_report(Y_test, proba))"
   ]
  },
  {
   "cell_type": "code",
   "execution_count": 58,
   "metadata": {},
   "outputs": [
    {
     "data": {
      "text/plain": [
       "0.49305279872965463"
      ]
     },
     "execution_count": 58,
     "metadata": {},
     "output_type": "execute_result"
    }
   ],
   "source": [
    "f1_score(Y_test, proba)"
   ]
  },
  {
   "cell_type": "markdown",
   "metadata": {},
   "source": [
    "# 5. KNN"
   ]
  },
  {
   "cell_type": "code",
   "execution_count": 61,
   "metadata": {},
   "outputs": [
    {
     "data": {
      "text/plain": [
       "KNeighborsClassifier()"
      ]
     },
     "execution_count": 61,
     "metadata": {},
     "output_type": "execute_result"
    }
   ],
   "source": [
    "knn = KNeighborsClassifier()\n",
    "knn.fit(X_train, Y_train)"
   ]
  },
  {
   "cell_type": "code",
   "execution_count": 62,
   "metadata": {},
   "outputs": [
    {
     "name": "stdout",
     "output_type": "stream",
     "text": [
      "              precision    recall  f1-score   support\n",
      "\n",
      "           0       0.93      0.99      0.96     15058\n",
      "           1       0.70      0.14      0.23      1385\n",
      "\n",
      "    accuracy                           0.92     16443\n",
      "   macro avg       0.81      0.57      0.60     16443\n",
      "weighted avg       0.91      0.92      0.90     16443\n",
      "\n"
     ]
    }
   ],
   "source": [
    "knn_pred = knn.predict(X_test)\n",
    "print(classification_report(Y_test, knn_pred))"
   ]
  },
  {
   "cell_type": "code",
   "execution_count": 63,
   "metadata": {},
   "outputs": [
    {
     "data": {
      "text/plain": [
       "GradientBoostingClassifier()"
      ]
     },
     "execution_count": 63,
     "metadata": {},
     "output_type": "execute_result"
    }
   ],
   "source": [
    "gb = GradientBoostingClassifier()\n",
    "gb.fit(X_train, Y_train)"
   ]
  },
  {
   "cell_type": "code",
   "execution_count": 64,
   "metadata": {},
   "outputs": [
    {
     "name": "stdout",
     "output_type": "stream",
     "text": [
      "              precision    recall  f1-score   support\n",
      "\n",
      "           0       0.94      1.00      0.97     15058\n",
      "           1       0.87      0.35      0.50      1385\n",
      "\n",
      "    accuracy                           0.94     16443\n",
      "   macro avg       0.91      0.67      0.73     16443\n",
      "weighted avg       0.94      0.94      0.93     16443\n",
      "\n"
     ]
    }
   ],
   "source": [
    "gb_pred = gb.predict_proba(X_test)\n",
    "proba = []\n",
    "for prob in gb_pred:\n",
    "    if(prob[0] > 0.65):\n",
    "        proba.append(0)\n",
    "    else:\n",
    "        proba.append(1)\n",
    "print(classification_report(Y_test, proba))"
   ]
  },
  {
   "cell_type": "code",
   "execution_count": 65,
   "metadata": {},
   "outputs": [
    {
     "ename": "NameError",
     "evalue": "name 'f1_score_score' is not defined",
     "output_type": "error",
     "traceback": [
      "\u001b[1;31m---------------------------------------------------------------------------\u001b[0m",
      "\u001b[1;31mNameError\u001b[0m                                 Traceback (most recent call last)",
      "\u001b[1;32m<ipython-input-65-018bac3220fd>\u001b[0m in \u001b[0;36m<module>\u001b[1;34m\u001b[0m\n\u001b[1;32m----> 1\u001b[1;33m \u001b[0mf1_score_score\u001b[0m\u001b[1;33m(\u001b[0m\u001b[0mY_test\u001b[0m\u001b[1;33m,\u001b[0m \u001b[0mproba\u001b[0m\u001b[1;33m)\u001b[0m\u001b[1;33m\u001b[0m\u001b[1;33m\u001b[0m\u001b[0m\n\u001b[0m",
      "\u001b[1;31mNameError\u001b[0m: name 'f1_score_score' is not defined"
     ]
    }
   ],
   "source": [
    "f1_score(Y_test, proba)"
   ]
  },
  {
   "cell_type": "code",
   "execution_count": null,
   "metadata": {},
   "outputs": [],
   "source": [
    "from sklearn.ensemble import ExtraTreesClassifier\n",
    "\n",
    "ex = ExtraTreesClassifier()\n",
    "ex.fit(X_train, Y_train)"
   ]
  },
  {
   "cell_type": "code",
   "execution_count": null,
   "metadata": {},
   "outputs": [],
   "source": [
    "ex_pred = ex.predict_proba(X_test)\n",
    "proba = []\n",
    "for prob in ex_pred:\n",
    "    if(prob[0] > 0.65):\n",
    "        proba.append(0)\n",
    "    else:\n",
    "        proba.append(1)\n",
    "print(classification_report(Y_test, proba))"
   ]
  },
  {
   "cell_type": "code",
   "execution_count": null,
   "metadata": {},
   "outputs": [],
   "source": [
    "f1_score(Y_test, proba)"
   ]
  },
  {
   "cell_type": "code",
   "execution_count": null,
   "metadata": {},
   "outputs": [],
   "source": [
    "from lightgbm import LGBMClassifier\n",
    "\n",
    "lgbm = LGBMClassifier()\n",
    "lgbm.fit(new_X_train, new_Y_train)"
   ]
  },
  {
   "cell_type": "code",
   "execution_count": null,
   "metadata": {},
   "outputs": [],
   "source": [
    "lgbm_pred = lgbm.predict_proba(new_X_test)\n",
    "proba = []\n",
    "for prob in lgbm_pred:\n",
    "    if(prob[0] > 0.65):\n",
    "        proba.append(0)\n",
    "    else:\n",
    "        proba.append(1)\n",
    "print(classification_report(new_Y_test, proba))"
   ]
  },
  {
   "cell_type": "code",
   "execution_count": null,
   "metadata": {},
   "outputs": [],
   "source": [
    "f1_score(new_Y_test, proba)"
   ]
  },
  {
   "cell_type": "markdown",
   "metadata": {},
   "source": [
    "# 6. Stacking Classifier"
   ]
  },
  {
   "cell_type": "code",
   "execution_count": null,
   "metadata": {
    "scrolled": true
   },
   "outputs": [],
   "source": [
    "estimators = [\n",
    "    ('logistic', LogisticRegression(max_iter=10000)),\n",
    "    ('xgb' , XGBClassifier()),\n",
    "    ('rf', RandomForestClassifier()),\n",
    "    ('lgbm', LGBMClassifier())\n",
    "]\n",
    "\n",
    "stack = StackingClassifier(estimators=estimators, final_estimator=logistic)\n",
    "stack.fit(new_X_train, new_Y_train)"
   ]
  },
  {
   "cell_type": "code",
   "execution_count": null,
   "metadata": {},
   "outputs": [],
   "source": [
    "stack_pred = stack.predict(new_X_test)\n",
    "print(classification_report(new_Y_test, stack_pred))"
   ]
  },
  {
   "cell_type": "code",
   "execution_count": null,
   "metadata": {},
   "outputs": [],
   "source": [
    "stack_pred = stack.predict_proba(new_X_test)\n",
    "proba = []\n",
    "for prob in stack_pred:\n",
    "    if(prob[0] > 0.68):\n",
    "        proba.append(0)\n",
    "    else:\n",
    "        proba.append(1)\n",
    "print(classification_report(new_Y_test, proba))"
   ]
  },
  {
   "cell_type": "code",
   "execution_count": null,
   "metadata": {},
   "outputs": [],
   "source": [
    "f1_score(new_Y_test, proba)"
   ]
  },
  {
   "cell_type": "code",
   "execution_count": null,
   "metadata": {},
   "outputs": [],
   "source": [
    "from imblearn.over_sampling import RandomOverSampler\n",
    "\n",
    "ros = RandomOverSampler()\n",
    "new_X_train, new_Y_train = ros.fit_resample(new_X_train, new_Y_train)"
   ]
  },
  {
   "cell_type": "code",
   "execution_count": null,
   "metadata": {},
   "outputs": [],
   "source": [
    "voting = VotingClassifier(estimators=[\n",
    "    ('xgb' , XGBClassifier()),\n",
    "    ('lgbm', LGBMClassifier()),\n",
    "    ('cat', CatBoostClassifier())\n",
    "    ], voting='soft', weights=[5,5.2,5])\n",
    "\n",
    "voting.fit(new_X_train, new_Y_train)"
   ]
  },
  {
   "cell_type": "code",
   "execution_count": null,
   "metadata": {},
   "outputs": [],
   "source": [
    "voting_pred = voting.predict_proba(new_X_test)\n",
    "proba = []\n",
    "for prob in voting_pred:\n",
    "    if(prob[0] > 0.65):\n",
    "        proba.append(0)\n",
    "    else:\n",
    "        proba.append(1)\n",
    "print(classification_report(new_Y_test, proba))"
   ]
  },
  {
   "cell_type": "code",
   "execution_count": null,
   "metadata": {},
   "outputs": [],
   "source": [
    "f1_score(new_Y_test, proba)"
   ]
  },
  {
   "cell_type": "markdown",
   "metadata": {},
   "source": [
    "# Feature Selection"
   ]
  },
  {
   "cell_type": "code",
   "execution_count": 88,
   "metadata": {
    "scrolled": true
   },
   "outputs": [
    {
     "name": "stderr",
     "output_type": "stream",
     "text": [
      "C:\\Users\\sahil mathur\\anaconda\\lib\\site-packages\\xgboost\\sklearn.py:888: UserWarning: The use of label encoder in XGBClassifier is deprecated and will be removed in a future release. To remove this warning, do the following: 1) Pass option use_label_encoder=False when constructing XGBClassifier object; and 2) Encode your labels (y) as integers starting with 0, i.e. 0, 1, 2, ..., [num_class - 1].\n",
      "  warnings.warn(label_encoder_deprecation_msg, UserWarning)\n"
     ]
    },
    {
     "name": "stdout",
     "output_type": "stream",
     "text": [
      "[17:36:06] WARNING: ..\\src\\learner.cc:1061: Starting in XGBoost 1.3.0, the default evaluation metric used with the objective 'binary:logistic' was changed from 'error' to 'logloss'. Explicitly set eval_metric if you'd like to restore the old behavior.\n",
      "Threshold: 0.006297334 Model Score: 0.5310129406514947\n"
     ]
    },
    {
     "name": "stderr",
     "output_type": "stream",
     "text": [
      "C:\\Users\\sahil mathur\\anaconda\\lib\\site-packages\\xgboost\\sklearn.py:888: UserWarning: The use of label encoder in XGBClassifier is deprecated and will be removed in a future release. To remove this warning, do the following: 1) Pass option use_label_encoder=False when constructing XGBClassifier object; and 2) Encode your labels (y) as integers starting with 0, i.e. 0, 1, 2, ..., [num_class - 1].\n",
      "  warnings.warn(label_encoder_deprecation_msg, UserWarning)\n"
     ]
    },
    {
     "name": "stdout",
     "output_type": "stream",
     "text": [
      "[17:36:11] WARNING: ..\\src\\learner.cc:1061: Starting in XGBoost 1.3.0, the default evaluation metric used with the objective 'binary:logistic' was changed from 'error' to 'logloss'. Explicitly set eval_metric if you'd like to restore the old behavior.\n",
      "Threshold: 0.0069658877 Model Score: 0.5235137533274179\n"
     ]
    },
    {
     "name": "stderr",
     "output_type": "stream",
     "text": [
      "C:\\Users\\sahil mathur\\anaconda\\lib\\site-packages\\xgboost\\sklearn.py:888: UserWarning: The use of label encoder in XGBClassifier is deprecated and will be removed in a future release. To remove this warning, do the following: 1) Pass option use_label_encoder=False when constructing XGBClassifier object; and 2) Encode your labels (y) as integers starting with 0, i.e. 0, 1, 2, ..., [num_class - 1].\n",
      "  warnings.warn(label_encoder_deprecation_msg, UserWarning)\n"
     ]
    },
    {
     "name": "stdout",
     "output_type": "stream",
     "text": [
      "[17:36:16] WARNING: ..\\src\\learner.cc:1061: Starting in XGBoost 1.3.0, the default evaluation metric used with the objective 'binary:logistic' was changed from 'error' to 'logloss'. Explicitly set eval_metric if you'd like to restore the old behavior.\n",
      "Threshold: 0.0073399288 Model Score: 0.5317247542448615\n",
      "[17:36:20] WARNING: ..\\src\\learner.cc:1061: Starting in XGBoost 1.3.0, the default evaluation metric used with the objective 'binary:logistic' was changed from 'error' to 'logloss'. Explicitly set eval_metric if you'd like to restore the old behavior."
     ]
    },
    {
     "name": "stderr",
     "output_type": "stream",
     "text": [
      "C:\\Users\\sahil mathur\\anaconda\\lib\\site-packages\\xgboost\\sklearn.py:888: UserWarning: The use of label encoder in XGBClassifier is deprecated and will be removed in a future release. To remove this warning, do the following: 1) Pass option use_label_encoder=False when constructing XGBClassifier object; and 2) Encode your labels (y) as integers starting with 0, i.e. 0, 1, 2, ..., [num_class - 1].\n",
      "  warnings.warn(label_encoder_deprecation_msg, UserWarning)\n"
     ]
    },
    {
     "name": "stdout",
     "output_type": "stream",
     "text": [
      "\n",
      "Threshold: 0.008097696 Model Score: 0.5356489945155393\n"
     ]
    },
    {
     "name": "stderr",
     "output_type": "stream",
     "text": [
      "C:\\Users\\sahil mathur\\anaconda\\lib\\site-packages\\xgboost\\sklearn.py:888: UserWarning: The use of label encoder in XGBClassifier is deprecated and will be removed in a future release. To remove this warning, do the following: 1) Pass option use_label_encoder=False when constructing XGBClassifier object; and 2) Encode your labels (y) as integers starting with 0, i.e. 0, 1, 2, ..., [num_class - 1].\n",
      "  warnings.warn(label_encoder_deprecation_msg, UserWarning)\n"
     ]
    },
    {
     "name": "stdout",
     "output_type": "stream",
     "text": [
      "[17:36:24] WARNING: ..\\src\\learner.cc:1061: Starting in XGBoost 1.3.0, the default evaluation metric used with the objective 'binary:logistic' was changed from 'error' to 'logloss'. Explicitly set eval_metric if you'd like to restore the old behavior.\n",
      "Threshold: 0.008105863 Model Score: 0.5287356321839081\n",
      "[17:36:29] WARNING: ..\\src\\learner.cc:1061: Starting in XGBoost 1.3.0, the default evaluation metric used with the objective 'binary:logistic' was changed from 'error' to 'logloss'. Explicitly set eval_metric if you'd like to restore the old behavior."
     ]
    },
    {
     "name": "stderr",
     "output_type": "stream",
     "text": [
      "C:\\Users\\sahil mathur\\anaconda\\lib\\site-packages\\xgboost\\sklearn.py:888: UserWarning: The use of label encoder in XGBClassifier is deprecated and will be removed in a future release. To remove this warning, do the following: 1) Pass option use_label_encoder=False when constructing XGBClassifier object; and 2) Encode your labels (y) as integers starting with 0, i.e. 0, 1, 2, ..., [num_class - 1].\n",
      "  warnings.warn(label_encoder_deprecation_msg, UserWarning)\n"
     ]
    },
    {
     "name": "stdout",
     "output_type": "stream",
     "text": [
      "\n",
      "Threshold: 0.008706556 Model Score: 0.5358986391365556\n",
      "[17:36:33] WARNING: ..\\src\\learner.cc:1061: Starting in XGBoost 1.3.0, the default evaluation metric used with the objective 'binary:logistic' was changed from 'error' to 'logloss'. Explicitly set eval_metric if you'd like to restore the old behavior."
     ]
    },
    {
     "name": "stderr",
     "output_type": "stream",
     "text": [
      "C:\\Users\\sahil mathur\\anaconda\\lib\\site-packages\\xgboost\\sklearn.py:888: UserWarning: The use of label encoder in XGBClassifier is deprecated and will be removed in a future release. To remove this warning, do the following: 1) Pass option use_label_encoder=False when constructing XGBClassifier object; and 2) Encode your labels (y) as integers starting with 0, i.e. 0, 1, 2, ..., [num_class - 1].\n",
      "  warnings.warn(label_encoder_deprecation_msg, UserWarning)\n"
     ]
    },
    {
     "name": "stdout",
     "output_type": "stream",
     "text": [
      "\n",
      "Threshold: 0.008964102 Model Score: 0.5376647834274952\n"
     ]
    },
    {
     "name": "stderr",
     "output_type": "stream",
     "text": [
      "C:\\Users\\sahil mathur\\anaconda\\lib\\site-packages\\xgboost\\sklearn.py:888: UserWarning: The use of label encoder in XGBClassifier is deprecated and will be removed in a future release. To remove this warning, do the following: 1) Pass option use_label_encoder=False when constructing XGBClassifier object; and 2) Encode your labels (y) as integers starting with 0, i.e. 0, 1, 2, ..., [num_class - 1].\n",
      "  warnings.warn(label_encoder_deprecation_msg, UserWarning)\n"
     ]
    },
    {
     "name": "stdout",
     "output_type": "stream",
     "text": [
      "[17:36:37] WARNING: ..\\src\\learner.cc:1061: Starting in XGBoost 1.3.0, the default evaluation metric used with the objective 'binary:logistic' was changed from 'error' to 'logloss'. Explicitly set eval_metric if you'd like to restore the old behavior.\n",
      "Threshold: 0.009339529 Model Score: 0.5359848484848484\n"
     ]
    },
    {
     "name": "stderr",
     "output_type": "stream",
     "text": [
      "C:\\Users\\sahil mathur\\anaconda\\lib\\site-packages\\xgboost\\sklearn.py:888: UserWarning: The use of label encoder in XGBClassifier is deprecated and will be removed in a future release. To remove this warning, do the following: 1) Pass option use_label_encoder=False when constructing XGBClassifier object; and 2) Encode your labels (y) as integers starting with 0, i.e. 0, 1, 2, ..., [num_class - 1].\n",
      "  warnings.warn(label_encoder_deprecation_msg, UserWarning)\n"
     ]
    },
    {
     "name": "stdout",
     "output_type": "stream",
     "text": [
      "[17:36:42] WARNING: ..\\src\\learner.cc:1061: Starting in XGBoost 1.3.0, the default evaluation metric used with the objective 'binary:logistic' was changed from 'error' to 'logloss'. Explicitly set eval_metric if you'd like to restore the old behavior.\n",
      "Threshold: 0.009380567 Model Score: 0.5364020666979803\n"
     ]
    },
    {
     "name": "stderr",
     "output_type": "stream",
     "text": [
      "C:\\Users\\sahil mathur\\anaconda\\lib\\site-packages\\xgboost\\sklearn.py:888: UserWarning: The use of label encoder in XGBClassifier is deprecated and will be removed in a future release. To remove this warning, do the following: 1) Pass option use_label_encoder=False when constructing XGBClassifier object; and 2) Encode your labels (y) as integers starting with 0, i.e. 0, 1, 2, ..., [num_class - 1].\n",
      "  warnings.warn(label_encoder_deprecation_msg, UserWarning)\n"
     ]
    },
    {
     "name": "stdout",
     "output_type": "stream",
     "text": [
      "[17:36:45] WARNING: ..\\src\\learner.cc:1061: Starting in XGBoost 1.3.0, the default evaluation metric used with the objective 'binary:logistic' was changed from 'error' to 'logloss'. Explicitly set eval_metric if you'd like to restore the old behavior.\n",
      "Threshold: 0.00989813 Model Score: 0.5297820823244552\n",
      "[17:36:49] WARNING: ..\\src\\learner.cc:1061: Starting in XGBoost 1.3.0, the default evaluation metric used with the objective 'binary:logistic' was changed from 'error' to 'logloss'. Explicitly set eval_metric if you'd like to restore the old behavior.\n"
     ]
    },
    {
     "name": "stderr",
     "output_type": "stream",
     "text": [
      "C:\\Users\\sahil mathur\\anaconda\\lib\\site-packages\\xgboost\\sklearn.py:888: UserWarning: The use of label encoder in XGBClassifier is deprecated and will be removed in a future release. To remove this warning, do the following: 1) Pass option use_label_encoder=False when constructing XGBClassifier object; and 2) Encode your labels (y) as integers starting with 0, i.e. 0, 1, 2, ..., [num_class - 1].\n",
      "  warnings.warn(label_encoder_deprecation_msg, UserWarning)\n"
     ]
    },
    {
     "name": "stdout",
     "output_type": "stream",
     "text": [
      "Threshold: 0.011001261 Model Score: 0.5359413202933985\n",
      "[17:36:52] WARNING: ..\\src\\learner.cc:1061: Starting in XGBoost 1.3.0, the default evaluation metric used with the objective 'binary:logistic' was changed from 'error' to 'logloss'. Explicitly set eval_metric if you'd like to restore the old behavior.\n"
     ]
    },
    {
     "name": "stderr",
     "output_type": "stream",
     "text": [
      "C:\\Users\\sahil mathur\\anaconda\\lib\\site-packages\\xgboost\\sklearn.py:888: UserWarning: The use of label encoder in XGBClassifier is deprecated and will be removed in a future release. To remove this warning, do the following: 1) Pass option use_label_encoder=False when constructing XGBClassifier object; and 2) Encode your labels (y) as integers starting with 0, i.e. 0, 1, 2, ..., [num_class - 1].\n",
      "  warnings.warn(label_encoder_deprecation_msg, UserWarning)\n"
     ]
    },
    {
     "name": "stdout",
     "output_type": "stream",
     "text": [
      "Threshold: 0.012670276 Model Score: 0.5339189848706687\n",
      "[17:36:55] WARNING: ..\\src\\learner.cc:1061: Starting in XGBoost 1.3.0, the default evaluation metric used with the objective 'binary:logistic' was changed from 'error' to 'logloss'. Explicitly set eval_metric if you'd like to restore the old behavior.\n"
     ]
    },
    {
     "name": "stderr",
     "output_type": "stream",
     "text": [
      "C:\\Users\\sahil mathur\\anaconda\\lib\\site-packages\\xgboost\\sklearn.py:888: UserWarning: The use of label encoder in XGBClassifier is deprecated and will be removed in a future release. To remove this warning, do the following: 1) Pass option use_label_encoder=False when constructing XGBClassifier object; and 2) Encode your labels (y) as integers starting with 0, i.e. 0, 1, 2, ..., [num_class - 1].\n",
      "  warnings.warn(label_encoder_deprecation_msg, UserWarning)\n"
     ]
    },
    {
     "name": "stdout",
     "output_type": "stream",
     "text": [
      "Threshold: 0.013076003 Model Score: 0.5329428989751097\n",
      "[17:36:58] WARNING: ..\\src\\learner.cc:1061: Starting in XGBoost 1.3.0, the default evaluation metric used with the objective 'binary:logistic' was changed from 'error' to 'logloss'. Explicitly set eval_metric if you'd like to restore the old behavior."
     ]
    },
    {
     "name": "stderr",
     "output_type": "stream",
     "text": [
      "C:\\Users\\sahil mathur\\anaconda\\lib\\site-packages\\xgboost\\sklearn.py:888: UserWarning: The use of label encoder in XGBClassifier is deprecated and will be removed in a future release. To remove this warning, do the following: 1) Pass option use_label_encoder=False when constructing XGBClassifier object; and 2) Encode your labels (y) as integers starting with 0, i.e. 0, 1, 2, ..., [num_class - 1].\n",
      "  warnings.warn(label_encoder_deprecation_msg, UserWarning)\n"
     ]
    },
    {
     "name": "stdout",
     "output_type": "stream",
     "text": [
      "\n",
      "Threshold: 0.017660193 Model Score: 0.5330720235178833\n"
     ]
    },
    {
     "name": "stderr",
     "output_type": "stream",
     "text": [
      "C:\\Users\\sahil mathur\\anaconda\\lib\\site-packages\\xgboost\\sklearn.py:888: UserWarning: The use of label encoder in XGBClassifier is deprecated and will be removed in a future release. To remove this warning, do the following: 1) Pass option use_label_encoder=False when constructing XGBClassifier object; and 2) Encode your labels (y) as integers starting with 0, i.e. 0, 1, 2, ..., [num_class - 1].\n",
      "  warnings.warn(label_encoder_deprecation_msg, UserWarning)\n"
     ]
    },
    {
     "name": "stdout",
     "output_type": "stream",
     "text": [
      "[17:37:01] WARNING: ..\\src\\learner.cc:1061: Starting in XGBoost 1.3.0, the default evaluation metric used with the objective 'binary:logistic' was changed from 'error' to 'logloss'. Explicitly set eval_metric if you'd like to restore the old behavior.\n",
      "Threshold: 0.028905485 Model Score: 0.5348950707662274\n",
      "[17:37:04] WARNING: ..\\src\\learner.cc:1061: Starting in XGBoost 1.3.0, the default evaluation metric used with the objective 'binary:logistic' was changed from 'error' to 'logloss'. Explicitly set eval_metric if you'd like to restore the old behavior.\n"
     ]
    },
    {
     "name": "stderr",
     "output_type": "stream",
     "text": [
      "C:\\Users\\sahil mathur\\anaconda\\lib\\site-packages\\xgboost\\sklearn.py:888: UserWarning: The use of label encoder in XGBClassifier is deprecated and will be removed in a future release. To remove this warning, do the following: 1) Pass option use_label_encoder=False when constructing XGBClassifier object; and 2) Encode your labels (y) as integers starting with 0, i.e. 0, 1, 2, ..., [num_class - 1].\n",
      "  warnings.warn(label_encoder_deprecation_msg, UserWarning)\n"
     ]
    },
    {
     "name": "stdout",
     "output_type": "stream",
     "text": [
      "Threshold: 0.031083642 Model Score: 0.5349633251833741\n",
      "[17:37:07] WARNING: ..\\src\\learner.cc:1061: Starting in XGBoost 1.3.0, the default evaluation metric used with the objective 'binary:logistic' was changed from 'error' to 'logloss'. Explicitly set eval_metric if you'd like to restore the old behavior.\n"
     ]
    },
    {
     "name": "stderr",
     "output_type": "stream",
     "text": [
      "C:\\Users\\sahil mathur\\anaconda\\lib\\site-packages\\xgboost\\sklearn.py:888: UserWarning: The use of label encoder in XGBClassifier is deprecated and will be removed in a future release. To remove this warning, do the following: 1) Pass option use_label_encoder=False when constructing XGBClassifier object; and 2) Encode your labels (y) as integers starting with 0, i.e. 0, 1, 2, ..., [num_class - 1].\n",
      "  warnings.warn(label_encoder_deprecation_msg, UserWarning)\n"
     ]
    },
    {
     "name": "stdout",
     "output_type": "stream",
     "text": [
      "Threshold: 0.035252467 Model Score: 0.5237623762376238\n",
      "[17:37:10] WARNING: ..\\src\\learner.cc:1061: Starting in XGBoost 1.3.0, the default evaluation metric used with the objective 'binary:logistic' was changed from 'error' to 'logloss'. Explicitly set eval_metric if you'd like to restore the old behavior.\n"
     ]
    },
    {
     "name": "stderr",
     "output_type": "stream",
     "text": [
      "C:\\Users\\sahil mathur\\anaconda\\lib\\site-packages\\xgboost\\sklearn.py:888: UserWarning: The use of label encoder in XGBClassifier is deprecated and will be removed in a future release. To remove this warning, do the following: 1) Pass option use_label_encoder=False when constructing XGBClassifier object; and 2) Encode your labels (y) as integers starting with 0, i.e. 0, 1, 2, ..., [num_class - 1].\n",
      "  warnings.warn(label_encoder_deprecation_msg, UserWarning)\n"
     ]
    },
    {
     "name": "stdout",
     "output_type": "stream",
     "text": [
      "Threshold: 0.038296886 Model Score: 0.5058939096267191\n",
      "[17:37:12] WARNING: ..\\src\\learner.cc:1061: Starting in XGBoost 1.3.0, the default evaluation metric used with the objective 'binary:logistic' was changed from 'error' to 'logloss'. Explicitly set eval_metric if you'd like to restore the old behavior.\n"
     ]
    },
    {
     "name": "stderr",
     "output_type": "stream",
     "text": [
      "C:\\Users\\sahil mathur\\anaconda\\lib\\site-packages\\xgboost\\sklearn.py:888: UserWarning: The use of label encoder in XGBClassifier is deprecated and will be removed in a future release. To remove this warning, do the following: 1) Pass option use_label_encoder=False when constructing XGBClassifier object; and 2) Encode your labels (y) as integers starting with 0, i.e. 0, 1, 2, ..., [num_class - 1].\n",
      "  warnings.warn(label_encoder_deprecation_msg, UserWarning)\n"
     ]
    },
    {
     "name": "stdout",
     "output_type": "stream",
     "text": [
      "Threshold: 0.04399405 Model Score: 0.19387755102040816\n",
      "[17:37:13] WARNING: ..\\src\\learner.cc:1061: Starting in XGBoost 1.3.0, the default evaluation metric used with the objective 'binary:logistic' was changed from 'error' to 'logloss'. Explicitly set eval_metric if you'd like to restore the old behavior.\n"
     ]
    },
    {
     "name": "stderr",
     "output_type": "stream",
     "text": [
      "C:\\Users\\sahil mathur\\anaconda\\lib\\site-packages\\xgboost\\sklearn.py:888: UserWarning: The use of label encoder in XGBClassifier is deprecated and will be removed in a future release. To remove this warning, do the following: 1) Pass option use_label_encoder=False when constructing XGBClassifier object; and 2) Encode your labels (y) as integers starting with 0, i.e. 0, 1, 2, ..., [num_class - 1].\n",
      "  warnings.warn(label_encoder_deprecation_msg, UserWarning)\n"
     ]
    },
    {
     "name": "stdout",
     "output_type": "stream",
     "text": [
      "Threshold: 0.06911121 Model Score: 0.19387755102040816\n",
      "[17:37:15] WARNING: ..\\src\\learner.cc:1061: Starting in XGBoost 1.3.0, the default evaluation metric used with the objective 'binary:logistic' was changed from 'error' to 'logloss'. Explicitly set eval_metric if you'd like to restore the old behavior.\n"
     ]
    },
    {
     "name": "stderr",
     "output_type": "stream",
     "text": [
      "C:\\Users\\sahil mathur\\anaconda\\lib\\site-packages\\xgboost\\sklearn.py:888: UserWarning: The use of label encoder in XGBClassifier is deprecated and will be removed in a future release. To remove this warning, do the following: 1) Pass option use_label_encoder=False when constructing XGBClassifier object; and 2) Encode your labels (y) as integers starting with 0, i.e. 0, 1, 2, ..., [num_class - 1].\n",
      "  warnings.warn(label_encoder_deprecation_msg, UserWarning)\n"
     ]
    },
    {
     "name": "stdout",
     "output_type": "stream",
     "text": [
      "Threshold: 0.07516895 Model Score: 0.0\n",
      "[17:37:16] WARNING: ..\\src\\learner.cc:1061: Starting in XGBoost 1.3.0, the default evaluation metric used with the objective 'binary:logistic' was changed from 'error' to 'logloss'. Explicitly set eval_metric if you'd like to restore the old behavior.\n"
     ]
    },
    {
     "name": "stderr",
     "output_type": "stream",
     "text": [
      "C:\\Users\\sahil mathur\\anaconda\\lib\\site-packages\\xgboost\\sklearn.py:888: UserWarning: The use of label encoder in XGBClassifier is deprecated and will be removed in a future release. To remove this warning, do the following: 1) Pass option use_label_encoder=False when constructing XGBClassifier object; and 2) Encode your labels (y) as integers starting with 0, i.e. 0, 1, 2, ..., [num_class - 1].\n",
      "  warnings.warn(label_encoder_deprecation_msg, UserWarning)\n"
     ]
    },
    {
     "name": "stdout",
     "output_type": "stream",
     "text": [
      "Threshold: 0.089675136 Model Score: 0.0\n",
      "[17:37:17] WARNING: ..\\src\\learner.cc:1061: Starting in XGBoost 1.3.0, the default evaluation metric used with the objective 'binary:logistic' was changed from 'error' to 'logloss'. Explicitly set eval_metric if you'd like to restore the old behavior.\n"
     ]
    },
    {
     "name": "stderr",
     "output_type": "stream",
     "text": [
      "C:\\Users\\sahil mathur\\anaconda\\lib\\site-packages\\xgboost\\sklearn.py:888: UserWarning: The use of label encoder in XGBClassifier is deprecated and will be removed in a future release. To remove this warning, do the following: 1) Pass option use_label_encoder=False when constructing XGBClassifier object; and 2) Encode your labels (y) as integers starting with 0, i.e. 0, 1, 2, ..., [num_class - 1].\n",
      "  warnings.warn(label_encoder_deprecation_msg, UserWarning)\n"
     ]
    },
    {
     "name": "stdout",
     "output_type": "stream",
     "text": [
      "Threshold: 0.10859401 Model Score: 0.0\n",
      "[17:37:19] WARNING: ..\\src\\learner.cc:1061: Starting in XGBoost 1.3.0, the default evaluation metric used with the objective 'binary:logistic' was changed from 'error' to 'logloss'. Explicitly set eval_metric if you'd like to restore the old behavior.\n"
     ]
    },
    {
     "name": "stderr",
     "output_type": "stream",
     "text": [
      "C:\\Users\\sahil mathur\\anaconda\\lib\\site-packages\\xgboost\\sklearn.py:888: UserWarning: The use of label encoder in XGBClassifier is deprecated and will be removed in a future release. To remove this warning, do the following: 1) Pass option use_label_encoder=False when constructing XGBClassifier object; and 2) Encode your labels (y) as integers starting with 0, i.e. 0, 1, 2, ..., [num_class - 1].\n",
      "  warnings.warn(label_encoder_deprecation_msg, UserWarning)\n"
     ]
    },
    {
     "name": "stdout",
     "output_type": "stream",
     "text": [
      "Threshold: 0.12167438 Model Score: 0.0\n",
      "[17:37:20] WARNING: ..\\src\\learner.cc:1061: Starting in XGBoost 1.3.0, the default evaluation metric used with the objective 'binary:logistic' was changed from 'error' to 'logloss'. Explicitly set eval_metric if you'd like to restore the old behavior.\n"
     ]
    },
    {
     "name": "stderr",
     "output_type": "stream",
     "text": [
      "C:\\Users\\sahil mathur\\anaconda\\lib\\site-packages\\xgboost\\sklearn.py:888: UserWarning: The use of label encoder in XGBClassifier is deprecated and will be removed in a future release. To remove this warning, do the following: 1) Pass option use_label_encoder=False when constructing XGBClassifier object; and 2) Encode your labels (y) as integers starting with 0, i.e. 0, 1, 2, ..., [num_class - 1].\n",
      "  warnings.warn(label_encoder_deprecation_msg, UserWarning)\n"
     ]
    },
    {
     "name": "stdout",
     "output_type": "stream",
     "text": [
      "Threshold: 0.22074045 Model Score: 0.0\n"
     ]
    }
   ],
   "source": [
    "th = np.sort(xgb.feature_importances_)\n",
    "l = []\n",
    "for g in th:\n",
    "    select = SelectFromModel(xgb, threshold = g, prefit = True)\n",
    "    x_train = select.transform(X_train)\n",
    "    model = XGBClassifier()\n",
    "    model.fit(x_train, Y_train)\n",
    "    x_test = select.transform(X_test)\n",
    "    y_pred = model.predict_proba(x_test)\n",
    "    proba = []\n",
    "    for prob in y_pred:\n",
    "        if(prob[0] > 0.68):\n",
    "            proba.append(0)\n",
    "        else:\n",
    "            proba.append(1)\n",
    "    y_pred = proba\n",
    "    accuracy = f1_score(Y_test, proba)\n",
    "    print('Threshold:', g, 'Model Score:', accuracy)"
   ]
  },
  {
   "cell_type": "markdown",
   "metadata": {},
   "source": [
    "Feature Seletion gives best f1 score of 0.5248301097752223 at 0.055724535 threshold"
   ]
  },
  {
   "cell_type": "code",
   "execution_count": 216,
   "metadata": {},
   "outputs": [
    {
     "data": {
      "text/html": [
       "<div>\n",
       "<style scoped>\n",
       "    .dataframe tbody tr th:only-of-type {\n",
       "        vertical-align: middle;\n",
       "    }\n",
       "\n",
       "    .dataframe tbody tr th {\n",
       "        vertical-align: top;\n",
       "    }\n",
       "\n",
       "    .dataframe thead th {\n",
       "        text-align: right;\n",
       "    }\n",
       "</style>\n",
       "<table border=\"1\" class=\"dataframe\">\n",
       "  <thead>\n",
       "    <tr style=\"text-align: right;\">\n",
       "      <th></th>\n",
       "      <th>0</th>\n",
       "    </tr>\n",
       "  </thead>\n",
       "  <tbody>\n",
       "    <tr>\n",
       "      <th>age</th>\n",
       "      <td>0.007340</td>\n",
       "    </tr>\n",
       "    <tr>\n",
       "      <th>length_of_service</th>\n",
       "      <td>0.008106</td>\n",
       "    </tr>\n",
       "    <tr>\n",
       "      <th>education_Below Secondary</th>\n",
       "      <td>0.006297</td>\n",
       "    </tr>\n",
       "    <tr>\n",
       "      <th>recruitment_channel_referred</th>\n",
       "      <td>0.008707</td>\n",
       "    </tr>\n",
       "    <tr>\n",
       "      <th>recruitment_channel_sourcing</th>\n",
       "      <td>0.008098</td>\n",
       "    </tr>\n",
       "    <tr>\n",
       "      <th>previous_year_rating_Fresher</th>\n",
       "      <td>0.006966</td>\n",
       "    </tr>\n",
       "  </tbody>\n",
       "</table>\n",
       "</div>"
      ],
      "text/plain": [
       "                                     0\n",
       "age                           0.007340\n",
       "length_of_service             0.008106\n",
       "education_Below Secondary     0.006297\n",
       "recruitment_channel_referred  0.008707\n",
       "recruitment_channel_sourcing  0.008098\n",
       "previous_year_rating_Fresher  0.006966"
      ]
     },
     "execution_count": 216,
     "metadata": {},
     "output_type": "execute_result"
    }
   ],
   "source": [
    "imp = pd.DataFrame(xgb.feature_importances_)\n",
    "imp.index = X_train.columns\n",
    "f_imp = imp[imp[0] < 0.008964102]\n",
    "f_imp"
   ]
  },
  {
   "cell_type": "code",
   "execution_count": 155,
   "metadata": {},
   "outputs": [],
   "source": [
    "# creating copy of train and test dataframes for feature selection\n",
    "new_df = train.copy()\n",
    "new_test = test.copy()\n",
    "# Dropping columns\n",
    "new_df = new_df.drop(['age','length_of_service','education_Below Secondary', 'recruitment_channel_referred', 'recruitment_channel_sourcing', 'previous_year_rating_Fresher'], axis=1)\n",
    "new_test = new_test.drop(['age','length_of_service','education_Below Secondary', 'recruitment_channel_referred', 'recruitment_channel_sourcing', 'previous_year_rating_Fresher'], axis=1)"
   ]
  },
  {
   "cell_type": "code",
   "execution_count": 156,
   "metadata": {},
   "outputs": [],
   "source": [
    "new_x = new_df.drop('is_promoted', axis=1)\n",
    "new_y = new_df['is_promoted']\n",
    "\n",
    "new_X_train, new_X_test, new_Y_train, new_Y_test = train_test_split(new_x, new_y, test_size=0.3, random_state=1)"
   ]
  },
  {
   "cell_type": "code",
   "execution_count": 219,
   "metadata": {},
   "outputs": [
    {
     "name": "stderr",
     "output_type": "stream",
     "text": [
      "C:\\Users\\sahil mathur\\anaconda\\lib\\site-packages\\xgboost\\sklearn.py:888: UserWarning: The use of label encoder in XGBClassifier is deprecated and will be removed in a future release. To remove this warning, do the following: 1) Pass option use_label_encoder=False when constructing XGBClassifier object; and 2) Encode your labels (y) as integers starting with 0, i.e. 0, 1, 2, ..., [num_class - 1].\n",
      "  warnings.warn(label_encoder_deprecation_msg, UserWarning)\n"
     ]
    },
    {
     "name": "stdout",
     "output_type": "stream",
     "text": [
      "[19:05:32] WARNING: ..\\src\\learner.cc:1061: Starting in XGBoost 1.3.0, the default evaluation metric used with the objective 'binary:logistic' was changed from 'error' to 'logloss'. Explicitly set eval_metric if you'd like to restore the old behavior.\n"
     ]
    },
    {
     "data": {
      "text/plain": [
       "XGBClassifier(base_score=0.5, booster='gbtree', colsample_bylevel=1,\n",
       "              colsample_bynode=1, colsample_bytree=1, gamma=0, gpu_id=-1,\n",
       "              importance_type='gain', interaction_constraints='',\n",
       "              learning_rate=0.300000012, max_delta_step=0, max_depth=6,\n",
       "              min_child_weight=1, missing=nan, monotone_constraints='()',\n",
       "              n_estimators=100, n_jobs=4, num_parallel_tree=1, random_state=0,\n",
       "              reg_alpha=0, reg_lambda=1, scale_pos_weight=1, subsample=1,\n",
       "              tree_method='exact', validate_parameters=1, verbosity=None)"
      ]
     },
     "execution_count": 219,
     "metadata": {},
     "output_type": "execute_result"
    }
   ],
   "source": [
    "fxgb = XGBClassifier()\n",
    "fxgb.fit(new_X_train, new_Y_train)"
   ]
  },
  {
   "cell_type": "code",
   "execution_count": 220,
   "metadata": {},
   "outputs": [
    {
     "name": "stdout",
     "output_type": "stream",
     "text": [
      "              precision    recall  f1-score   support\n",
      "\n",
      "           0       0.95      0.99      0.97     15058\n",
      "           1       0.77      0.41      0.54      1385\n",
      "\n",
      "    accuracy                           0.94     16443\n",
      "   macro avg       0.86      0.70      0.75     16443\n",
      "weighted avg       0.93      0.94      0.93     16443\n",
      "\n"
     ]
    }
   ],
   "source": [
    "fxgb_pred = fxgb.predict_proba(new_X_test)\n",
    "proba = []\n",
    "for prob in fxgb_pred:\n",
    "    if(prob[0] > 0.68):\n",
    "        proba.append(0)\n",
    "    else:\n",
    "        proba.append(1)\n",
    "print(classification_report(new_Y_test, proba))"
   ]
  },
  {
   "cell_type": "code",
   "execution_count": 221,
   "metadata": {},
   "outputs": [
    {
     "data": {
      "text/plain": [
       "0.5376647834274952"
      ]
     },
     "execution_count": 221,
     "metadata": {},
     "output_type": "execute_result"
    }
   ],
   "source": [
    "f1_score(Y_test, proba)"
   ]
  },
  {
   "cell_type": "markdown",
   "metadata": {},
   "source": [
    "# Hyper Parameter Tuning"
   ]
  },
  {
   "cell_type": "code",
   "execution_count": 167,
   "metadata": {},
   "outputs": [
    {
     "data": {
      "text/plain": [
       "array([0.1 , 0.11, 0.12, 0.13, 0.14, 0.15, 0.16, 0.17, 0.18, 0.19, 0.2 ,\n",
       "       0.21, 0.22, 0.23, 0.24, 0.25, 0.26, 0.27, 0.28, 0.29])"
      ]
     },
     "execution_count": 167,
     "metadata": {},
     "output_type": "execute_result"
    }
   ],
   "source": [
    "np.arange(0.1, 0.3, 0.01)"
   ]
  },
  {
   "cell_type": "code",
   "execution_count": 168,
   "metadata": {},
   "outputs": [],
   "source": [
    "max_bin = [i for i in range(40, 140, 10)],\n",
    "learning_rate = [l for l in np.arange(0.1,0.3,0.01)],\n",
    "num_leaves = [a for a in range(10, 100, 5)],\n",
    "boosting_type = ['dart']\n",
    "n_estimators = [n for n in range(100, 500, 50)],\n",
    "\n",
    "hyperparameter_grid = {\n",
    "    'n_estimators' : n_estimators,\n",
    "    'learning_rate' : learning_rate,\n",
    "    'max_bin' : max_bin,\n",
    "    'num_iteration' : num_iteration,\n",
    "    'num_leaves' : num_leaves,\n",
    "    'boosting_type' : boosting_type\n",
    "}"
   ]
  },
  {
   "cell_type": "code",
   "execution_count": 169,
   "metadata": {
    "scrolled": false
   },
   "outputs": [
    {
     "name": "stderr",
     "output_type": "stream",
     "text": [
      "C:\\Users\\sahil mathur\\anaconda\\lib\\site-packages\\sklearn\\model_selection\\_search.py:278: UserWarning: The total space of parameters 8 is smaller than n_iter=30. Running 8 iterations. For exhaustive searches, use GridSearchCV.\n",
      "  warnings.warn(\n",
      "[Parallel(n_jobs=4)]: Using backend LokyBackend with 4 concurrent workers.\n"
     ]
    },
    {
     "name": "stdout",
     "output_type": "stream",
     "text": [
      "Fitting 5 folds for each of 8 candidates, totalling 40 fits\n"
     ]
    },
    {
     "name": "stderr",
     "output_type": "stream",
     "text": [
      "[Parallel(n_jobs=4)]: Done  40 out of  40 | elapsed:    0.4s finished\n",
      "C:\\Users\\sahil mathur\\anaconda\\lib\\site-packages\\lightgbm\\engine.py:148: UserWarning: Found `num_iteration` in params. Will use it instead of argument\n",
      "  _log_warning(\"Found `{}` in params. Will use it instead of argument\".format(alias))\n"
     ]
    },
    {
     "ename": "TypeError",
     "evalue": "'<=' not supported between instances of 'list' and 'int'",
     "output_type": "error",
     "traceback": [
      "\u001b[1;31m---------------------------------------------------------------------------\u001b[0m",
      "\u001b[1;31mTypeError\u001b[0m                                 Traceback (most recent call last)",
      "\u001b[1;32m<ipython-input-169-5045d1d9405d>\u001b[0m in \u001b[0;36m<module>\u001b[1;34m\u001b[0m\n\u001b[0;32m      9\u001b[0m                               random_state=10)\n\u001b[0;32m     10\u001b[0m \u001b[1;33m\u001b[0m\u001b[0m\n\u001b[1;32m---> 11\u001b[1;33m \u001b[0mrandom_cv\u001b[0m\u001b[1;33m.\u001b[0m\u001b[0mfit\u001b[0m\u001b[1;33m(\u001b[0m\u001b[0mnew_X_train\u001b[0m\u001b[1;33m,\u001b[0m \u001b[0mnew_Y_train\u001b[0m\u001b[1;33m)\u001b[0m\u001b[1;33m\u001b[0m\u001b[1;33m\u001b[0m\u001b[0m\n\u001b[0m",
      "\u001b[1;32m~\\anaconda\\lib\\site-packages\\sklearn\\utils\\validation.py\u001b[0m in \u001b[0;36minner_f\u001b[1;34m(*args, **kwargs)\u001b[0m\n\u001b[0;32m     70\u001b[0m                           FutureWarning)\n\u001b[0;32m     71\u001b[0m         \u001b[0mkwargs\u001b[0m\u001b[1;33m.\u001b[0m\u001b[0mupdate\u001b[0m\u001b[1;33m(\u001b[0m\u001b[1;33m{\u001b[0m\u001b[0mk\u001b[0m\u001b[1;33m:\u001b[0m \u001b[0marg\u001b[0m \u001b[1;32mfor\u001b[0m \u001b[0mk\u001b[0m\u001b[1;33m,\u001b[0m \u001b[0marg\u001b[0m \u001b[1;32min\u001b[0m \u001b[0mzip\u001b[0m\u001b[1;33m(\u001b[0m\u001b[0msig\u001b[0m\u001b[1;33m.\u001b[0m\u001b[0mparameters\u001b[0m\u001b[1;33m,\u001b[0m \u001b[0margs\u001b[0m\u001b[1;33m)\u001b[0m\u001b[1;33m}\u001b[0m\u001b[1;33m)\u001b[0m\u001b[1;33m\u001b[0m\u001b[1;33m\u001b[0m\u001b[0m\n\u001b[1;32m---> 72\u001b[1;33m         \u001b[1;32mreturn\u001b[0m \u001b[0mf\u001b[0m\u001b[1;33m(\u001b[0m\u001b[1;33m**\u001b[0m\u001b[0mkwargs\u001b[0m\u001b[1;33m)\u001b[0m\u001b[1;33m\u001b[0m\u001b[1;33m\u001b[0m\u001b[0m\n\u001b[0m\u001b[0;32m     73\u001b[0m     \u001b[1;32mreturn\u001b[0m \u001b[0minner_f\u001b[0m\u001b[1;33m\u001b[0m\u001b[1;33m\u001b[0m\u001b[0m\n\u001b[0;32m     74\u001b[0m \u001b[1;33m\u001b[0m\u001b[0m\n",
      "\u001b[1;32m~\\anaconda\\lib\\site-packages\\sklearn\\model_selection\\_search.py\u001b[0m in \u001b[0;36mfit\u001b[1;34m(self, X, y, groups, **fit_params)\u001b[0m\n\u001b[0;32m    763\u001b[0m             \u001b[0mrefit_start_time\u001b[0m \u001b[1;33m=\u001b[0m \u001b[0mtime\u001b[0m\u001b[1;33m.\u001b[0m\u001b[0mtime\u001b[0m\u001b[1;33m(\u001b[0m\u001b[1;33m)\u001b[0m\u001b[1;33m\u001b[0m\u001b[1;33m\u001b[0m\u001b[0m\n\u001b[0;32m    764\u001b[0m             \u001b[1;32mif\u001b[0m \u001b[0my\u001b[0m \u001b[1;32mis\u001b[0m \u001b[1;32mnot\u001b[0m \u001b[1;32mNone\u001b[0m\u001b[1;33m:\u001b[0m\u001b[1;33m\u001b[0m\u001b[1;33m\u001b[0m\u001b[0m\n\u001b[1;32m--> 765\u001b[1;33m                 \u001b[0mself\u001b[0m\u001b[1;33m.\u001b[0m\u001b[0mbest_estimator_\u001b[0m\u001b[1;33m.\u001b[0m\u001b[0mfit\u001b[0m\u001b[1;33m(\u001b[0m\u001b[0mX\u001b[0m\u001b[1;33m,\u001b[0m \u001b[0my\u001b[0m\u001b[1;33m,\u001b[0m \u001b[1;33m**\u001b[0m\u001b[0mfit_params\u001b[0m\u001b[1;33m)\u001b[0m\u001b[1;33m\u001b[0m\u001b[1;33m\u001b[0m\u001b[0m\n\u001b[0m\u001b[0;32m    766\u001b[0m             \u001b[1;32melse\u001b[0m\u001b[1;33m:\u001b[0m\u001b[1;33m\u001b[0m\u001b[1;33m\u001b[0m\u001b[0m\n\u001b[0;32m    767\u001b[0m                 \u001b[0mself\u001b[0m\u001b[1;33m.\u001b[0m\u001b[0mbest_estimator_\u001b[0m\u001b[1;33m.\u001b[0m\u001b[0mfit\u001b[0m\u001b[1;33m(\u001b[0m\u001b[0mX\u001b[0m\u001b[1;33m,\u001b[0m \u001b[1;33m**\u001b[0m\u001b[0mfit_params\u001b[0m\u001b[1;33m)\u001b[0m\u001b[1;33m\u001b[0m\u001b[1;33m\u001b[0m\u001b[0m\n",
      "\u001b[1;32m~\\anaconda\\lib\\site-packages\\lightgbm\\sklearn.py\u001b[0m in \u001b[0;36mfit\u001b[1;34m(self, X, y, sample_weight, init_score, eval_set, eval_names, eval_sample_weight, eval_class_weight, eval_init_score, eval_metric, early_stopping_rounds, verbose, feature_name, categorical_feature, callbacks, init_model)\u001b[0m\n\u001b[0;32m    888\u001b[0m                     \u001b[0mvalid_sets\u001b[0m\u001b[1;33m[\u001b[0m\u001b[0mi\u001b[0m\u001b[1;33m]\u001b[0m \u001b[1;33m=\u001b[0m \u001b[1;33m(\u001b[0m\u001b[0mvalid_x\u001b[0m\u001b[1;33m,\u001b[0m \u001b[0mself\u001b[0m\u001b[1;33m.\u001b[0m\u001b[0m_le\u001b[0m\u001b[1;33m.\u001b[0m\u001b[0mtransform\u001b[0m\u001b[1;33m(\u001b[0m\u001b[0mvalid_y\u001b[0m\u001b[1;33m)\u001b[0m\u001b[1;33m)\u001b[0m\u001b[1;33m\u001b[0m\u001b[1;33m\u001b[0m\u001b[0m\n\u001b[0;32m    889\u001b[0m \u001b[1;33m\u001b[0m\u001b[0m\n\u001b[1;32m--> 890\u001b[1;33m         super().fit(X, _y, sample_weight=sample_weight, init_score=init_score, eval_set=valid_sets,\n\u001b[0m\u001b[0;32m    891\u001b[0m                     \u001b[0meval_names\u001b[0m\u001b[1;33m=\u001b[0m\u001b[0meval_names\u001b[0m\u001b[1;33m,\u001b[0m \u001b[0meval_sample_weight\u001b[0m\u001b[1;33m=\u001b[0m\u001b[0meval_sample_weight\u001b[0m\u001b[1;33m,\u001b[0m\u001b[1;33m\u001b[0m\u001b[1;33m\u001b[0m\u001b[0m\n\u001b[0;32m    892\u001b[0m                     \u001b[0meval_class_weight\u001b[0m\u001b[1;33m=\u001b[0m\u001b[0meval_class_weight\u001b[0m\u001b[1;33m,\u001b[0m \u001b[0meval_init_score\u001b[0m\u001b[1;33m=\u001b[0m\u001b[0meval_init_score\u001b[0m\u001b[1;33m,\u001b[0m\u001b[1;33m\u001b[0m\u001b[1;33m\u001b[0m\u001b[0m\n",
      "\u001b[1;32m~\\anaconda\\lib\\site-packages\\lightgbm\\sklearn.py\u001b[0m in \u001b[0;36mfit\u001b[1;34m(self, X, y, sample_weight, init_score, group, eval_set, eval_names, eval_sample_weight, eval_class_weight, eval_init_score, eval_group, eval_metric, early_stopping_rounds, verbose, feature_name, categorical_feature, callbacks, init_model)\u001b[0m\n\u001b[0;32m    681\u001b[0m             \u001b[0minit_model\u001b[0m \u001b[1;33m=\u001b[0m \u001b[0minit_model\u001b[0m\u001b[1;33m.\u001b[0m\u001b[0mbooster_\u001b[0m\u001b[1;33m\u001b[0m\u001b[1;33m\u001b[0m\u001b[0m\n\u001b[0;32m    682\u001b[0m \u001b[1;33m\u001b[0m\u001b[0m\n\u001b[1;32m--> 683\u001b[1;33m         self._Booster = train(params, train_set,\n\u001b[0m\u001b[0;32m    684\u001b[0m                               \u001b[0mself\u001b[0m\u001b[1;33m.\u001b[0m\u001b[0mn_estimators\u001b[0m\u001b[1;33m,\u001b[0m \u001b[0mvalid_sets\u001b[0m\u001b[1;33m=\u001b[0m\u001b[0mvalid_sets\u001b[0m\u001b[1;33m,\u001b[0m \u001b[0mvalid_names\u001b[0m\u001b[1;33m=\u001b[0m\u001b[0meval_names\u001b[0m\u001b[1;33m,\u001b[0m\u001b[1;33m\u001b[0m\u001b[1;33m\u001b[0m\u001b[0m\n\u001b[0;32m    685\u001b[0m                               \u001b[0mearly_stopping_rounds\u001b[0m\u001b[1;33m=\u001b[0m\u001b[0mearly_stopping_rounds\u001b[0m\u001b[1;33m,\u001b[0m\u001b[1;33m\u001b[0m\u001b[1;33m\u001b[0m\u001b[0m\n",
      "\u001b[1;32m~\\anaconda\\lib\\site-packages\\lightgbm\\engine.py\u001b[0m in \u001b[0;36mtrain\u001b[1;34m(params, train_set, num_boost_round, valid_sets, valid_names, fobj, feval, init_model, feature_name, categorical_feature, early_stopping_rounds, evals_result, verbose_eval, learning_rates, keep_training_booster, callbacks)\u001b[0m\n\u001b[0;32m    155\u001b[0m     \u001b[0mfirst_metric_only\u001b[0m \u001b[1;33m=\u001b[0m \u001b[0mparams\u001b[0m\u001b[1;33m.\u001b[0m\u001b[0mget\u001b[0m\u001b[1;33m(\u001b[0m\u001b[1;34m'first_metric_only'\u001b[0m\u001b[1;33m,\u001b[0m \u001b[1;32mFalse\u001b[0m\u001b[1;33m)\u001b[0m\u001b[1;33m\u001b[0m\u001b[1;33m\u001b[0m\u001b[0m\n\u001b[0;32m    156\u001b[0m \u001b[1;33m\u001b[0m\u001b[0m\n\u001b[1;32m--> 157\u001b[1;33m     \u001b[1;32mif\u001b[0m \u001b[0mnum_boost_round\u001b[0m \u001b[1;33m<=\u001b[0m \u001b[1;36m0\u001b[0m\u001b[1;33m:\u001b[0m\u001b[1;33m\u001b[0m\u001b[1;33m\u001b[0m\u001b[0m\n\u001b[0m\u001b[0;32m    158\u001b[0m         \u001b[1;32mraise\u001b[0m \u001b[0mValueError\u001b[0m\u001b[1;33m(\u001b[0m\u001b[1;34m\"num_boost_round should be greater than zero.\"\u001b[0m\u001b[1;33m)\u001b[0m\u001b[1;33m\u001b[0m\u001b[1;33m\u001b[0m\u001b[0m\n\u001b[0;32m    159\u001b[0m     \u001b[1;32mif\u001b[0m \u001b[0misinstance\u001b[0m\u001b[1;33m(\u001b[0m\u001b[0minit_model\u001b[0m\u001b[1;33m,\u001b[0m \u001b[0mstr\u001b[0m\u001b[1;33m)\u001b[0m\u001b[1;33m:\u001b[0m\u001b[1;33m\u001b[0m\u001b[1;33m\u001b[0m\u001b[0m\n",
      "\u001b[1;31mTypeError\u001b[0m: '<=' not supported between instances of 'list' and 'int'"
     ]
    }
   ],
   "source": [
    "random_cv = RandomizedSearchCV(estimator = lgbm,\n",
    "                              param_distributions = hyperparameter_grid,\n",
    "                              cv=5,\n",
    "                              n_iter=30, \n",
    "                              scoring='accuracy',\n",
    "                              n_jobs=4,\n",
    "                              verbose=7,\n",
    "                              return_train_score=True,\n",
    "                              random_state=10)\n",
    "\n",
    "random_cv.fit(new_X_train, new_Y_train)"
   ]
  },
  {
   "cell_type": "code",
   "execution_count": 263,
   "metadata": {},
   "outputs": [
    {
     "data": {
      "text/plain": [
       "XGBClassifier(base_score=0.63, booster='gbtree', colsample_bylevel=1,\n",
       "              colsample_bynode=1, colsample_bytree=1, gamma=0, gpu_id=-1,\n",
       "              importance_type='gain', interaction_constraints='',\n",
       "              learning_rate=0.051000000000000004, max_delta_step=0, max_depth=3,\n",
       "              min_child_weight=4, missing=nan, monotone_constraints='()',\n",
       "              n_estimators=700, n_jobs=4, num_parallel_tree=1, random_state=0,\n",
       "              reg_alpha=0, reg_lambda=1, scale_pos_weight=1, subsample=1,\n",
       "              tree_method='exact', validate_parameters=1, verbosity=None)"
      ]
     },
     "execution_count": 263,
     "metadata": {},
     "output_type": "execute_result"
    }
   ],
   "source": [
    "random_cv.best_estimator_"
   ]
  },
  {
   "cell_type": "code",
   "execution_count": 264,
   "metadata": {},
   "outputs": [
    {
     "name": "stdout",
     "output_type": "stream",
     "text": [
      "[20:21:19] WARNING: ..\\src\\learner.cc:1061: Starting in XGBoost 1.3.0, the default evaluation metric used with the objective 'binary:logistic' was changed from 'error' to 'logloss'. Explicitly set eval_metric if you'd like to restore the old behavior.\n"
     ]
    },
    {
     "data": {
      "text/plain": [
       "XGBClassifier(base_score=0.63, booster='gbtree', colsample_bylevel=1,\n",
       "              colsample_bynode=1, colsample_bytree=1, gamma=0, gpu_id=-1,\n",
       "              importance_type='gain', interaction_constraints='',\n",
       "              learning_rate=0.051000000000000004, max_delta_step=0, max_depth=3,\n",
       "              min_child_weight=4, missing=nan, monotone_constraints='()',\n",
       "              n_estimators=700, n_jobs=4, num_parallel_tree=1, random_state=0,\n",
       "              reg_alpha=0, reg_lambda=1, scale_pos_weight=1, subsample=1,\n",
       "              tree_method='exact', validate_parameters=1, verbosity=None)"
      ]
     },
     "execution_count": 264,
     "metadata": {},
     "output_type": "execute_result"
    }
   ],
   "source": [
    "axgb = XGBClassifier(base_score=0.63, booster='gbtree', colsample_bylevel=1,\n",
    "              colsample_bynode=1, colsample_bytree=1, gamma=0, gpu_id=-1,\n",
    "              importance_type='gain', interaction_constraints='',\n",
    "              learning_rate=0.051000000000000004, max_delta_step=0, max_depth=3,\n",
    "              min_child_weight=4, monotone_constraints='()',\n",
    "              n_estimators=700, n_jobs=4, num_parallel_tree=1, random_state=0,\n",
    "              reg_alpha=0, reg_lambda=1, scale_pos_weight=1, subsample=1,\n",
    "              tree_method='exact', validate_parameters=1, verbosity=None)\n",
    "axgb.fit(X_train, Y_train)"
   ]
  },
  {
   "cell_type": "code",
   "execution_count": 265,
   "metadata": {},
   "outputs": [
    {
     "name": "stdout",
     "output_type": "stream",
     "text": [
      "              precision    recall  f1-score   support\n",
      "\n",
      "           0       0.94      1.00      0.97     15058\n",
      "           1       0.95      0.35      0.51      1385\n",
      "\n",
      "    accuracy                           0.94     16443\n",
      "   macro avg       0.94      0.68      0.74     16443\n",
      "weighted avg       0.94      0.94      0.93     16443\n",
      "\n"
     ]
    }
   ],
   "source": [
    "axgb_pred = axgb.predict(X_test)\n",
    "print(classification_report(Y_test, axgb_pred))"
   ]
  },
  {
   "cell_type": "code",
   "execution_count": 266,
   "metadata": {},
   "outputs": [
    {
     "name": "stdout",
     "output_type": "stream",
     "text": [
      "              precision    recall  f1-score   support\n",
      "\n",
      "           0       0.95      0.99      0.97     15058\n",
      "           1       0.82      0.39      0.53      1385\n",
      "\n",
      "    accuracy                           0.94     16443\n",
      "   macro avg       0.88      0.69      0.75     16443\n",
      "weighted avg       0.94      0.94      0.93     16443\n",
      "\n"
     ]
    }
   ],
   "source": [
    "axgb_pred = axgb.predict_proba(X_test)\n",
    "proba = []\n",
    "for prob in axgb_pred:\n",
    "    if(prob[0] > 0.68):\n",
    "        proba.append(0)\n",
    "    else:\n",
    "        proba.append(1)\n",
    "print(classification_report(Y_test, proba))"
   ]
  },
  {
   "cell_type": "code",
   "execution_count": 267,
   "metadata": {
    "scrolled": true
   },
   "outputs": [
    {
     "data": {
      "text/plain": [
       "0.5311890838206628"
      ]
     },
     "execution_count": 267,
     "metadata": {},
     "output_type": "execute_result"
    }
   ],
   "source": [
    "f1_score(Y_test, proba)"
   ]
  },
  {
   "cell_type": "markdown",
   "metadata": {},
   "source": [
    "# Creating Submission File"
   ]
  },
  {
   "cell_type": "code",
   "execution_count": 173,
   "metadata": {},
   "outputs": [],
   "source": [
    "probab = lgbm.predict_proba(new_test)\n",
    "proba = []\n",
    "for prob in probab:\n",
    "    if(prob[0] > 0.68):\n",
    "        proba.append(0)\n",
    "    else:\n",
    "        proba.append(1)"
   ]
  },
  {
   "cell_type": "code",
   "execution_count": 174,
   "metadata": {},
   "outputs": [],
   "source": [
    "submit = pd.DataFrame({\n",
    "    'employee_id' : sample_sub['employee_id'],\n",
    "    'is_promoted' : proba\n",
    "})\n",
    "submit.to_csv('Submition.csv', index=False)"
   ]
  },
  {
   "cell_type": "code",
   "execution_count": 150,
   "metadata": {},
   "outputs": [],
   "source": [
    "test.drop('is_promoted', axis=1, inplace=True)"
   ]
  },
  {
   "cell_type": "markdown",
   "metadata": {},
   "source": [
    "# Best Model"
   ]
  },
  {
   "cell_type": "markdown",
   "metadata": {},
   "source": [
    "My best model is XGBoost Classifierr after feature selection"
   ]
  },
  {
   "cell_type": "code",
   "execution_count": 68,
   "metadata": {},
   "outputs": [
    {
     "name": "stdout",
     "output_type": "stream",
     "text": [
      "Learning rate set to 0.048896\n",
      "0:\tlearn: 0.6400957\ttotal: 340ms\tremaining: 5m 40s\n",
      "1:\tlearn: 0.5897662\ttotal: 365ms\tremaining: 3m 2s\n",
      "2:\tlearn: 0.5331691\ttotal: 416ms\tremaining: 2m 18s\n",
      "3:\tlearn: 0.4865856\ttotal: 456ms\tremaining: 1m 53s\n",
      "4:\tlearn: 0.4549633\ttotal: 493ms\tremaining: 1m 38s\n",
      "5:\tlearn: 0.4280954\ttotal: 524ms\tremaining: 1m 26s\n",
      "6:\tlearn: 0.4040471\ttotal: 559ms\tremaining: 1m 19s\n",
      "7:\tlearn: 0.3808888\ttotal: 588ms\tremaining: 1m 12s\n",
      "8:\tlearn: 0.3637702\ttotal: 612ms\tremaining: 1m 7s\n",
      "9:\tlearn: 0.3495308\ttotal: 634ms\tremaining: 1m 2s\n",
      "10:\tlearn: 0.3376175\ttotal: 657ms\tremaining: 59s\n",
      "11:\tlearn: 0.3247379\ttotal: 679ms\tremaining: 55.9s\n",
      "12:\tlearn: 0.3123908\ttotal: 701ms\tremaining: 53.2s\n",
      "13:\tlearn: 0.3044363\ttotal: 721ms\tremaining: 50.7s\n",
      "14:\tlearn: 0.2880256\ttotal: 751ms\tremaining: 49.3s\n",
      "15:\tlearn: 0.2817730\ttotal: 775ms\tremaining: 47.6s\n",
      "16:\tlearn: 0.2708059\ttotal: 798ms\tremaining: 46.1s\n",
      "17:\tlearn: 0.2645759\ttotal: 820ms\tremaining: 44.7s\n",
      "18:\tlearn: 0.2548568\ttotal: 842ms\tremaining: 43.5s\n",
      "19:\tlearn: 0.2498726\ttotal: 865ms\tremaining: 42.4s\n",
      "20:\tlearn: 0.2425136\ttotal: 891ms\tremaining: 41.5s\n",
      "21:\tlearn: 0.2355830\ttotal: 921ms\tremaining: 40.9s\n",
      "22:\tlearn: 0.2323252\ttotal: 956ms\tremaining: 40.6s\n",
      "23:\tlearn: 0.2296834\ttotal: 986ms\tremaining: 40.1s\n",
      "24:\tlearn: 0.2246509\ttotal: 1.02s\tremaining: 39.8s\n",
      "25:\tlearn: 0.2215772\ttotal: 1.05s\tremaining: 39.4s\n",
      "26:\tlearn: 0.2198328\ttotal: 1.08s\tremaining: 39.1s\n",
      "27:\tlearn: 0.2187229\ttotal: 1.11s\tremaining: 38.6s\n",
      "28:\tlearn: 0.2170852\ttotal: 1.14s\tremaining: 38.3s\n",
      "29:\tlearn: 0.2135048\ttotal: 1.17s\tremaining: 37.8s\n",
      "30:\tlearn: 0.2122730\ttotal: 1.19s\tremaining: 37.3s\n",
      "31:\tlearn: 0.2105010\ttotal: 1.22s\tremaining: 36.8s\n",
      "32:\tlearn: 0.2065582\ttotal: 1.24s\tremaining: 36.3s\n",
      "33:\tlearn: 0.2049335\ttotal: 1.26s\tremaining: 35.9s\n",
      "34:\tlearn: 0.2037250\ttotal: 1.28s\tremaining: 35.4s\n",
      "35:\tlearn: 0.2022606\ttotal: 1.31s\tremaining: 35.2s\n",
      "36:\tlearn: 0.2005695\ttotal: 1.34s\tremaining: 34.9s\n",
      "37:\tlearn: 0.1998364\ttotal: 1.37s\tremaining: 34.6s\n",
      "38:\tlearn: 0.1989368\ttotal: 1.39s\tremaining: 34.3s\n",
      "39:\tlearn: 0.1980329\ttotal: 1.42s\tremaining: 34.2s\n",
      "40:\tlearn: 0.1965333\ttotal: 1.45s\tremaining: 33.8s\n",
      "41:\tlearn: 0.1960570\ttotal: 1.47s\tremaining: 33.5s\n",
      "42:\tlearn: 0.1952407\ttotal: 1.5s\tremaining: 33.4s\n",
      "43:\tlearn: 0.1945662\ttotal: 1.52s\tremaining: 33.1s\n",
      "44:\tlearn: 0.1923340\ttotal: 1.55s\tremaining: 32.9s\n",
      "45:\tlearn: 0.1915332\ttotal: 1.58s\tremaining: 32.7s\n",
      "46:\tlearn: 0.1904388\ttotal: 1.61s\tremaining: 32.6s\n",
      "47:\tlearn: 0.1896236\ttotal: 1.64s\tremaining: 32.6s\n",
      "48:\tlearn: 0.1885804\ttotal: 1.68s\tremaining: 32.5s\n",
      "49:\tlearn: 0.1872259\ttotal: 1.71s\tremaining: 32.5s\n",
      "50:\tlearn: 0.1864441\ttotal: 1.74s\tremaining: 32.5s\n",
      "51:\tlearn: 0.1859779\ttotal: 1.78s\tremaining: 32.4s\n",
      "52:\tlearn: 0.1855719\ttotal: 1.81s\tremaining: 32.3s\n",
      "53:\tlearn: 0.1847358\ttotal: 1.84s\tremaining: 32.2s\n",
      "54:\tlearn: 0.1845503\ttotal: 1.86s\tremaining: 32s\n",
      "55:\tlearn: 0.1843049\ttotal: 1.89s\tremaining: 31.9s\n",
      "56:\tlearn: 0.1840136\ttotal: 1.92s\tremaining: 31.7s\n",
      "57:\tlearn: 0.1836483\ttotal: 1.94s\tremaining: 31.5s\n",
      "58:\tlearn: 0.1829978\ttotal: 1.96s\tremaining: 31.3s\n",
      "59:\tlearn: 0.1824413\ttotal: 1.98s\tremaining: 31.1s\n",
      "60:\tlearn: 0.1820754\ttotal: 2.01s\tremaining: 30.9s\n",
      "61:\tlearn: 0.1812841\ttotal: 2.04s\tremaining: 30.9s\n",
      "62:\tlearn: 0.1810315\ttotal: 2.08s\tremaining: 30.9s\n",
      "63:\tlearn: 0.1804597\ttotal: 2.11s\tremaining: 30.9s\n",
      "64:\tlearn: 0.1802471\ttotal: 2.15s\tremaining: 30.9s\n",
      "65:\tlearn: 0.1799987\ttotal: 2.18s\tremaining: 30.8s\n",
      "66:\tlearn: 0.1795683\ttotal: 2.21s\tremaining: 30.7s\n",
      "67:\tlearn: 0.1789101\ttotal: 2.23s\tremaining: 30.6s\n",
      "68:\tlearn: 0.1786053\ttotal: 2.26s\tremaining: 30.5s\n",
      "69:\tlearn: 0.1784858\ttotal: 2.29s\tremaining: 30.4s\n",
      "70:\tlearn: 0.1780137\ttotal: 2.31s\tremaining: 30.2s\n",
      "71:\tlearn: 0.1774178\ttotal: 2.33s\tremaining: 30.1s\n",
      "72:\tlearn: 0.1768883\ttotal: 2.36s\tremaining: 30s\n",
      "73:\tlearn: 0.1763405\ttotal: 2.38s\tremaining: 29.8s\n",
      "74:\tlearn: 0.1758338\ttotal: 2.41s\tremaining: 29.7s\n",
      "75:\tlearn: 0.1756500\ttotal: 2.45s\tremaining: 29.8s\n",
      "76:\tlearn: 0.1754507\ttotal: 2.49s\tremaining: 29.8s\n",
      "77:\tlearn: 0.1749991\ttotal: 2.52s\tremaining: 29.8s\n",
      "78:\tlearn: 0.1748682\ttotal: 2.56s\tremaining: 29.8s\n",
      "79:\tlearn: 0.1746327\ttotal: 2.59s\tremaining: 29.8s\n",
      "80:\tlearn: 0.1743792\ttotal: 2.62s\tremaining: 29.8s\n",
      "81:\tlearn: 0.1739446\ttotal: 2.66s\tremaining: 29.8s\n",
      "82:\tlearn: 0.1735189\ttotal: 2.69s\tremaining: 29.7s\n",
      "83:\tlearn: 0.1731483\ttotal: 2.72s\tremaining: 29.7s\n",
      "84:\tlearn: 0.1730185\ttotal: 2.76s\tremaining: 29.7s\n",
      "85:\tlearn: 0.1722800\ttotal: 2.78s\tremaining: 29.6s\n",
      "86:\tlearn: 0.1721524\ttotal: 2.81s\tremaining: 29.5s\n",
      "87:\tlearn: 0.1717963\ttotal: 2.84s\tremaining: 29.4s\n",
      "88:\tlearn: 0.1716045\ttotal: 2.86s\tremaining: 29.3s\n",
      "89:\tlearn: 0.1714858\ttotal: 2.88s\tremaining: 29.1s\n",
      "90:\tlearn: 0.1713621\ttotal: 2.91s\tremaining: 29s\n",
      "91:\tlearn: 0.1711621\ttotal: 2.93s\tremaining: 28.9s\n",
      "92:\tlearn: 0.1711100\ttotal: 2.95s\tremaining: 28.8s\n",
      "93:\tlearn: 0.1708443\ttotal: 2.97s\tremaining: 28.6s\n",
      "94:\tlearn: 0.1707422\ttotal: 3s\tremaining: 28.6s\n",
      "95:\tlearn: 0.1704238\ttotal: 3.03s\tremaining: 28.5s\n",
      "96:\tlearn: 0.1701298\ttotal: 3.05s\tremaining: 28.4s\n",
      "97:\tlearn: 0.1699751\ttotal: 3.08s\tremaining: 28.3s\n",
      "98:\tlearn: 0.1698017\ttotal: 3.11s\tremaining: 28.3s\n",
      "99:\tlearn: 0.1697544\ttotal: 3.14s\tremaining: 28.3s\n",
      "100:\tlearn: 0.1696935\ttotal: 3.17s\tremaining: 28.3s\n",
      "101:\tlearn: 0.1696200\ttotal: 3.21s\tremaining: 28.3s\n",
      "102:\tlearn: 0.1694319\ttotal: 3.25s\tremaining: 28.3s\n",
      "103:\tlearn: 0.1692379\ttotal: 3.29s\tremaining: 28.3s\n",
      "104:\tlearn: 0.1689489\ttotal: 3.32s\tremaining: 28.3s\n",
      "105:\tlearn: 0.1688749\ttotal: 3.35s\tremaining: 28.3s\n",
      "106:\tlearn: 0.1685913\ttotal: 3.39s\tremaining: 28.3s\n",
      "107:\tlearn: 0.1685332\ttotal: 3.42s\tremaining: 28.3s\n",
      "108:\tlearn: 0.1684629\ttotal: 3.46s\tremaining: 28.3s\n",
      "109:\tlearn: 0.1683306\ttotal: 3.49s\tremaining: 28.3s\n",
      "110:\tlearn: 0.1682468\ttotal: 3.53s\tremaining: 28.2s\n",
      "111:\tlearn: 0.1680731\ttotal: 3.55s\tremaining: 28.2s\n",
      "112:\tlearn: 0.1679271\ttotal: 3.58s\tremaining: 28.1s\n",
      "113:\tlearn: 0.1678618\ttotal: 3.6s\tremaining: 28s\n",
      "114:\tlearn: 0.1677509\ttotal: 3.63s\tremaining: 27.9s\n",
      "115:\tlearn: 0.1676620\ttotal: 3.65s\tremaining: 27.8s\n",
      "116:\tlearn: 0.1675863\ttotal: 3.67s\tremaining: 27.7s\n",
      "117:\tlearn: 0.1674898\ttotal: 3.69s\tremaining: 27.6s\n",
      "118:\tlearn: 0.1673931\ttotal: 3.72s\tremaining: 27.5s\n",
      "119:\tlearn: 0.1673229\ttotal: 3.74s\tremaining: 27.4s\n",
      "120:\tlearn: 0.1672648\ttotal: 3.77s\tremaining: 27.4s\n",
      "121:\tlearn: 0.1671232\ttotal: 3.79s\tremaining: 27.3s\n",
      "122:\tlearn: 0.1670268\ttotal: 3.82s\tremaining: 27.2s\n",
      "123:\tlearn: 0.1669103\ttotal: 3.85s\tremaining: 27.2s\n",
      "124:\tlearn: 0.1667836\ttotal: 3.88s\tremaining: 27.2s\n",
      "125:\tlearn: 0.1665801\ttotal: 3.92s\tremaining: 27.2s\n",
      "126:\tlearn: 0.1663925\ttotal: 3.95s\tremaining: 27.2s\n",
      "127:\tlearn: 0.1663286\ttotal: 3.98s\tremaining: 27.1s\n",
      "128:\tlearn: 0.1661178\ttotal: 4.02s\tremaining: 27.2s\n",
      "129:\tlearn: 0.1660467\ttotal: 4.06s\tremaining: 27.2s\n",
      "130:\tlearn: 0.1658979\ttotal: 4.09s\tremaining: 27.1s\n",
      "131:\tlearn: 0.1658607\ttotal: 4.12s\tremaining: 27.1s\n",
      "132:\tlearn: 0.1657405\ttotal: 4.15s\tremaining: 27.1s\n",
      "133:\tlearn: 0.1656718\ttotal: 4.19s\tremaining: 27.1s\n",
      "134:\tlearn: 0.1655440\ttotal: 4.23s\tremaining: 27.1s\n",
      "135:\tlearn: 0.1655023\ttotal: 4.26s\tremaining: 27.1s\n",
      "136:\tlearn: 0.1654307\ttotal: 4.28s\tremaining: 27s\n",
      "137:\tlearn: 0.1652900\ttotal: 4.3s\tremaining: 26.9s\n",
      "138:\tlearn: 0.1651395\ttotal: 4.33s\tremaining: 26.8s\n",
      "139:\tlearn: 0.1650860\ttotal: 4.35s\tremaining: 26.7s\n",
      "140:\tlearn: 0.1649870\ttotal: 4.38s\tremaining: 26.7s\n",
      "141:\tlearn: 0.1649230\ttotal: 4.41s\tremaining: 26.6s\n",
      "142:\tlearn: 0.1648217\ttotal: 4.43s\tremaining: 26.5s\n",
      "143:\tlearn: 0.1647658\ttotal: 4.45s\tremaining: 26.5s\n",
      "144:\tlearn: 0.1647083\ttotal: 4.47s\tremaining: 26.4s\n",
      "145:\tlearn: 0.1644748\ttotal: 4.5s\tremaining: 26.3s\n",
      "146:\tlearn: 0.1644272\ttotal: 4.52s\tremaining: 26.2s\n",
      "147:\tlearn: 0.1642873\ttotal: 4.54s\tremaining: 26.1s\n",
      "148:\tlearn: 0.1642072\ttotal: 4.57s\tremaining: 26.1s\n",
      "149:\tlearn: 0.1641583\ttotal: 4.6s\tremaining: 26s\n",
      "150:\tlearn: 0.1640881\ttotal: 4.62s\tremaining: 26s\n",
      "151:\tlearn: 0.1640262\ttotal: 4.64s\tremaining: 25.9s\n",
      "152:\tlearn: 0.1639874\ttotal: 4.67s\tremaining: 25.8s\n",
      "153:\tlearn: 0.1639430\ttotal: 4.69s\tremaining: 25.8s\n",
      "154:\tlearn: 0.1638284\ttotal: 4.71s\tremaining: 25.7s\n",
      "155:\tlearn: 0.1637778\ttotal: 4.74s\tremaining: 25.6s\n",
      "156:\tlearn: 0.1637426\ttotal: 4.76s\tremaining: 25.6s\n",
      "157:\tlearn: 0.1636374\ttotal: 4.79s\tremaining: 25.5s\n",
      "158:\tlearn: 0.1634846\ttotal: 4.81s\tremaining: 25.4s\n",
      "159:\tlearn: 0.1634384\ttotal: 4.83s\tremaining: 25.4s\n",
      "160:\tlearn: 0.1633765\ttotal: 4.86s\tremaining: 25.3s\n",
      "161:\tlearn: 0.1633216\ttotal: 4.89s\tremaining: 25.3s\n",
      "162:\tlearn: 0.1631487\ttotal: 4.92s\tremaining: 25.3s\n"
     ]
    },
    {
     "name": "stdout",
     "output_type": "stream",
     "text": [
      "163:\tlearn: 0.1631029\ttotal: 4.96s\tremaining: 25.3s\n",
      "164:\tlearn: 0.1630508\ttotal: 4.99s\tremaining: 25.3s\n",
      "165:\tlearn: 0.1629595\ttotal: 5.02s\tremaining: 25.2s\n",
      "166:\tlearn: 0.1628970\ttotal: 5.05s\tremaining: 25.2s\n",
      "167:\tlearn: 0.1628468\ttotal: 5.08s\tremaining: 25.2s\n",
      "168:\tlearn: 0.1627990\ttotal: 5.12s\tremaining: 25.2s\n",
      "169:\tlearn: 0.1627186\ttotal: 5.15s\tremaining: 25.2s\n",
      "170:\tlearn: 0.1626657\ttotal: 5.18s\tremaining: 25.1s\n",
      "171:\tlearn: 0.1626326\ttotal: 5.22s\tremaining: 25.1s\n",
      "172:\tlearn: 0.1625847\ttotal: 5.24s\tremaining: 25.1s\n",
      "173:\tlearn: 0.1625540\ttotal: 5.26s\tremaining: 25s\n",
      "174:\tlearn: 0.1625118\ttotal: 5.29s\tremaining: 24.9s\n",
      "175:\tlearn: 0.1624984\ttotal: 5.31s\tremaining: 24.9s\n",
      "176:\tlearn: 0.1624505\ttotal: 5.34s\tremaining: 24.8s\n",
      "177:\tlearn: 0.1623959\ttotal: 5.36s\tremaining: 24.8s\n",
      "178:\tlearn: 0.1623328\ttotal: 5.38s\tremaining: 24.7s\n",
      "179:\tlearn: 0.1622895\ttotal: 5.41s\tremaining: 24.6s\n",
      "180:\tlearn: 0.1622279\ttotal: 5.43s\tremaining: 24.6s\n",
      "181:\tlearn: 0.1621433\ttotal: 5.45s\tremaining: 24.5s\n",
      "182:\tlearn: 0.1620999\ttotal: 5.48s\tremaining: 24.4s\n",
      "183:\tlearn: 0.1620769\ttotal: 5.5s\tremaining: 24.4s\n",
      "184:\tlearn: 0.1619969\ttotal: 5.53s\tremaining: 24.4s\n",
      "185:\tlearn: 0.1618804\ttotal: 5.55s\tremaining: 24.3s\n",
      "186:\tlearn: 0.1618462\ttotal: 5.58s\tremaining: 24.2s\n",
      "187:\tlearn: 0.1617763\ttotal: 5.61s\tremaining: 24.2s\n",
      "188:\tlearn: 0.1617080\ttotal: 5.64s\tremaining: 24.2s\n",
      "189:\tlearn: 0.1616439\ttotal: 5.67s\tremaining: 24.2s\n",
      "190:\tlearn: 0.1615759\ttotal: 5.71s\tremaining: 24.2s\n",
      "191:\tlearn: 0.1614801\ttotal: 5.74s\tremaining: 24.1s\n",
      "192:\tlearn: 0.1614409\ttotal: 5.77s\tremaining: 24.1s\n",
      "193:\tlearn: 0.1613504\ttotal: 5.79s\tremaining: 24.1s\n",
      "194:\tlearn: 0.1612800\ttotal: 5.82s\tremaining: 24s\n",
      "195:\tlearn: 0.1612502\ttotal: 5.84s\tremaining: 23.9s\n",
      "196:\tlearn: 0.1611636\ttotal: 5.86s\tremaining: 23.9s\n",
      "197:\tlearn: 0.1610678\ttotal: 5.89s\tremaining: 23.9s\n",
      "198:\tlearn: 0.1609874\ttotal: 5.92s\tremaining: 23.8s\n",
      "199:\tlearn: 0.1609713\ttotal: 5.94s\tremaining: 23.8s\n",
      "200:\tlearn: 0.1609037\ttotal: 5.96s\tremaining: 23.7s\n",
      "201:\tlearn: 0.1608658\ttotal: 5.99s\tremaining: 23.7s\n",
      "202:\tlearn: 0.1607803\ttotal: 6.02s\tremaining: 23.6s\n",
      "203:\tlearn: 0.1607105\ttotal: 6.05s\tremaining: 23.6s\n",
      "204:\tlearn: 0.1606658\ttotal: 6.08s\tremaining: 23.6s\n",
      "205:\tlearn: 0.1606013\ttotal: 6.12s\tremaining: 23.6s\n",
      "206:\tlearn: 0.1605588\ttotal: 6.15s\tremaining: 23.6s\n",
      "207:\tlearn: 0.1605123\ttotal: 6.18s\tremaining: 23.5s\n",
      "208:\tlearn: 0.1604501\ttotal: 6.21s\tremaining: 23.5s\n",
      "209:\tlearn: 0.1603931\ttotal: 6.23s\tremaining: 23.4s\n",
      "210:\tlearn: 0.1603502\ttotal: 6.25s\tremaining: 23.4s\n",
      "211:\tlearn: 0.1602948\ttotal: 6.28s\tremaining: 23.4s\n",
      "212:\tlearn: 0.1602606\ttotal: 6.3s\tremaining: 23.3s\n",
      "213:\tlearn: 0.1602312\ttotal: 6.33s\tremaining: 23.2s\n",
      "214:\tlearn: 0.1599586\ttotal: 6.35s\tremaining: 23.2s\n",
      "215:\tlearn: 0.1599209\ttotal: 6.37s\tremaining: 23.1s\n",
      "216:\tlearn: 0.1598745\ttotal: 6.39s\tremaining: 23.1s\n",
      "217:\tlearn: 0.1598567\ttotal: 6.41s\tremaining: 23s\n",
      "218:\tlearn: 0.1598090\ttotal: 6.44s\tremaining: 23s\n",
      "219:\tlearn: 0.1597678\ttotal: 6.47s\tremaining: 22.9s\n",
      "220:\tlearn: 0.1597355\ttotal: 6.5s\tremaining: 22.9s\n",
      "221:\tlearn: 0.1596241\ttotal: 6.53s\tremaining: 22.9s\n",
      "222:\tlearn: 0.1595854\ttotal: 6.57s\tremaining: 22.9s\n",
      "223:\tlearn: 0.1595431\ttotal: 6.59s\tremaining: 22.8s\n",
      "224:\tlearn: 0.1595026\ttotal: 6.63s\tremaining: 22.8s\n",
      "225:\tlearn: 0.1594692\ttotal: 6.66s\tremaining: 22.8s\n",
      "226:\tlearn: 0.1594261\ttotal: 6.69s\tremaining: 22.8s\n",
      "227:\tlearn: 0.1594044\ttotal: 6.72s\tremaining: 22.8s\n",
      "228:\tlearn: 0.1593367\ttotal: 6.75s\tremaining: 22.7s\n",
      "229:\tlearn: 0.1592753\ttotal: 6.78s\tremaining: 22.7s\n",
      "230:\tlearn: 0.1592347\ttotal: 6.8s\tremaining: 22.6s\n",
      "231:\tlearn: 0.1590867\ttotal: 6.83s\tremaining: 22.6s\n",
      "232:\tlearn: 0.1590482\ttotal: 6.86s\tremaining: 22.6s\n",
      "233:\tlearn: 0.1590126\ttotal: 6.88s\tremaining: 22.5s\n",
      "234:\tlearn: 0.1589671\ttotal: 6.9s\tremaining: 22.5s\n",
      "235:\tlearn: 0.1589220\ttotal: 6.92s\tremaining: 22.4s\n",
      "236:\tlearn: 0.1588835\ttotal: 6.95s\tremaining: 22.4s\n",
      "237:\tlearn: 0.1588137\ttotal: 6.97s\tremaining: 22.3s\n",
      "238:\tlearn: 0.1587644\ttotal: 6.99s\tremaining: 22.3s\n",
      "239:\tlearn: 0.1587251\ttotal: 7.01s\tremaining: 22.2s\n",
      "240:\tlearn: 0.1586774\ttotal: 7.04s\tremaining: 22.2s\n",
      "241:\tlearn: 0.1586347\ttotal: 7.07s\tremaining: 22.1s\n",
      "242:\tlearn: 0.1585913\ttotal: 7.09s\tremaining: 22.1s\n",
      "243:\tlearn: 0.1585179\ttotal: 7.11s\tremaining: 22s\n",
      "244:\tlearn: 0.1584140\ttotal: 7.13s\tremaining: 22s\n",
      "245:\tlearn: 0.1583649\ttotal: 7.17s\tremaining: 22s\n",
      "246:\tlearn: 0.1583262\ttotal: 7.2s\tremaining: 21.9s\n",
      "247:\tlearn: 0.1582619\ttotal: 7.23s\tremaining: 21.9s\n",
      "248:\tlearn: 0.1582120\ttotal: 7.26s\tremaining: 21.9s\n",
      "249:\tlearn: 0.1581514\ttotal: 7.3s\tremaining: 21.9s\n",
      "250:\tlearn: 0.1581238\ttotal: 7.33s\tremaining: 21.9s\n",
      "251:\tlearn: 0.1580711\ttotal: 7.36s\tremaining: 21.8s\n",
      "252:\tlearn: 0.1580065\ttotal: 7.38s\tremaining: 21.8s\n",
      "253:\tlearn: 0.1579653\ttotal: 7.4s\tremaining: 21.7s\n",
      "254:\tlearn: 0.1578607\ttotal: 7.43s\tremaining: 21.7s\n",
      "255:\tlearn: 0.1577929\ttotal: 7.46s\tremaining: 21.7s\n",
      "256:\tlearn: 0.1577565\ttotal: 7.48s\tremaining: 21.6s\n",
      "257:\tlearn: 0.1576375\ttotal: 7.5s\tremaining: 21.6s\n",
      "258:\tlearn: 0.1576128\ttotal: 7.53s\tremaining: 21.5s\n",
      "259:\tlearn: 0.1575670\ttotal: 7.55s\tremaining: 21.5s\n",
      "260:\tlearn: 0.1575173\ttotal: 7.57s\tremaining: 21.4s\n",
      "261:\tlearn: 0.1574739\ttotal: 7.59s\tremaining: 21.4s\n",
      "262:\tlearn: 0.1574390\ttotal: 7.62s\tremaining: 21.4s\n",
      "263:\tlearn: 0.1573383\ttotal: 7.65s\tremaining: 21.3s\n",
      "264:\tlearn: 0.1572793\ttotal: 7.67s\tremaining: 21.3s\n",
      "265:\tlearn: 0.1572374\ttotal: 7.69s\tremaining: 21.2s\n",
      "266:\tlearn: 0.1571841\ttotal: 7.71s\tremaining: 21.2s\n",
      "267:\tlearn: 0.1571209\ttotal: 7.74s\tremaining: 21.1s\n",
      "268:\tlearn: 0.1570651\ttotal: 7.76s\tremaining: 21.1s\n",
      "269:\tlearn: 0.1570212\ttotal: 7.78s\tremaining: 21s\n",
      "270:\tlearn: 0.1569384\ttotal: 7.81s\tremaining: 21s\n",
      "271:\tlearn: 0.1568917\ttotal: 7.83s\tremaining: 21s\n",
      "272:\tlearn: 0.1568543\ttotal: 7.86s\tremaining: 20.9s\n",
      "273:\tlearn: 0.1567964\ttotal: 7.88s\tremaining: 20.9s\n",
      "274:\tlearn: 0.1567526\ttotal: 7.9s\tremaining: 20.8s\n",
      "275:\tlearn: 0.1567091\ttotal: 7.92s\tremaining: 20.8s\n",
      "276:\tlearn: 0.1566721\ttotal: 7.95s\tremaining: 20.7s\n",
      "277:\tlearn: 0.1565957\ttotal: 7.97s\tremaining: 20.7s\n",
      "278:\tlearn: 0.1565238\ttotal: 8s\tremaining: 20.7s\n",
      "279:\tlearn: 0.1564488\ttotal: 8.02s\tremaining: 20.6s\n",
      "280:\tlearn: 0.1564075\ttotal: 8.05s\tremaining: 20.6s\n",
      "281:\tlearn: 0.1563574\ttotal: 8.07s\tremaining: 20.5s\n",
      "282:\tlearn: 0.1562955\ttotal: 8.09s\tremaining: 20.5s\n",
      "283:\tlearn: 0.1562527\ttotal: 8.11s\tremaining: 20.5s\n",
      "284:\tlearn: 0.1562159\ttotal: 8.14s\tremaining: 20.4s\n",
      "285:\tlearn: 0.1561743\ttotal: 8.16s\tremaining: 20.4s\n",
      "286:\tlearn: 0.1561436\ttotal: 8.19s\tremaining: 20.3s\n",
      "287:\tlearn: 0.1560908\ttotal: 8.21s\tremaining: 20.3s\n",
      "288:\tlearn: 0.1560320\ttotal: 8.24s\tremaining: 20.3s\n",
      "289:\tlearn: 0.1560008\ttotal: 8.27s\tremaining: 20.2s\n",
      "290:\tlearn: 0.1559724\ttotal: 8.29s\tremaining: 20.2s\n",
      "291:\tlearn: 0.1559268\ttotal: 8.31s\tremaining: 20.2s\n",
      "292:\tlearn: 0.1558771\ttotal: 8.34s\tremaining: 20.1s\n",
      "293:\tlearn: 0.1558129\ttotal: 8.36s\tremaining: 20.1s\n",
      "294:\tlearn: 0.1557755\ttotal: 8.39s\tremaining: 20s\n",
      "295:\tlearn: 0.1557315\ttotal: 8.41s\tremaining: 20s\n",
      "296:\tlearn: 0.1556940\ttotal: 8.43s\tremaining: 20s\n",
      "297:\tlearn: 0.1556626\ttotal: 8.46s\tremaining: 19.9s\n",
      "298:\tlearn: 0.1555956\ttotal: 8.48s\tremaining: 19.9s\n",
      "299:\tlearn: 0.1555568\ttotal: 8.5s\tremaining: 19.8s\n",
      "300:\tlearn: 0.1554519\ttotal: 8.52s\tremaining: 19.8s\n",
      "301:\tlearn: 0.1554206\ttotal: 8.55s\tremaining: 19.8s\n",
      "302:\tlearn: 0.1553598\ttotal: 8.58s\tremaining: 19.7s\n",
      "303:\tlearn: 0.1553267\ttotal: 8.6s\tremaining: 19.7s\n",
      "304:\tlearn: 0.1553010\ttotal: 8.63s\tremaining: 19.7s\n",
      "305:\tlearn: 0.1552665\ttotal: 8.65s\tremaining: 19.6s\n",
      "306:\tlearn: 0.1552209\ttotal: 8.67s\tremaining: 19.6s\n",
      "307:\tlearn: 0.1551385\ttotal: 8.69s\tremaining: 19.5s\n",
      "308:\tlearn: 0.1550852\ttotal: 8.72s\tremaining: 19.5s\n",
      "309:\tlearn: 0.1550493\ttotal: 8.74s\tremaining: 19.5s\n",
      "310:\tlearn: 0.1550099\ttotal: 8.77s\tremaining: 19.4s\n",
      "311:\tlearn: 0.1549700\ttotal: 8.79s\tremaining: 19.4s\n",
      "312:\tlearn: 0.1549284\ttotal: 8.81s\tremaining: 19.4s\n",
      "313:\tlearn: 0.1548923\ttotal: 8.84s\tremaining: 19.3s\n",
      "314:\tlearn: 0.1548015\ttotal: 8.86s\tremaining: 19.3s\n",
      "315:\tlearn: 0.1547544\ttotal: 8.88s\tremaining: 19.2s\n",
      "316:\tlearn: 0.1547168\ttotal: 8.9s\tremaining: 19.2s\n",
      "317:\tlearn: 0.1546885\ttotal: 8.92s\tremaining: 19.1s\n",
      "318:\tlearn: 0.1546524\ttotal: 8.95s\tremaining: 19.1s\n",
      "319:\tlearn: 0.1546117\ttotal: 8.97s\tremaining: 19.1s\n",
      "320:\tlearn: 0.1545810\ttotal: 9s\tremaining: 19s\n",
      "321:\tlearn: 0.1545069\ttotal: 9.02s\tremaining: 19s\n",
      "322:\tlearn: 0.1544666\ttotal: 9.04s\tremaining: 19s\n",
      "323:\tlearn: 0.1544243\ttotal: 9.07s\tremaining: 18.9s\n",
      "324:\tlearn: 0.1543886\ttotal: 9.09s\tremaining: 18.9s\n",
      "325:\tlearn: 0.1543585\ttotal: 9.12s\tremaining: 18.8s\n"
     ]
    },
    {
     "name": "stdout",
     "output_type": "stream",
     "text": [
      "326:\tlearn: 0.1543075\ttotal: 9.14s\tremaining: 18.8s\n",
      "327:\tlearn: 0.1542773\ttotal: 9.17s\tremaining: 18.8s\n",
      "328:\tlearn: 0.1542462\ttotal: 9.19s\tremaining: 18.7s\n",
      "329:\tlearn: 0.1542105\ttotal: 9.21s\tremaining: 18.7s\n",
      "330:\tlearn: 0.1541867\ttotal: 9.23s\tremaining: 18.7s\n",
      "331:\tlearn: 0.1541099\ttotal: 9.26s\tremaining: 18.6s\n",
      "332:\tlearn: 0.1540780\ttotal: 9.28s\tremaining: 18.6s\n",
      "333:\tlearn: 0.1540376\ttotal: 9.3s\tremaining: 18.5s\n",
      "334:\tlearn: 0.1539914\ttotal: 9.33s\tremaining: 18.5s\n",
      "335:\tlearn: 0.1539565\ttotal: 9.35s\tremaining: 18.5s\n",
      "336:\tlearn: 0.1539225\ttotal: 9.37s\tremaining: 18.4s\n",
      "337:\tlearn: 0.1538921\ttotal: 9.4s\tremaining: 18.4s\n",
      "338:\tlearn: 0.1538539\ttotal: 9.42s\tremaining: 18.4s\n",
      "339:\tlearn: 0.1538380\ttotal: 9.44s\tremaining: 18.3s\n",
      "340:\tlearn: 0.1537779\ttotal: 9.46s\tremaining: 18.3s\n",
      "341:\tlearn: 0.1537460\ttotal: 9.49s\tremaining: 18.3s\n",
      "342:\tlearn: 0.1537242\ttotal: 9.51s\tremaining: 18.2s\n",
      "343:\tlearn: 0.1536798\ttotal: 9.54s\tremaining: 18.2s\n",
      "344:\tlearn: 0.1535962\ttotal: 9.56s\tremaining: 18.2s\n",
      "345:\tlearn: 0.1535596\ttotal: 9.58s\tremaining: 18.1s\n",
      "346:\tlearn: 0.1535379\ttotal: 9.61s\tremaining: 18.1s\n",
      "347:\tlearn: 0.1535121\ttotal: 9.63s\tremaining: 18s\n",
      "348:\tlearn: 0.1534499\ttotal: 9.65s\tremaining: 18s\n",
      "349:\tlearn: 0.1533844\ttotal: 9.68s\tremaining: 18s\n",
      "350:\tlearn: 0.1533631\ttotal: 9.7s\tremaining: 17.9s\n",
      "351:\tlearn: 0.1532537\ttotal: 9.73s\tremaining: 17.9s\n",
      "352:\tlearn: 0.1532292\ttotal: 9.75s\tremaining: 17.9s\n",
      "353:\tlearn: 0.1531866\ttotal: 9.77s\tremaining: 17.8s\n",
      "354:\tlearn: 0.1531368\ttotal: 9.79s\tremaining: 17.8s\n",
      "355:\tlearn: 0.1531003\ttotal: 9.82s\tremaining: 17.8s\n",
      "356:\tlearn: 0.1530648\ttotal: 9.84s\tremaining: 17.7s\n",
      "357:\tlearn: 0.1530291\ttotal: 9.86s\tremaining: 17.7s\n",
      "358:\tlearn: 0.1529874\ttotal: 9.89s\tremaining: 17.7s\n",
      "359:\tlearn: 0.1529497\ttotal: 9.92s\tremaining: 17.6s\n",
      "360:\tlearn: 0.1529096\ttotal: 9.94s\tremaining: 17.6s\n",
      "361:\tlearn: 0.1528756\ttotal: 9.97s\tremaining: 17.6s\n",
      "362:\tlearn: 0.1528328\ttotal: 9.99s\tremaining: 17.5s\n",
      "363:\tlearn: 0.1527950\ttotal: 10s\tremaining: 17.5s\n",
      "364:\tlearn: 0.1527436\ttotal: 10s\tremaining: 17.5s\n",
      "365:\tlearn: 0.1527153\ttotal: 10.1s\tremaining: 17.4s\n",
      "366:\tlearn: 0.1526932\ttotal: 10.1s\tremaining: 17.4s\n",
      "367:\tlearn: 0.1526482\ttotal: 10.1s\tremaining: 17.4s\n",
      "368:\tlearn: 0.1526240\ttotal: 10.1s\tremaining: 17.3s\n",
      "369:\tlearn: 0.1525993\ttotal: 10.2s\tremaining: 17.3s\n",
      "370:\tlearn: 0.1525456\ttotal: 10.2s\tremaining: 17.3s\n",
      "371:\tlearn: 0.1525035\ttotal: 10.2s\tremaining: 17.2s\n",
      "372:\tlearn: 0.1524674\ttotal: 10.2s\tremaining: 17.2s\n",
      "373:\tlearn: 0.1524400\ttotal: 10.3s\tremaining: 17.2s\n",
      "374:\tlearn: 0.1524054\ttotal: 10.3s\tremaining: 17.1s\n",
      "375:\tlearn: 0.1523660\ttotal: 10.3s\tremaining: 17.1s\n",
      "376:\tlearn: 0.1523310\ttotal: 10.3s\tremaining: 17.1s\n",
      "377:\tlearn: 0.1523045\ttotal: 10.4s\tremaining: 17s\n",
      "378:\tlearn: 0.1522870\ttotal: 10.4s\tremaining: 17s\n",
      "379:\tlearn: 0.1522517\ttotal: 10.4s\tremaining: 17s\n",
      "380:\tlearn: 0.1521929\ttotal: 10.4s\tremaining: 16.9s\n",
      "381:\tlearn: 0.1521510\ttotal: 10.4s\tremaining: 16.9s\n",
      "382:\tlearn: 0.1521140\ttotal: 10.5s\tremaining: 16.9s\n",
      "383:\tlearn: 0.1520676\ttotal: 10.5s\tremaining: 16.8s\n",
      "384:\tlearn: 0.1520356\ttotal: 10.5s\tremaining: 16.8s\n",
      "385:\tlearn: 0.1519978\ttotal: 10.5s\tremaining: 16.8s\n",
      "386:\tlearn: 0.1519618\ttotal: 10.6s\tremaining: 16.7s\n",
      "387:\tlearn: 0.1519383\ttotal: 10.6s\tremaining: 16.7s\n",
      "388:\tlearn: 0.1518842\ttotal: 10.6s\tremaining: 16.7s\n",
      "389:\tlearn: 0.1518505\ttotal: 10.6s\tremaining: 16.6s\n",
      "390:\tlearn: 0.1518008\ttotal: 10.7s\tremaining: 16.6s\n",
      "391:\tlearn: 0.1517587\ttotal: 10.7s\tremaining: 16.6s\n",
      "392:\tlearn: 0.1517419\ttotal: 10.7s\tremaining: 16.6s\n",
      "393:\tlearn: 0.1517148\ttotal: 10.7s\tremaining: 16.5s\n",
      "394:\tlearn: 0.1516838\ttotal: 10.8s\tremaining: 16.5s\n",
      "395:\tlearn: 0.1516408\ttotal: 10.8s\tremaining: 16.5s\n",
      "396:\tlearn: 0.1516193\ttotal: 10.8s\tremaining: 16.4s\n",
      "397:\tlearn: 0.1515828\ttotal: 10.8s\tremaining: 16.4s\n",
      "398:\tlearn: 0.1515540\ttotal: 10.9s\tremaining: 16.4s\n",
      "399:\tlearn: 0.1515256\ttotal: 10.9s\tremaining: 16.3s\n",
      "400:\tlearn: 0.1514907\ttotal: 10.9s\tremaining: 16.3s\n",
      "401:\tlearn: 0.1514281\ttotal: 10.9s\tremaining: 16.3s\n",
      "402:\tlearn: 0.1513866\ttotal: 11s\tremaining: 16.2s\n",
      "403:\tlearn: 0.1513492\ttotal: 11s\tremaining: 16.2s\n",
      "404:\tlearn: 0.1513181\ttotal: 11s\tremaining: 16.2s\n",
      "405:\tlearn: 0.1513066\ttotal: 11s\tremaining: 16.2s\n",
      "406:\tlearn: 0.1512711\ttotal: 11.1s\tremaining: 16.1s\n",
      "407:\tlearn: 0.1512328\ttotal: 11.1s\tremaining: 16.1s\n",
      "408:\tlearn: 0.1512024\ttotal: 11.1s\tremaining: 16.1s\n",
      "409:\tlearn: 0.1511636\ttotal: 11.1s\tremaining: 16s\n",
      "410:\tlearn: 0.1511255\ttotal: 11.2s\tremaining: 16s\n",
      "411:\tlearn: 0.1511004\ttotal: 11.2s\tremaining: 16s\n",
      "412:\tlearn: 0.1510695\ttotal: 11.2s\tremaining: 15.9s\n",
      "413:\tlearn: 0.1510392\ttotal: 11.2s\tremaining: 15.9s\n",
      "414:\tlearn: 0.1510180\ttotal: 11.3s\tremaining: 15.9s\n",
      "415:\tlearn: 0.1510074\ttotal: 11.3s\tremaining: 15.8s\n",
      "416:\tlearn: 0.1509778\ttotal: 11.3s\tremaining: 15.8s\n",
      "417:\tlearn: 0.1509220\ttotal: 11.3s\tremaining: 15.8s\n",
      "418:\tlearn: 0.1508760\ttotal: 11.3s\tremaining: 15.7s\n",
      "419:\tlearn: 0.1508431\ttotal: 11.4s\tremaining: 15.7s\n",
      "420:\tlearn: 0.1508012\ttotal: 11.4s\tremaining: 15.7s\n",
      "421:\tlearn: 0.1507595\ttotal: 11.4s\tremaining: 15.6s\n",
      "422:\tlearn: 0.1507311\ttotal: 11.4s\tremaining: 15.6s\n",
      "423:\tlearn: 0.1506959\ttotal: 11.5s\tremaining: 15.6s\n",
      "424:\tlearn: 0.1506620\ttotal: 11.5s\tremaining: 15.6s\n",
      "425:\tlearn: 0.1506280\ttotal: 11.5s\tremaining: 15.5s\n",
      "426:\tlearn: 0.1505976\ttotal: 11.5s\tremaining: 15.5s\n",
      "427:\tlearn: 0.1505598\ttotal: 11.6s\tremaining: 15.5s\n",
      "428:\tlearn: 0.1505081\ttotal: 11.6s\tremaining: 15.4s\n",
      "429:\tlearn: 0.1504766\ttotal: 11.6s\tremaining: 15.4s\n",
      "430:\tlearn: 0.1504521\ttotal: 11.6s\tremaining: 15.4s\n",
      "431:\tlearn: 0.1504256\ttotal: 11.7s\tremaining: 15.3s\n",
      "432:\tlearn: 0.1503801\ttotal: 11.7s\tremaining: 15.3s\n",
      "433:\tlearn: 0.1503433\ttotal: 11.7s\tremaining: 15.3s\n",
      "434:\tlearn: 0.1503119\ttotal: 11.7s\tremaining: 15.2s\n",
      "435:\tlearn: 0.1502366\ttotal: 11.8s\tremaining: 15.2s\n",
      "436:\tlearn: 0.1502176\ttotal: 11.8s\tremaining: 15.2s\n",
      "437:\tlearn: 0.1502027\ttotal: 11.8s\tremaining: 15.1s\n",
      "438:\tlearn: 0.1501541\ttotal: 11.8s\tremaining: 15.1s\n",
      "439:\tlearn: 0.1501054\ttotal: 11.8s\tremaining: 15.1s\n",
      "440:\tlearn: 0.1500653\ttotal: 11.9s\tremaining: 15.1s\n",
      "441:\tlearn: 0.1500230\ttotal: 11.9s\tremaining: 15s\n",
      "442:\tlearn: 0.1499682\ttotal: 11.9s\tremaining: 15s\n",
      "443:\tlearn: 0.1499390\ttotal: 12s\tremaining: 15s\n",
      "444:\tlearn: 0.1499040\ttotal: 12s\tremaining: 15s\n",
      "445:\tlearn: 0.1498612\ttotal: 12.1s\tremaining: 15s\n",
      "446:\tlearn: 0.1498329\ttotal: 12.1s\tremaining: 15s\n",
      "447:\tlearn: 0.1497915\ttotal: 12.2s\tremaining: 15s\n",
      "448:\tlearn: 0.1497776\ttotal: 12.2s\tremaining: 14.9s\n",
      "449:\tlearn: 0.1497518\ttotal: 12.2s\tremaining: 14.9s\n",
      "450:\tlearn: 0.1497180\ttotal: 12.2s\tremaining: 14.9s\n",
      "451:\tlearn: 0.1496882\ttotal: 12.3s\tremaining: 14.9s\n",
      "452:\tlearn: 0.1496609\ttotal: 12.3s\tremaining: 14.9s\n",
      "453:\tlearn: 0.1496337\ttotal: 12.3s\tremaining: 14.8s\n",
      "454:\tlearn: 0.1495928\ttotal: 12.4s\tremaining: 14.8s\n",
      "455:\tlearn: 0.1495647\ttotal: 12.4s\tremaining: 14.8s\n",
      "456:\tlearn: 0.1495312\ttotal: 12.4s\tremaining: 14.8s\n",
      "457:\tlearn: 0.1494845\ttotal: 12.5s\tremaining: 14.8s\n",
      "458:\tlearn: 0.1494348\ttotal: 12.5s\tremaining: 14.7s\n",
      "459:\tlearn: 0.1494060\ttotal: 12.5s\tremaining: 14.7s\n",
      "460:\tlearn: 0.1493888\ttotal: 12.5s\tremaining: 14.7s\n",
      "461:\tlearn: 0.1493673\ttotal: 12.6s\tremaining: 14.6s\n",
      "462:\tlearn: 0.1493399\ttotal: 12.6s\tremaining: 14.6s\n",
      "463:\tlearn: 0.1493179\ttotal: 12.6s\tremaining: 14.6s\n",
      "464:\tlearn: 0.1492797\ttotal: 12.6s\tremaining: 14.5s\n",
      "465:\tlearn: 0.1492390\ttotal: 12.7s\tremaining: 14.5s\n",
      "466:\tlearn: 0.1491953\ttotal: 12.7s\tremaining: 14.5s\n",
      "467:\tlearn: 0.1491709\ttotal: 12.7s\tremaining: 14.5s\n",
      "468:\tlearn: 0.1491297\ttotal: 12.7s\tremaining: 14.4s\n",
      "469:\tlearn: 0.1490945\ttotal: 12.8s\tremaining: 14.4s\n",
      "470:\tlearn: 0.1490733\ttotal: 12.8s\tremaining: 14.4s\n",
      "471:\tlearn: 0.1490442\ttotal: 12.8s\tremaining: 14.3s\n",
      "472:\tlearn: 0.1490117\ttotal: 12.8s\tremaining: 14.3s\n",
      "473:\tlearn: 0.1489775\ttotal: 12.9s\tremaining: 14.3s\n",
      "474:\tlearn: 0.1489566\ttotal: 12.9s\tremaining: 14.2s\n",
      "475:\tlearn: 0.1489058\ttotal: 12.9s\tremaining: 14.2s\n",
      "476:\tlearn: 0.1488715\ttotal: 12.9s\tremaining: 14.2s\n",
      "477:\tlearn: 0.1488244\ttotal: 13s\tremaining: 14.2s\n",
      "478:\tlearn: 0.1487897\ttotal: 13s\tremaining: 14.1s\n",
      "479:\tlearn: 0.1487824\ttotal: 13s\tremaining: 14.1s\n",
      "480:\tlearn: 0.1487509\ttotal: 13s\tremaining: 14.1s\n",
      "481:\tlearn: 0.1487322\ttotal: 13.1s\tremaining: 14s\n",
      "482:\tlearn: 0.1487215\ttotal: 13.1s\tremaining: 14s\n",
      "483:\tlearn: 0.1486555\ttotal: 13.1s\tremaining: 14s\n",
      "484:\tlearn: 0.1486182\ttotal: 13.1s\tremaining: 13.9s\n",
      "485:\tlearn: 0.1486055\ttotal: 13.2s\tremaining: 13.9s\n",
      "486:\tlearn: 0.1485647\ttotal: 13.2s\tremaining: 13.9s\n"
     ]
    },
    {
     "name": "stdout",
     "output_type": "stream",
     "text": [
      "487:\tlearn: 0.1485325\ttotal: 13.2s\tremaining: 13.9s\n",
      "488:\tlearn: 0.1484973\ttotal: 13.2s\tremaining: 13.8s\n",
      "489:\tlearn: 0.1484644\ttotal: 13.3s\tremaining: 13.8s\n",
      "490:\tlearn: 0.1484093\ttotal: 13.3s\tremaining: 13.8s\n",
      "491:\tlearn: 0.1483994\ttotal: 13.3s\tremaining: 13.8s\n",
      "492:\tlearn: 0.1483741\ttotal: 13.4s\tremaining: 13.7s\n",
      "493:\tlearn: 0.1483203\ttotal: 13.4s\tremaining: 13.7s\n",
      "494:\tlearn: 0.1482789\ttotal: 13.4s\tremaining: 13.7s\n",
      "495:\tlearn: 0.1482556\ttotal: 13.4s\tremaining: 13.7s\n",
      "496:\tlearn: 0.1482327\ttotal: 13.5s\tremaining: 13.6s\n",
      "497:\tlearn: 0.1482167\ttotal: 13.5s\tremaining: 13.6s\n",
      "498:\tlearn: 0.1481877\ttotal: 13.5s\tremaining: 13.6s\n",
      "499:\tlearn: 0.1481634\ttotal: 13.5s\tremaining: 13.5s\n",
      "500:\tlearn: 0.1481388\ttotal: 13.6s\tremaining: 13.5s\n",
      "501:\tlearn: 0.1481245\ttotal: 13.6s\tremaining: 13.5s\n",
      "502:\tlearn: 0.1481050\ttotal: 13.6s\tremaining: 13.5s\n",
      "503:\tlearn: 0.1480767\ttotal: 13.7s\tremaining: 13.4s\n",
      "504:\tlearn: 0.1480364\ttotal: 13.7s\tremaining: 13.4s\n",
      "505:\tlearn: 0.1480002\ttotal: 13.7s\tremaining: 13.4s\n",
      "506:\tlearn: 0.1479817\ttotal: 13.7s\tremaining: 13.3s\n",
      "507:\tlearn: 0.1479393\ttotal: 13.7s\tremaining: 13.3s\n",
      "508:\tlearn: 0.1478998\ttotal: 13.8s\tremaining: 13.3s\n",
      "509:\tlearn: 0.1478693\ttotal: 13.8s\tremaining: 13.3s\n",
      "510:\tlearn: 0.1478264\ttotal: 13.8s\tremaining: 13.2s\n",
      "511:\tlearn: 0.1477882\ttotal: 13.8s\tremaining: 13.2s\n",
      "512:\tlearn: 0.1477675\ttotal: 13.9s\tremaining: 13.2s\n",
      "513:\tlearn: 0.1477533\ttotal: 13.9s\tremaining: 13.1s\n",
      "514:\tlearn: 0.1477263\ttotal: 13.9s\tremaining: 13.1s\n",
      "515:\tlearn: 0.1476963\ttotal: 13.9s\tremaining: 13.1s\n",
      "516:\tlearn: 0.1476727\ttotal: 14s\tremaining: 13.1s\n",
      "517:\tlearn: 0.1476400\ttotal: 14s\tremaining: 13s\n",
      "518:\tlearn: 0.1476181\ttotal: 14s\tremaining: 13s\n",
      "519:\tlearn: 0.1475806\ttotal: 14s\tremaining: 13s\n",
      "520:\tlearn: 0.1475512\ttotal: 14.1s\tremaining: 12.9s\n",
      "521:\tlearn: 0.1475352\ttotal: 14.1s\tremaining: 12.9s\n",
      "522:\tlearn: 0.1475111\ttotal: 14.1s\tremaining: 12.9s\n",
      "523:\tlearn: 0.1475033\ttotal: 14.1s\tremaining: 12.8s\n",
      "524:\tlearn: 0.1474744\ttotal: 14.2s\tremaining: 12.8s\n",
      "525:\tlearn: 0.1474537\ttotal: 14.2s\tremaining: 12.8s\n",
      "526:\tlearn: 0.1474357\ttotal: 14.2s\tremaining: 12.8s\n",
      "527:\tlearn: 0.1473877\ttotal: 14.2s\tremaining: 12.7s\n",
      "528:\tlearn: 0.1473582\ttotal: 14.3s\tremaining: 12.7s\n",
      "529:\tlearn: 0.1473126\ttotal: 14.3s\tremaining: 12.7s\n",
      "530:\tlearn: 0.1472665\ttotal: 14.3s\tremaining: 12.6s\n",
      "531:\tlearn: 0.1472422\ttotal: 14.3s\tremaining: 12.6s\n",
      "532:\tlearn: 0.1472114\ttotal: 14.4s\tremaining: 12.6s\n",
      "533:\tlearn: 0.1471702\ttotal: 14.4s\tremaining: 12.6s\n",
      "534:\tlearn: 0.1471321\ttotal: 14.4s\tremaining: 12.5s\n",
      "535:\tlearn: 0.1470966\ttotal: 14.4s\tremaining: 12.5s\n",
      "536:\tlearn: 0.1470622\ttotal: 14.5s\tremaining: 12.5s\n",
      "537:\tlearn: 0.1470086\ttotal: 14.5s\tremaining: 12.4s\n",
      "538:\tlearn: 0.1469576\ttotal: 14.5s\tremaining: 12.4s\n",
      "539:\tlearn: 0.1469256\ttotal: 14.6s\tremaining: 12.4s\n",
      "540:\tlearn: 0.1469011\ttotal: 14.6s\tremaining: 12.4s\n",
      "541:\tlearn: 0.1468788\ttotal: 14.6s\tremaining: 12.4s\n",
      "542:\tlearn: 0.1468319\ttotal: 14.6s\tremaining: 12.3s\n",
      "543:\tlearn: 0.1468146\ttotal: 14.7s\tremaining: 12.3s\n",
      "544:\tlearn: 0.1467856\ttotal: 14.7s\tremaining: 12.3s\n",
      "545:\tlearn: 0.1467454\ttotal: 14.7s\tremaining: 12.2s\n",
      "546:\tlearn: 0.1467381\ttotal: 14.7s\tremaining: 12.2s\n",
      "547:\tlearn: 0.1467064\ttotal: 14.8s\tremaining: 12.2s\n",
      "548:\tlearn: 0.1466718\ttotal: 14.8s\tremaining: 12.2s\n",
      "549:\tlearn: 0.1466446\ttotal: 14.8s\tremaining: 12.1s\n",
      "550:\tlearn: 0.1466165\ttotal: 14.9s\tremaining: 12.1s\n",
      "551:\tlearn: 0.1466004\ttotal: 14.9s\tremaining: 12.1s\n",
      "552:\tlearn: 0.1465769\ttotal: 14.9s\tremaining: 12.1s\n",
      "553:\tlearn: 0.1465442\ttotal: 15s\tremaining: 12.1s\n",
      "554:\tlearn: 0.1465057\ttotal: 15s\tremaining: 12s\n",
      "555:\tlearn: 0.1464569\ttotal: 15s\tremaining: 12s\n",
      "556:\tlearn: 0.1464335\ttotal: 15.1s\tremaining: 12s\n",
      "557:\tlearn: 0.1464104\ttotal: 15.1s\tremaining: 12s\n",
      "558:\tlearn: 0.1463947\ttotal: 15.1s\tremaining: 11.9s\n",
      "559:\tlearn: 0.1463600\ttotal: 15.2s\tremaining: 11.9s\n",
      "560:\tlearn: 0.1463256\ttotal: 15.2s\tremaining: 11.9s\n",
      "561:\tlearn: 0.1463079\ttotal: 15.2s\tremaining: 11.9s\n",
      "562:\tlearn: 0.1462849\ttotal: 15.2s\tremaining: 11.8s\n",
      "563:\tlearn: 0.1462519\ttotal: 15.3s\tremaining: 11.8s\n",
      "564:\tlearn: 0.1462164\ttotal: 15.3s\tremaining: 11.8s\n",
      "565:\tlearn: 0.1461991\ttotal: 15.3s\tremaining: 11.7s\n",
      "566:\tlearn: 0.1461645\ttotal: 15.3s\tremaining: 11.7s\n",
      "567:\tlearn: 0.1461256\ttotal: 15.4s\tremaining: 11.7s\n",
      "568:\tlearn: 0.1461051\ttotal: 15.4s\tremaining: 11.7s\n",
      "569:\tlearn: 0.1460844\ttotal: 15.4s\tremaining: 11.6s\n",
      "570:\tlearn: 0.1460479\ttotal: 15.4s\tremaining: 11.6s\n",
      "571:\tlearn: 0.1460260\ttotal: 15.5s\tremaining: 11.6s\n",
      "572:\tlearn: 0.1459959\ttotal: 15.5s\tremaining: 11.5s\n",
      "573:\tlearn: 0.1459632\ttotal: 15.5s\tremaining: 11.5s\n",
      "574:\tlearn: 0.1459362\ttotal: 15.5s\tremaining: 11.5s\n",
      "575:\tlearn: 0.1459003\ttotal: 15.6s\tremaining: 11.5s\n",
      "576:\tlearn: 0.1458841\ttotal: 15.6s\tremaining: 11.4s\n",
      "577:\tlearn: 0.1458587\ttotal: 15.6s\tremaining: 11.4s\n",
      "578:\tlearn: 0.1458478\ttotal: 15.6s\tremaining: 11.4s\n",
      "579:\tlearn: 0.1458254\ttotal: 15.7s\tremaining: 11.3s\n",
      "580:\tlearn: 0.1458051\ttotal: 15.7s\tremaining: 11.3s\n",
      "581:\tlearn: 0.1457696\ttotal: 15.7s\tremaining: 11.3s\n",
      "582:\tlearn: 0.1457503\ttotal: 15.7s\tremaining: 11.2s\n",
      "583:\tlearn: 0.1457116\ttotal: 15.8s\tremaining: 11.2s\n",
      "584:\tlearn: 0.1456976\ttotal: 15.8s\tremaining: 11.2s\n",
      "585:\tlearn: 0.1456750\ttotal: 15.8s\tremaining: 11.2s\n",
      "586:\tlearn: 0.1456448\ttotal: 15.8s\tremaining: 11.1s\n",
      "587:\tlearn: 0.1456151\ttotal: 15.8s\tremaining: 11.1s\n",
      "588:\tlearn: 0.1455637\ttotal: 15.9s\tremaining: 11.1s\n",
      "589:\tlearn: 0.1455411\ttotal: 15.9s\tremaining: 11s\n",
      "590:\tlearn: 0.1455168\ttotal: 15.9s\tremaining: 11s\n",
      "591:\tlearn: 0.1454718\ttotal: 15.9s\tremaining: 11s\n",
      "592:\tlearn: 0.1454376\ttotal: 16s\tremaining: 11s\n",
      "593:\tlearn: 0.1454104\ttotal: 16s\tremaining: 10.9s\n",
      "594:\tlearn: 0.1453784\ttotal: 16s\tremaining: 10.9s\n",
      "595:\tlearn: 0.1453715\ttotal: 16s\tremaining: 10.9s\n",
      "596:\tlearn: 0.1453401\ttotal: 16.1s\tremaining: 10.8s\n",
      "597:\tlearn: 0.1453118\ttotal: 16.1s\tremaining: 10.8s\n",
      "598:\tlearn: 0.1452616\ttotal: 16.1s\tremaining: 10.8s\n",
      "599:\tlearn: 0.1452414\ttotal: 16.1s\tremaining: 10.8s\n",
      "600:\tlearn: 0.1452103\ttotal: 16.2s\tremaining: 10.7s\n",
      "601:\tlearn: 0.1451855\ttotal: 16.2s\tremaining: 10.7s\n",
      "602:\tlearn: 0.1451542\ttotal: 16.2s\tremaining: 10.7s\n",
      "603:\tlearn: 0.1451329\ttotal: 16.2s\tremaining: 10.6s\n",
      "604:\tlearn: 0.1451033\ttotal: 16.3s\tremaining: 10.6s\n",
      "605:\tlearn: 0.1450811\ttotal: 16.3s\tremaining: 10.6s\n",
      "606:\tlearn: 0.1450414\ttotal: 16.3s\tremaining: 10.6s\n",
      "607:\tlearn: 0.1450074\ttotal: 16.3s\tremaining: 10.5s\n",
      "608:\tlearn: 0.1449683\ttotal: 16.4s\tremaining: 10.5s\n",
      "609:\tlearn: 0.1449599\ttotal: 16.4s\tremaining: 10.5s\n",
      "610:\tlearn: 0.1449464\ttotal: 16.4s\tremaining: 10.4s\n",
      "611:\tlearn: 0.1449371\ttotal: 16.4s\tremaining: 10.4s\n",
      "612:\tlearn: 0.1449040\ttotal: 16.4s\tremaining: 10.4s\n",
      "613:\tlearn: 0.1448692\ttotal: 16.5s\tremaining: 10.4s\n",
      "614:\tlearn: 0.1448391\ttotal: 16.5s\tremaining: 10.3s\n",
      "615:\tlearn: 0.1448260\ttotal: 16.5s\tremaining: 10.3s\n",
      "616:\tlearn: 0.1447993\ttotal: 16.6s\tremaining: 10.3s\n",
      "617:\tlearn: 0.1447791\ttotal: 16.6s\tremaining: 10.2s\n",
      "618:\tlearn: 0.1447413\ttotal: 16.6s\tremaining: 10.2s\n",
      "619:\tlearn: 0.1447072\ttotal: 16.6s\tremaining: 10.2s\n",
      "620:\tlearn: 0.1446789\ttotal: 16.7s\tremaining: 10.2s\n",
      "621:\tlearn: 0.1446587\ttotal: 16.7s\tremaining: 10.1s\n",
      "622:\tlearn: 0.1446542\ttotal: 16.7s\tremaining: 10.1s\n",
      "623:\tlearn: 0.1446450\ttotal: 16.7s\tremaining: 10.1s\n",
      "624:\tlearn: 0.1446208\ttotal: 16.8s\tremaining: 10.1s\n",
      "625:\tlearn: 0.1446005\ttotal: 16.8s\tremaining: 10s\n",
      "626:\tlearn: 0.1445792\ttotal: 16.8s\tremaining: 9.99s\n",
      "627:\tlearn: 0.1445375\ttotal: 16.8s\tremaining: 9.96s\n",
      "628:\tlearn: 0.1445124\ttotal: 16.9s\tremaining: 9.94s\n",
      "629:\tlearn: 0.1444733\ttotal: 16.9s\tremaining: 9.91s\n",
      "630:\tlearn: 0.1444492\ttotal: 16.9s\tremaining: 9.88s\n",
      "631:\tlearn: 0.1444423\ttotal: 16.9s\tremaining: 9.85s\n",
      "632:\tlearn: 0.1444058\ttotal: 16.9s\tremaining: 9.83s\n",
      "633:\tlearn: 0.1443789\ttotal: 17s\tremaining: 9.8s\n",
      "634:\tlearn: 0.1443483\ttotal: 17s\tremaining: 9.77s\n",
      "635:\tlearn: 0.1443305\ttotal: 17s\tremaining: 9.74s\n",
      "636:\tlearn: 0.1443162\ttotal: 17s\tremaining: 9.71s\n",
      "637:\tlearn: 0.1443015\ttotal: 17.1s\tremaining: 9.68s\n",
      "638:\tlearn: 0.1442865\ttotal: 17.1s\tremaining: 9.65s\n",
      "639:\tlearn: 0.1442634\ttotal: 17.1s\tremaining: 9.63s\n",
      "640:\tlearn: 0.1442332\ttotal: 17.1s\tremaining: 9.6s\n",
      "641:\tlearn: 0.1442197\ttotal: 17.2s\tremaining: 9.57s\n",
      "642:\tlearn: 0.1441887\ttotal: 17.2s\tremaining: 9.54s\n",
      "643:\tlearn: 0.1441600\ttotal: 17.2s\tremaining: 9.51s\n",
      "644:\tlearn: 0.1441535\ttotal: 17.2s\tremaining: 9.48s\n",
      "645:\tlearn: 0.1441145\ttotal: 17.3s\tremaining: 9.45s\n",
      "646:\tlearn: 0.1441103\ttotal: 17.3s\tremaining: 9.43s\n",
      "647:\tlearn: 0.1440605\ttotal: 17.3s\tremaining: 9.4s\n",
      "648:\tlearn: 0.1440449\ttotal: 17.3s\tremaining: 9.37s\n",
      "649:\tlearn: 0.1440162\ttotal: 17.3s\tremaining: 9.34s\n"
     ]
    },
    {
     "name": "stdout",
     "output_type": "stream",
     "text": [
      "650:\tlearn: 0.1440054\ttotal: 17.4s\tremaining: 9.31s\n",
      "651:\tlearn: 0.1439813\ttotal: 17.4s\tremaining: 9.29s\n",
      "652:\tlearn: 0.1439670\ttotal: 17.5s\tremaining: 9.28s\n",
      "653:\tlearn: 0.1439576\ttotal: 17.5s\tremaining: 9.25s\n",
      "654:\tlearn: 0.1439395\ttotal: 17.5s\tremaining: 9.22s\n",
      "655:\tlearn: 0.1439247\ttotal: 17.5s\tremaining: 9.2s\n",
      "656:\tlearn: 0.1439141\ttotal: 17.6s\tremaining: 9.17s\n",
      "657:\tlearn: 0.1438967\ttotal: 17.6s\tremaining: 9.14s\n",
      "658:\tlearn: 0.1438868\ttotal: 17.6s\tremaining: 9.11s\n",
      "659:\tlearn: 0.1438594\ttotal: 17.6s\tremaining: 9.09s\n",
      "660:\tlearn: 0.1438385\ttotal: 17.7s\tremaining: 9.06s\n",
      "661:\tlearn: 0.1438133\ttotal: 17.7s\tremaining: 9.03s\n",
      "662:\tlearn: 0.1437976\ttotal: 17.7s\tremaining: 9s\n",
      "663:\tlearn: 0.1437645\ttotal: 17.7s\tremaining: 8.97s\n",
      "664:\tlearn: 0.1437554\ttotal: 17.8s\tremaining: 8.94s\n",
      "665:\tlearn: 0.1437298\ttotal: 17.8s\tremaining: 8.91s\n",
      "666:\tlearn: 0.1436849\ttotal: 17.8s\tremaining: 8.88s\n",
      "667:\tlearn: 0.1436678\ttotal: 17.8s\tremaining: 8.86s\n",
      "668:\tlearn: 0.1436499\ttotal: 17.8s\tremaining: 8.83s\n",
      "669:\tlearn: 0.1436268\ttotal: 17.9s\tremaining: 8.8s\n",
      "670:\tlearn: 0.1435965\ttotal: 17.9s\tremaining: 8.77s\n",
      "671:\tlearn: 0.1435661\ttotal: 17.9s\tremaining: 8.75s\n",
      "672:\tlearn: 0.1435229\ttotal: 17.9s\tremaining: 8.72s\n",
      "673:\tlearn: 0.1434956\ttotal: 18s\tremaining: 8.69s\n",
      "674:\tlearn: 0.1434764\ttotal: 18s\tremaining: 8.66s\n",
      "675:\tlearn: 0.1434572\ttotal: 18s\tremaining: 8.64s\n",
      "676:\tlearn: 0.1434441\ttotal: 18s\tremaining: 8.61s\n",
      "677:\tlearn: 0.1434241\ttotal: 18.1s\tremaining: 8.58s\n",
      "678:\tlearn: 0.1433987\ttotal: 18.1s\tremaining: 8.55s\n",
      "679:\tlearn: 0.1433831\ttotal: 18.1s\tremaining: 8.53s\n",
      "680:\tlearn: 0.1433692\ttotal: 18.1s\tremaining: 8.5s\n",
      "681:\tlearn: 0.1433295\ttotal: 18.2s\tremaining: 8.47s\n",
      "682:\tlearn: 0.1433189\ttotal: 18.2s\tremaining: 8.44s\n",
      "683:\tlearn: 0.1432829\ttotal: 18.2s\tremaining: 8.42s\n",
      "684:\tlearn: 0.1432508\ttotal: 18.2s\tremaining: 8.39s\n",
      "685:\tlearn: 0.1432422\ttotal: 18.3s\tremaining: 8.36s\n",
      "686:\tlearn: 0.1432236\ttotal: 18.3s\tremaining: 8.33s\n",
      "687:\tlearn: 0.1432012\ttotal: 18.3s\tremaining: 8.3s\n",
      "688:\tlearn: 0.1431894\ttotal: 18.3s\tremaining: 8.28s\n",
      "689:\tlearn: 0.1431445\ttotal: 18.4s\tremaining: 8.25s\n",
      "690:\tlearn: 0.1431114\ttotal: 18.4s\tremaining: 8.22s\n",
      "691:\tlearn: 0.1430913\ttotal: 18.4s\tremaining: 8.2s\n",
      "692:\tlearn: 0.1430626\ttotal: 18.4s\tremaining: 8.17s\n",
      "693:\tlearn: 0.1430466\ttotal: 18.5s\tremaining: 8.14s\n",
      "694:\tlearn: 0.1430332\ttotal: 18.5s\tremaining: 8.12s\n",
      "695:\tlearn: 0.1430189\ttotal: 18.5s\tremaining: 8.09s\n",
      "696:\tlearn: 0.1429742\ttotal: 18.5s\tremaining: 8.06s\n",
      "697:\tlearn: 0.1429543\ttotal: 18.6s\tremaining: 8.03s\n",
      "698:\tlearn: 0.1429156\ttotal: 18.6s\tremaining: 8.01s\n",
      "699:\tlearn: 0.1429027\ttotal: 18.6s\tremaining: 7.98s\n",
      "700:\tlearn: 0.1428867\ttotal: 18.6s\tremaining: 7.95s\n",
      "701:\tlearn: 0.1428544\ttotal: 18.7s\tremaining: 7.93s\n",
      "702:\tlearn: 0.1428009\ttotal: 18.7s\tremaining: 7.9s\n",
      "703:\tlearn: 0.1427898\ttotal: 18.7s\tremaining: 7.87s\n",
      "704:\tlearn: 0.1427634\ttotal: 18.7s\tremaining: 7.84s\n",
      "705:\tlearn: 0.1427328\ttotal: 18.8s\tremaining: 7.82s\n",
      "706:\tlearn: 0.1426904\ttotal: 18.8s\tremaining: 7.79s\n",
      "707:\tlearn: 0.1426732\ttotal: 18.8s\tremaining: 7.76s\n",
      "708:\tlearn: 0.1426190\ttotal: 18.9s\tremaining: 7.74s\n",
      "709:\tlearn: 0.1425781\ttotal: 18.9s\tremaining: 7.71s\n",
      "710:\tlearn: 0.1425431\ttotal: 18.9s\tremaining: 7.68s\n",
      "711:\tlearn: 0.1425208\ttotal: 18.9s\tremaining: 7.66s\n",
      "712:\tlearn: 0.1424892\ttotal: 18.9s\tremaining: 7.63s\n",
      "713:\tlearn: 0.1424508\ttotal: 19s\tremaining: 7.6s\n",
      "714:\tlearn: 0.1423883\ttotal: 19s\tremaining: 7.57s\n",
      "715:\tlearn: 0.1423561\ttotal: 19s\tremaining: 7.55s\n",
      "716:\tlearn: 0.1423380\ttotal: 19s\tremaining: 7.52s\n",
      "717:\tlearn: 0.1423182\ttotal: 19.1s\tremaining: 7.49s\n",
      "718:\tlearn: 0.1423042\ttotal: 19.1s\tremaining: 7.46s\n",
      "719:\tlearn: 0.1422767\ttotal: 19.1s\tremaining: 7.43s\n",
      "720:\tlearn: 0.1422629\ttotal: 19.1s\tremaining: 7.41s\n",
      "721:\tlearn: 0.1422266\ttotal: 19.2s\tremaining: 7.38s\n",
      "722:\tlearn: 0.1422036\ttotal: 19.2s\tremaining: 7.35s\n",
      "723:\tlearn: 0.1421735\ttotal: 19.2s\tremaining: 7.33s\n",
      "724:\tlearn: 0.1421637\ttotal: 19.2s\tremaining: 7.3s\n",
      "725:\tlearn: 0.1421480\ttotal: 19.3s\tremaining: 7.27s\n",
      "726:\tlearn: 0.1421414\ttotal: 19.3s\tremaining: 7.24s\n",
      "727:\tlearn: 0.1421032\ttotal: 19.3s\tremaining: 7.21s\n",
      "728:\tlearn: 0.1420862\ttotal: 19.3s\tremaining: 7.19s\n",
      "729:\tlearn: 0.1420766\ttotal: 19.4s\tremaining: 7.16s\n",
      "730:\tlearn: 0.1420555\ttotal: 19.4s\tremaining: 7.13s\n",
      "731:\tlearn: 0.1420363\ttotal: 19.4s\tremaining: 7.11s\n",
      "732:\tlearn: 0.1420185\ttotal: 19.4s\tremaining: 7.08s\n",
      "733:\tlearn: 0.1419879\ttotal: 19.5s\tremaining: 7.05s\n",
      "734:\tlearn: 0.1419745\ttotal: 19.5s\tremaining: 7.02s\n",
      "735:\tlearn: 0.1419664\ttotal: 19.5s\tremaining: 6.99s\n",
      "736:\tlearn: 0.1419550\ttotal: 19.5s\tremaining: 6.97s\n",
      "737:\tlearn: 0.1418933\ttotal: 19.6s\tremaining: 6.94s\n",
      "738:\tlearn: 0.1418757\ttotal: 19.6s\tremaining: 6.91s\n",
      "739:\tlearn: 0.1418397\ttotal: 19.6s\tremaining: 6.89s\n",
      "740:\tlearn: 0.1417916\ttotal: 19.6s\tremaining: 6.86s\n",
      "741:\tlearn: 0.1417513\ttotal: 19.7s\tremaining: 6.84s\n",
      "742:\tlearn: 0.1417419\ttotal: 19.7s\tremaining: 6.82s\n",
      "743:\tlearn: 0.1417201\ttotal: 19.7s\tremaining: 6.79s\n",
      "744:\tlearn: 0.1416956\ttotal: 19.8s\tremaining: 6.77s\n",
      "745:\tlearn: 0.1416419\ttotal: 19.8s\tremaining: 6.75s\n",
      "746:\tlearn: 0.1416173\ttotal: 19.9s\tremaining: 6.72s\n",
      "747:\tlearn: 0.1415814\ttotal: 19.9s\tremaining: 6.7s\n",
      "748:\tlearn: 0.1415572\ttotal: 19.9s\tremaining: 6.68s\n",
      "749:\tlearn: 0.1415344\ttotal: 20s\tremaining: 6.66s\n",
      "750:\tlearn: 0.1415036\ttotal: 20s\tremaining: 6.63s\n",
      "751:\tlearn: 0.1414690\ttotal: 20s\tremaining: 6.61s\n",
      "752:\tlearn: 0.1414517\ttotal: 20.1s\tremaining: 6.58s\n",
      "753:\tlearn: 0.1414007\ttotal: 20.1s\tremaining: 6.56s\n",
      "754:\tlearn: 0.1413854\ttotal: 20.1s\tremaining: 6.54s\n",
      "755:\tlearn: 0.1413378\ttotal: 20.2s\tremaining: 6.51s\n",
      "756:\tlearn: 0.1413291\ttotal: 20.2s\tremaining: 6.48s\n",
      "757:\tlearn: 0.1413123\ttotal: 20.2s\tremaining: 6.45s\n",
      "758:\tlearn: 0.1412601\ttotal: 20.2s\tremaining: 6.43s\n",
      "759:\tlearn: 0.1412461\ttotal: 20.3s\tremaining: 6.4s\n",
      "760:\tlearn: 0.1412052\ttotal: 20.3s\tremaining: 6.37s\n",
      "761:\tlearn: 0.1411791\ttotal: 20.3s\tremaining: 6.34s\n",
      "762:\tlearn: 0.1411444\ttotal: 20.3s\tremaining: 6.32s\n",
      "763:\tlearn: 0.1411074\ttotal: 20.4s\tremaining: 6.29s\n",
      "764:\tlearn: 0.1410723\ttotal: 20.4s\tremaining: 6.26s\n",
      "765:\tlearn: 0.1410420\ttotal: 20.4s\tremaining: 6.24s\n",
      "766:\tlearn: 0.1410128\ttotal: 20.5s\tremaining: 6.21s\n",
      "767:\tlearn: 0.1409778\ttotal: 20.5s\tremaining: 6.19s\n",
      "768:\tlearn: 0.1409524\ttotal: 20.5s\tremaining: 6.16s\n",
      "769:\tlearn: 0.1409144\ttotal: 20.5s\tremaining: 6.13s\n",
      "770:\tlearn: 0.1408906\ttotal: 20.6s\tremaining: 6.11s\n",
      "771:\tlearn: 0.1408692\ttotal: 20.6s\tremaining: 6.08s\n",
      "772:\tlearn: 0.1408532\ttotal: 20.6s\tremaining: 6.05s\n",
      "773:\tlearn: 0.1408133\ttotal: 20.6s\tremaining: 6.02s\n",
      "774:\tlearn: 0.1407986\ttotal: 20.7s\tremaining: 6s\n",
      "775:\tlearn: 0.1407827\ttotal: 20.7s\tremaining: 5.98s\n",
      "776:\tlearn: 0.1407690\ttotal: 20.7s\tremaining: 5.95s\n",
      "777:\tlearn: 0.1407442\ttotal: 20.8s\tremaining: 5.92s\n",
      "778:\tlearn: 0.1407076\ttotal: 20.8s\tremaining: 5.9s\n",
      "779:\tlearn: 0.1406771\ttotal: 20.8s\tremaining: 5.87s\n",
      "780:\tlearn: 0.1406524\ttotal: 20.8s\tremaining: 5.84s\n",
      "781:\tlearn: 0.1406372\ttotal: 20.9s\tremaining: 5.82s\n",
      "782:\tlearn: 0.1406313\ttotal: 20.9s\tremaining: 5.79s\n",
      "783:\tlearn: 0.1406209\ttotal: 20.9s\tremaining: 5.76s\n",
      "784:\tlearn: 0.1406081\ttotal: 20.9s\tremaining: 5.74s\n",
      "785:\tlearn: 0.1405736\ttotal: 21s\tremaining: 5.71s\n",
      "786:\tlearn: 0.1405530\ttotal: 21s\tremaining: 5.68s\n",
      "787:\tlearn: 0.1405455\ttotal: 21s\tremaining: 5.65s\n",
      "788:\tlearn: 0.1405223\ttotal: 21s\tremaining: 5.62s\n",
      "789:\tlearn: 0.1405008\ttotal: 21.1s\tremaining: 5.6s\n",
      "790:\tlearn: 0.1404793\ttotal: 21.1s\tremaining: 5.57s\n",
      "791:\tlearn: 0.1404563\ttotal: 21.1s\tremaining: 5.54s\n",
      "792:\tlearn: 0.1404353\ttotal: 21.1s\tremaining: 5.52s\n",
      "793:\tlearn: 0.1404152\ttotal: 21.2s\tremaining: 5.49s\n",
      "794:\tlearn: 0.1403967\ttotal: 21.2s\tremaining: 5.46s\n",
      "795:\tlearn: 0.1403599\ttotal: 21.2s\tremaining: 5.43s\n",
      "796:\tlearn: 0.1403445\ttotal: 21.2s\tremaining: 5.41s\n",
      "797:\tlearn: 0.1403113\ttotal: 21.2s\tremaining: 5.38s\n",
      "798:\tlearn: 0.1403013\ttotal: 21.3s\tremaining: 5.35s\n",
      "799:\tlearn: 0.1402659\ttotal: 21.3s\tremaining: 5.32s\n",
      "800:\tlearn: 0.1402538\ttotal: 21.3s\tremaining: 5.3s\n",
      "801:\tlearn: 0.1402368\ttotal: 21.3s\tremaining: 5.27s\n",
      "802:\tlearn: 0.1402014\ttotal: 21.4s\tremaining: 5.24s\n",
      "803:\tlearn: 0.1401720\ttotal: 21.4s\tremaining: 5.21s\n",
      "804:\tlearn: 0.1401411\ttotal: 21.4s\tremaining: 5.19s\n",
      "805:\tlearn: 0.1401184\ttotal: 21.5s\tremaining: 5.17s\n",
      "806:\tlearn: 0.1400930\ttotal: 21.5s\tremaining: 5.14s\n",
      "807:\tlearn: 0.1400772\ttotal: 21.5s\tremaining: 5.11s\n",
      "808:\tlearn: 0.1400633\ttotal: 21.5s\tremaining: 5.08s\n",
      "809:\tlearn: 0.1400453\ttotal: 21.6s\tremaining: 5.06s\n",
      "810:\tlearn: 0.1400204\ttotal: 21.6s\tremaining: 5.03s\n",
      "811:\tlearn: 0.1399817\ttotal: 21.6s\tremaining: 5s\n"
     ]
    },
    {
     "name": "stdout",
     "output_type": "stream",
     "text": [
      "812:\tlearn: 0.1399683\ttotal: 21.6s\tremaining: 4.98s\n",
      "813:\tlearn: 0.1399401\ttotal: 21.7s\tremaining: 4.95s\n",
      "814:\tlearn: 0.1399250\ttotal: 21.7s\tremaining: 4.92s\n",
      "815:\tlearn: 0.1399095\ttotal: 21.7s\tremaining: 4.9s\n",
      "816:\tlearn: 0.1398909\ttotal: 21.7s\tremaining: 4.87s\n",
      "817:\tlearn: 0.1398606\ttotal: 21.8s\tremaining: 4.84s\n",
      "818:\tlearn: 0.1398547\ttotal: 21.8s\tremaining: 4.81s\n",
      "819:\tlearn: 0.1398222\ttotal: 21.8s\tremaining: 4.79s\n",
      "820:\tlearn: 0.1398109\ttotal: 21.8s\tremaining: 4.76s\n",
      "821:\tlearn: 0.1397925\ttotal: 21.9s\tremaining: 4.73s\n",
      "822:\tlearn: 0.1397331\ttotal: 21.9s\tremaining: 4.71s\n",
      "823:\tlearn: 0.1397040\ttotal: 21.9s\tremaining: 4.68s\n",
      "824:\tlearn: 0.1396859\ttotal: 21.9s\tremaining: 4.65s\n",
      "825:\tlearn: 0.1396382\ttotal: 22s\tremaining: 4.62s\n",
      "826:\tlearn: 0.1396006\ttotal: 22s\tremaining: 4.6s\n",
      "827:\tlearn: 0.1395527\ttotal: 22s\tremaining: 4.57s\n",
      "828:\tlearn: 0.1395320\ttotal: 22s\tremaining: 4.54s\n",
      "829:\tlearn: 0.1394900\ttotal: 22.1s\tremaining: 4.52s\n",
      "830:\tlearn: 0.1394583\ttotal: 22.1s\tremaining: 4.49s\n",
      "831:\tlearn: 0.1394301\ttotal: 22.1s\tremaining: 4.46s\n",
      "832:\tlearn: 0.1394129\ttotal: 22.1s\tremaining: 4.43s\n",
      "833:\tlearn: 0.1393804\ttotal: 22.1s\tremaining: 4.41s\n",
      "834:\tlearn: 0.1393442\ttotal: 22.2s\tremaining: 4.38s\n",
      "835:\tlearn: 0.1393325\ttotal: 22.2s\tremaining: 4.35s\n",
      "836:\tlearn: 0.1393143\ttotal: 22.2s\tremaining: 4.33s\n",
      "837:\tlearn: 0.1393077\ttotal: 22.2s\tremaining: 4.3s\n",
      "838:\tlearn: 0.1392855\ttotal: 22.3s\tremaining: 4.27s\n",
      "839:\tlearn: 0.1392756\ttotal: 22.3s\tremaining: 4.25s\n",
      "840:\tlearn: 0.1392604\ttotal: 22.3s\tremaining: 4.22s\n",
      "841:\tlearn: 0.1392416\ttotal: 22.3s\tremaining: 4.19s\n",
      "842:\tlearn: 0.1392106\ttotal: 22.4s\tremaining: 4.16s\n",
      "843:\tlearn: 0.1391869\ttotal: 22.4s\tremaining: 4.14s\n",
      "844:\tlearn: 0.1391703\ttotal: 22.4s\tremaining: 4.11s\n",
      "845:\tlearn: 0.1391589\ttotal: 22.4s\tremaining: 4.08s\n",
      "846:\tlearn: 0.1391225\ttotal: 22.5s\tremaining: 4.06s\n",
      "847:\tlearn: 0.1391052\ttotal: 22.5s\tremaining: 4.03s\n",
      "848:\tlearn: 0.1390961\ttotal: 22.5s\tremaining: 4s\n",
      "849:\tlearn: 0.1390504\ttotal: 22.5s\tremaining: 3.98s\n",
      "850:\tlearn: 0.1390356\ttotal: 22.6s\tremaining: 3.95s\n",
      "851:\tlearn: 0.1390102\ttotal: 22.6s\tremaining: 3.92s\n",
      "852:\tlearn: 0.1389907\ttotal: 22.6s\tremaining: 3.9s\n",
      "853:\tlearn: 0.1389567\ttotal: 22.6s\tremaining: 3.87s\n",
      "854:\tlearn: 0.1389465\ttotal: 22.7s\tremaining: 3.84s\n",
      "855:\tlearn: 0.1389242\ttotal: 22.7s\tremaining: 3.81s\n",
      "856:\tlearn: 0.1388914\ttotal: 22.7s\tremaining: 3.79s\n",
      "857:\tlearn: 0.1388594\ttotal: 22.7s\tremaining: 3.76s\n",
      "858:\tlearn: 0.1388352\ttotal: 22.7s\tremaining: 3.73s\n",
      "859:\tlearn: 0.1387986\ttotal: 22.8s\tremaining: 3.71s\n",
      "860:\tlearn: 0.1387809\ttotal: 22.8s\tremaining: 3.68s\n",
      "861:\tlearn: 0.1387542\ttotal: 22.8s\tremaining: 3.65s\n",
      "862:\tlearn: 0.1387229\ttotal: 22.8s\tremaining: 3.63s\n",
      "863:\tlearn: 0.1386833\ttotal: 22.9s\tremaining: 3.6s\n",
      "864:\tlearn: 0.1386562\ttotal: 22.9s\tremaining: 3.57s\n",
      "865:\tlearn: 0.1386497\ttotal: 22.9s\tremaining: 3.54s\n",
      "866:\tlearn: 0.1386119\ttotal: 22.9s\tremaining: 3.52s\n",
      "867:\tlearn: 0.1385591\ttotal: 23s\tremaining: 3.49s\n",
      "868:\tlearn: 0.1385357\ttotal: 23s\tremaining: 3.46s\n",
      "869:\tlearn: 0.1385034\ttotal: 23s\tremaining: 3.44s\n",
      "870:\tlearn: 0.1384846\ttotal: 23s\tremaining: 3.41s\n",
      "871:\tlearn: 0.1384546\ttotal: 23.1s\tremaining: 3.39s\n",
      "872:\tlearn: 0.1384294\ttotal: 23.1s\tremaining: 3.36s\n",
      "873:\tlearn: 0.1384169\ttotal: 23.1s\tremaining: 3.33s\n",
      "874:\tlearn: 0.1383961\ttotal: 23.1s\tremaining: 3.3s\n",
      "875:\tlearn: 0.1383849\ttotal: 23.2s\tremaining: 3.28s\n",
      "876:\tlearn: 0.1383598\ttotal: 23.2s\tremaining: 3.25s\n",
      "877:\tlearn: 0.1383457\ttotal: 23.2s\tremaining: 3.23s\n",
      "878:\tlearn: 0.1383182\ttotal: 23.2s\tremaining: 3.2s\n",
      "879:\tlearn: 0.1383052\ttotal: 23.3s\tremaining: 3.17s\n",
      "880:\tlearn: 0.1382873\ttotal: 23.3s\tremaining: 3.15s\n",
      "881:\tlearn: 0.1382755\ttotal: 23.3s\tremaining: 3.12s\n",
      "882:\tlearn: 0.1382587\ttotal: 23.3s\tremaining: 3.09s\n",
      "883:\tlearn: 0.1382246\ttotal: 23.4s\tremaining: 3.07s\n",
      "884:\tlearn: 0.1382063\ttotal: 23.4s\tremaining: 3.04s\n",
      "885:\tlearn: 0.1381989\ttotal: 23.4s\tremaining: 3.02s\n",
      "886:\tlearn: 0.1381696\ttotal: 23.5s\tremaining: 2.99s\n",
      "887:\tlearn: 0.1381564\ttotal: 23.5s\tremaining: 2.96s\n",
      "888:\tlearn: 0.1381319\ttotal: 23.5s\tremaining: 2.94s\n",
      "889:\tlearn: 0.1381119\ttotal: 23.6s\tremaining: 2.91s\n",
      "890:\tlearn: 0.1380955\ttotal: 23.6s\tremaining: 2.88s\n",
      "891:\tlearn: 0.1380729\ttotal: 23.6s\tremaining: 2.86s\n",
      "892:\tlearn: 0.1380531\ttotal: 23.6s\tremaining: 2.83s\n",
      "893:\tlearn: 0.1380264\ttotal: 23.7s\tremaining: 2.81s\n",
      "894:\tlearn: 0.1379882\ttotal: 23.7s\tremaining: 2.78s\n",
      "895:\tlearn: 0.1379695\ttotal: 23.7s\tremaining: 2.76s\n",
      "896:\tlearn: 0.1379391\ttotal: 23.8s\tremaining: 2.73s\n",
      "897:\tlearn: 0.1379172\ttotal: 23.8s\tremaining: 2.7s\n",
      "898:\tlearn: 0.1378926\ttotal: 23.8s\tremaining: 2.68s\n",
      "899:\tlearn: 0.1378714\ttotal: 23.9s\tremaining: 2.65s\n",
      "900:\tlearn: 0.1378537\ttotal: 23.9s\tremaining: 2.63s\n",
      "901:\tlearn: 0.1378248\ttotal: 23.9s\tremaining: 2.6s\n",
      "902:\tlearn: 0.1377958\ttotal: 24s\tremaining: 2.57s\n",
      "903:\tlearn: 0.1377672\ttotal: 24s\tremaining: 2.55s\n",
      "904:\tlearn: 0.1377325\ttotal: 24s\tremaining: 2.52s\n",
      "905:\tlearn: 0.1377203\ttotal: 24s\tremaining: 2.49s\n",
      "906:\tlearn: 0.1377002\ttotal: 24.1s\tremaining: 2.47s\n",
      "907:\tlearn: 0.1376802\ttotal: 24.1s\tremaining: 2.44s\n",
      "908:\tlearn: 0.1376412\ttotal: 24.1s\tremaining: 2.41s\n",
      "909:\tlearn: 0.1376391\ttotal: 24.1s\tremaining: 2.39s\n",
      "910:\tlearn: 0.1376300\ttotal: 24.2s\tremaining: 2.36s\n",
      "911:\tlearn: 0.1376160\ttotal: 24.2s\tremaining: 2.33s\n",
      "912:\tlearn: 0.1375906\ttotal: 24.2s\tremaining: 2.31s\n",
      "913:\tlearn: 0.1375680\ttotal: 24.2s\tremaining: 2.28s\n",
      "914:\tlearn: 0.1375478\ttotal: 24.2s\tremaining: 2.25s\n",
      "915:\tlearn: 0.1375294\ttotal: 24.3s\tremaining: 2.23s\n",
      "916:\tlearn: 0.1374899\ttotal: 24.3s\tremaining: 2.2s\n",
      "917:\tlearn: 0.1374612\ttotal: 24.4s\tremaining: 2.18s\n",
      "918:\tlearn: 0.1374216\ttotal: 24.4s\tremaining: 2.15s\n",
      "919:\tlearn: 0.1373948\ttotal: 24.4s\tremaining: 2.12s\n",
      "920:\tlearn: 0.1373702\ttotal: 24.5s\tremaining: 2.1s\n",
      "921:\tlearn: 0.1373504\ttotal: 24.5s\tremaining: 2.07s\n",
      "922:\tlearn: 0.1373327\ttotal: 24.5s\tremaining: 2.05s\n",
      "923:\tlearn: 0.1373171\ttotal: 24.6s\tremaining: 2.02s\n",
      "924:\tlearn: 0.1372925\ttotal: 24.6s\tremaining: 1.99s\n",
      "925:\tlearn: 0.1372525\ttotal: 24.6s\tremaining: 1.97s\n",
      "926:\tlearn: 0.1372334\ttotal: 24.6s\tremaining: 1.94s\n",
      "927:\tlearn: 0.1372130\ttotal: 24.7s\tremaining: 1.92s\n",
      "928:\tlearn: 0.1371837\ttotal: 24.7s\tremaining: 1.89s\n",
      "929:\tlearn: 0.1371592\ttotal: 24.7s\tremaining: 1.86s\n",
      "930:\tlearn: 0.1371379\ttotal: 24.8s\tremaining: 1.84s\n",
      "931:\tlearn: 0.1371152\ttotal: 24.8s\tremaining: 1.81s\n",
      "932:\tlearn: 0.1370958\ttotal: 24.8s\tremaining: 1.78s\n",
      "933:\tlearn: 0.1370902\ttotal: 24.9s\tremaining: 1.76s\n",
      "934:\tlearn: 0.1370490\ttotal: 24.9s\tremaining: 1.73s\n",
      "935:\tlearn: 0.1370382\ttotal: 24.9s\tremaining: 1.7s\n",
      "936:\tlearn: 0.1370167\ttotal: 25s\tremaining: 1.68s\n",
      "937:\tlearn: 0.1370032\ttotal: 25s\tremaining: 1.65s\n",
      "938:\tlearn: 0.1369941\ttotal: 25s\tremaining: 1.63s\n",
      "939:\tlearn: 0.1369764\ttotal: 25s\tremaining: 1.6s\n",
      "940:\tlearn: 0.1369477\ttotal: 25.1s\tremaining: 1.57s\n",
      "941:\tlearn: 0.1369299\ttotal: 25.1s\tremaining: 1.54s\n",
      "942:\tlearn: 0.1369035\ttotal: 25.1s\tremaining: 1.52s\n",
      "943:\tlearn: 0.1368863\ttotal: 25.2s\tremaining: 1.49s\n",
      "944:\tlearn: 0.1368770\ttotal: 25.2s\tremaining: 1.47s\n",
      "945:\tlearn: 0.1368728\ttotal: 25.2s\tremaining: 1.44s\n",
      "946:\tlearn: 0.1368471\ttotal: 25.3s\tremaining: 1.41s\n",
      "947:\tlearn: 0.1368172\ttotal: 25.3s\tremaining: 1.39s\n",
      "948:\tlearn: 0.1367885\ttotal: 25.3s\tremaining: 1.36s\n",
      "949:\tlearn: 0.1367803\ttotal: 25.3s\tremaining: 1.33s\n",
      "950:\tlearn: 0.1367650\ttotal: 25.4s\tremaining: 1.31s\n",
      "951:\tlearn: 0.1367523\ttotal: 25.4s\tremaining: 1.28s\n",
      "952:\tlearn: 0.1367355\ttotal: 25.4s\tremaining: 1.25s\n",
      "953:\tlearn: 0.1366965\ttotal: 25.5s\tremaining: 1.23s\n",
      "954:\tlearn: 0.1366764\ttotal: 25.5s\tremaining: 1.2s\n",
      "955:\tlearn: 0.1366680\ttotal: 25.5s\tremaining: 1.18s\n",
      "956:\tlearn: 0.1366496\ttotal: 25.6s\tremaining: 1.15s\n",
      "957:\tlearn: 0.1366132\ttotal: 25.6s\tremaining: 1.12s\n",
      "958:\tlearn: 0.1365757\ttotal: 25.6s\tremaining: 1.09s\n",
      "959:\tlearn: 0.1365530\ttotal: 25.6s\tremaining: 1.07s\n",
      "960:\tlearn: 0.1365330\ttotal: 25.7s\tremaining: 1.04s\n",
      "961:\tlearn: 0.1365091\ttotal: 25.7s\tremaining: 1.01s\n",
      "962:\tlearn: 0.1364781\ttotal: 25.7s\tremaining: 988ms\n",
      "963:\tlearn: 0.1364606\ttotal: 25.7s\tremaining: 961ms\n",
      "964:\tlearn: 0.1364370\ttotal: 25.8s\tremaining: 935ms\n",
      "965:\tlearn: 0.1364254\ttotal: 25.8s\tremaining: 908ms\n",
      "966:\tlearn: 0.1364011\ttotal: 25.8s\tremaining: 881ms\n",
      "967:\tlearn: 0.1363937\ttotal: 25.9s\tremaining: 855ms\n",
      "968:\tlearn: 0.1363753\ttotal: 25.9s\tremaining: 828ms\n",
      "969:\tlearn: 0.1363532\ttotal: 25.9s\tremaining: 801ms\n",
      "970:\tlearn: 0.1363400\ttotal: 25.9s\tremaining: 774ms\n",
      "971:\tlearn: 0.1363283\ttotal: 25.9s\tremaining: 747ms\n",
      "972:\tlearn: 0.1363219\ttotal: 26s\tremaining: 720ms\n"
     ]
    },
    {
     "name": "stdout",
     "output_type": "stream",
     "text": [
      "973:\tlearn: 0.1363060\ttotal: 26s\tremaining: 694ms\n",
      "974:\tlearn: 0.1362868\ttotal: 26s\tremaining: 667ms\n",
      "975:\tlearn: 0.1362739\ttotal: 26s\tremaining: 640ms\n",
      "976:\tlearn: 0.1362447\ttotal: 26.1s\tremaining: 614ms\n",
      "977:\tlearn: 0.1362263\ttotal: 26.1s\tremaining: 587ms\n",
      "978:\tlearn: 0.1361927\ttotal: 26.1s\tremaining: 561ms\n",
      "979:\tlearn: 0.1361728\ttotal: 26.2s\tremaining: 534ms\n",
      "980:\tlearn: 0.1361531\ttotal: 26.2s\tremaining: 508ms\n",
      "981:\tlearn: 0.1361320\ttotal: 26.3s\tremaining: 481ms\n",
      "982:\tlearn: 0.1361135\ttotal: 26.3s\tremaining: 455ms\n",
      "983:\tlearn: 0.1360944\ttotal: 26.3s\tremaining: 428ms\n",
      "984:\tlearn: 0.1360837\ttotal: 26.3s\tremaining: 401ms\n",
      "985:\tlearn: 0.1360564\ttotal: 26.4s\tremaining: 374ms\n",
      "986:\tlearn: 0.1360343\ttotal: 26.4s\tremaining: 348ms\n",
      "987:\tlearn: 0.1360103\ttotal: 26.4s\tremaining: 321ms\n",
      "988:\tlearn: 0.1359845\ttotal: 26.4s\tremaining: 294ms\n",
      "989:\tlearn: 0.1359671\ttotal: 26.5s\tremaining: 267ms\n",
      "990:\tlearn: 0.1359535\ttotal: 26.5s\tremaining: 240ms\n",
      "991:\tlearn: 0.1359293\ttotal: 26.5s\tremaining: 214ms\n",
      "992:\tlearn: 0.1358958\ttotal: 26.5s\tremaining: 187ms\n",
      "993:\tlearn: 0.1358687\ttotal: 26.6s\tremaining: 160ms\n",
      "994:\tlearn: 0.1358547\ttotal: 26.6s\tremaining: 134ms\n",
      "995:\tlearn: 0.1358302\ttotal: 26.6s\tremaining: 107ms\n",
      "996:\tlearn: 0.1358008\ttotal: 26.6s\tremaining: 80.1ms\n",
      "997:\tlearn: 0.1357734\ttotal: 26.7s\tremaining: 53.4ms\n",
      "998:\tlearn: 0.1357609\ttotal: 26.7s\tremaining: 26.7ms\n",
      "999:\tlearn: 0.1357389\ttotal: 26.7s\tremaining: 0us\n"
     ]
    },
    {
     "data": {
      "text/plain": [
       "<catboost.core.CatBoostClassifier at 0x249b4ce2100>"
      ]
     },
     "execution_count": 68,
     "metadata": {},
     "output_type": "execute_result"
    }
   ],
   "source": [
    "from catboost import CatBoostClassifier\n",
    "\n",
    "cat = CatBoostClassifier()\n",
    "cat.fit(X_train, Y_train)"
   ]
  },
  {
   "cell_type": "code",
   "execution_count": 69,
   "metadata": {},
   "outputs": [
    {
     "name": "stdout",
     "output_type": "stream",
     "text": [
      "              precision    recall  f1-score   support\n",
      "\n",
      "           0       0.95      0.99      0.97     15058\n",
      "           1       0.76      0.41      0.53      1385\n",
      "\n",
      "    accuracy                           0.94     16443\n",
      "   macro avg       0.85      0.70      0.75     16443\n",
      "weighted avg       0.93      0.94      0.93     16443\n",
      "\n"
     ]
    }
   ],
   "source": [
    "cat_pred = cat.predict_proba(X_test)\n",
    "proba = []\n",
    "for prob in cat_pred:\n",
    "    if(prob[0] > 0.68):\n",
    "        proba.append(0)\n",
    "    else:\n",
    "        proba.append(1)\n",
    "print(classification_report(Y_test, proba))"
   ]
  },
  {
   "cell_type": "code",
   "execution_count": 70,
   "metadata": {},
   "outputs": [
    {
     "data": {
      "text/plain": [
       "0.5328330206378987"
      ]
     },
     "execution_count": 70,
     "metadata": {},
     "output_type": "execute_result"
    }
   ],
   "source": [
    "f1_score(Y_test, proba)"
   ]
  },
  {
   "cell_type": "code",
   "execution_count": null,
   "metadata": {},
   "outputs": [],
   "source": []
  }
 ],
 "metadata": {
  "kernelspec": {
   "display_name": "Python 3",
   "language": "python",
   "name": "python3"
  },
  "language_info": {
   "codemirror_mode": {
    "name": "ipython",
    "version": 3
   },
   "file_extension": ".py",
   "mimetype": "text/x-python",
   "name": "python",
   "nbconvert_exporter": "python",
   "pygments_lexer": "ipython3",
   "version": "3.8.5"
  }
 },
 "nbformat": 4,
 "nbformat_minor": 4
}
